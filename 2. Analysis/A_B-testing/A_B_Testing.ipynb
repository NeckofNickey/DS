{
 "cells": [
  {
   "cell_type": "markdown",
   "metadata": {},
   "source": [
    "# Проведние A/B тестирования \n",
    "__________________"
   ]
  },
  {
   "cell_type": "markdown",
   "metadata": {},
   "source": [
    "# Оглавление\n",
    "\n",
    "\n",
    "1. [Введение](#1.-Введение)\n",
    "2. [Загрузка библиотек и датасета](#2.-Загрузка-библиотек-и-датасета)    \n",
    "    2.1 [Загрузка библиотек](#2.1-Загрузка-библиотек)  \n",
    "    2.2 [Загрузка датасета](#2.2-Загрузка-датасета)\n",
    "3. [Описание датасета](#3.-Описание-датасета)\n",
    "4. [Дизайн эксперимента](#4.-Дизайн-эксперимента)  \n",
    "    4.1 [Постановка гипотезы](#4.1-Постановка-гипотезы)  \n",
    "    4.2 [Определение размера выборки](#4.2-Определение-размера-выборки)\n",
    "5. [Подготовка данных](#5.-Подготовка-данных)  \n",
    "    5.1 [Пропущенные значения](#5.1-Пропущенные-значения)  \n",
    "    5.2 [Типы признаков](#5.2-Типы-признаков)  \n",
    "    5.3 [Пересечения по сегментам](#5.3-Пересечения-по-сегментам)  \n",
    "    5.4 [Удаление дублей](#5.4-Удаление-дублей)  \n",
    "\n",
    "6. [Сэмплинг](#6.-Сэмплинг)\n",
    "7. [Рассчет конверсий](#7.-Рассчет-конверсий)\n",
    "8. [Тестирование гипотезы](#8.-Тестирование-гипотезы)\n",
    "9. [Выводы](#9.-Выводы)\n",
    "_____"
   ]
  },
  {
   "cell_type": "markdown",
   "metadata": {},
   "source": [
    "# 1. Введение\n",
    "___"
   ]
  },
  {
   "cell_type": "markdown",
   "metadata": {},
   "source": [
    "**A/B тестирование** — это  маркетинговый инструмент, с помощью которого можно повысить конверсию посадочных страниц или получить объективную информации о различных способах улучшения текущей версии продукта.\n",
    "\n",
    "Например, мы изменили дизайн нашего сайта и хотим проверить стали ли пользователи совершать на нашем сайте больше целевых действий (например, покупок). Для этого нам и понадобится A/B тестирование.\n",
    "\n",
    "**Идея A/B тестирования:** пользователи ресурса/продукта случайным образом делятся на сегменты:\n",
    "- **контрольный сегмент \"A\"** - данному сегменту демонстрируется ресурс без изменений (например, старая версия сайта), на основе данных по этому сегменту мы будем оценивать эффект от вносимых изменений. \n",
    "- **сегмент \"B\"** - данному сегменту показываем измененную версию ресурса (например, новая версия сайта).\n",
    "\n",
    "**Основные факторы А/B тестирования:**\n",
    "- измерения в сегментах нужно проводить в один и тот же период времени. Нужно исключить влияние таких факторов как сезонность, день недели, время дня, проведение крупных рекламных кампаний и акций и т.д. То есть измерения в обоих сегментах проводятся в один и тот же отрезок времени. Понятно, сайт продающий новогодние игрушки для украшения ёлки будет пользоваться большей популярностью перед новым годом, чем в июне.\n",
    "- нужно исключить влияние сегментов друг на друга, не допустить их смешивания, т.е. конкретный пользователь должен быть отнесен строго к одному сегменту.\n",
    "- исключить влияние внутренних факторов. Такими факторами могут стать действия администраторов ресурса, разработчиков, технической поддержки и т.д.\n",
    "\n",
    "В А/B тестировании **сегменты могут делиться 50/50, а могут и в других пропорциях**. Например, когда мы боимся, что изменения в ресурсе вызовут больше негатива у пользователей, имеет смысл сделать тестовый сегмент меньшей пропорции, а затем, в случае отсутсвия негативной реакции у пользователей, увеличить пропорцию тестового сегмента.  "
   ]
  },
  {
   "cell_type": "markdown",
   "metadata": {},
   "source": [
    "# 2. Загрузка библиотек и датасета\n",
    "___"
   ]
  },
  {
   "cell_type": "markdown",
   "metadata": {},
   "source": [
    "## 2.1 Загрузка библиотек"
   ]
  },
  {
   "cell_type": "code",
   "execution_count": 1,
   "metadata": {},
   "outputs": [],
   "source": [
    "import pandas as pd\n",
    "import numpy as np\n",
    "import scipy as sp\n",
    "import scipy.stats as stats\n",
    "import statsmodels.stats.api as sms\n",
    "from statsmodels.stats.proportion import proportions_ztest, proportion_confint\n",
    "from math import ceil\n",
    "\n",
    "import matplotlib as mpl\n",
    "import matplotlib.pyplot as plt\n",
    "import seaborn as sns\n",
    "import missingno as msno\n",
    "import pprint\n",
    "\n",
    "import datetime\n",
    "\n",
    "from kaggle.api.kaggle_api_extended import KaggleApi\n",
    "\n",
    "import warnings\n",
    "warnings.filterwarnings(\"ignore\")\n",
    "\n",
    "pd.options.display.float_format = '{:,.3f}'.format\n",
    "\n",
    "sns.set_theme(style=\"whitegrid\")\n",
    "\n",
    "font = {'family' : 'serif',\n",
    "        'weight' :'normal',\n",
    "        'size'   : 13}\n",
    "\n",
    "mpl.rc('font', **font)"
   ]
  },
  {
   "cell_type": "markdown",
   "metadata": {},
   "source": [
    "## 2.2 Загрузка датасета"
   ]
  },
  {
   "cell_type": "code",
   "execution_count": 2,
   "metadata": {},
   "outputs": [
    {
     "name": "stdout",
     "output_type": "stream",
     "text": [
      "ref                                                         title                                           size  lastUpdated          downloadCount  voteCount  usabilityRating  \n",
      "----------------------------------------------------------  ---------------------------------------------  -----  -------------------  -------------  ---------  ---------------  \n",
      "datasets/yufengsui/mobile-games-ab-testing                  Mobile Games: A/B Testing                      490KB  2019-07-22 08:37:03           1862         59  0.64705884       \n",
      "datasets/ttahara/birdsong-resampled-train-audio-00          birdsong resampled train audio 00 (a ~ b)       12GB  2020-07-04 13:16:57           2085         64  0.64705884       \n",
      "datasets/zhangluyuan/ab-testing                             A/B testing                                      4MB  2018-06-25 15:47:34           3948         52  0.1764706        \n",
      "datasets/chebotinaa/fast-food-marketing-campaign-ab-test    Fast Food Marketing Campaign A\\B Test            3KB  2021-09-13 15:35:57            865         26  1.0              \n",
      "datasets/ilkeryildiz/example-dataset-for-ab-test            Example Dataset for A/B Test                     2KB  2021-10-03 19:45:11            206         33  1.0              \n",
      "datasets/pablomgomez21/drugs-a-b-c-x-y-for-decision-trees   Drugs A, B, C, X, Y for Decision Trees           2KB  2021-06-26 11:13:21           1775         29  0.8235294        \n",
      "datasets/osuolaleemmanuel/ad-ab-testing                     Ad A/B Testing                                 216KB  2020-08-10 21:58:07            344          9  0.7058824        \n",
      "datasets/mursideyarkin/mobile-games-ab-testing-cookie-cats  Mobile Games A/B Testing - Cookie Cats         487KB  2021-02-10 08:16:25            238         10  1.0              \n",
      "datasets/wyattowalsh/basketball                             Basketball Dataset                             349MB  2021-09-15 03:38:00           7502        268  0.9411765        \n",
      "datasets/ahmedmohameddawoud/ecommerce-ab-testing            E-commerce A/B testing                           3MB  2021-05-31 11:10:11            198         17  0.47058824       \n",
      "datasets/uciml/breast-cancer-wisconsin-data                 Breast Cancer Wisconsin (Diagnostic) Data Set   49KB  2016-09-25 10:49:04         208706       2689  0.85294116       \n",
      "datasets/luisblanche/birdcall-singing-0                     BirdCall No Background A-B                      10GB  2020-07-14 19:56:27             69          7  0.875            \n",
      "datasets/yamaerenay/synthetical-abtests                     Synthetical A/B-Tests                            3MB  2020-09-16 12:01:22             41          5  0.8235294        \n",
      "datasets/deepu1109/star-dataset                             Star dataset to predict star types               3KB  2019-10-21 19:47:09           5668        174  1.0              \n",
      "datasets/gpreda/covid19-tweets                              COVID19 Tweets                                  28MB  2020-08-30 09:38:38          15115        491  1.0              \n",
      "datasets/faviovaz/marketing-ab-testing                      Marketing A/B Testing                            5MB  2021-10-20 14:35:45            130          6  0.88235295       \n",
      "datasets/arashnic/fitbit                                    FitBit Fitness Tracker Data                     24MB  2020-12-16 15:20:03          33045       1055  1.0              \n",
      "datasets/unanimad/us-election-2020                          US Election 2020                               429KB  2020-12-28 21:12:35          18297        532  1.0              \n",
      "datasets/jerzydziewierz/bee-vs-wasp                         Bee or wasp?                                   559MB  2020-08-23 18:07:47           2868        149  0.9411765        \n",
      "datasets/fedesoriano/body-fat-prediction-dataset            Body Fat Prediction Dataset                      7KB  2021-06-14 12:23:45           4954         70  1.0              \n"
     ]
    }
   ],
   "source": [
    "!kaggle datasets list -s 'a\\b'"
   ]
  },
  {
   "cell_type": "code",
   "execution_count": 3,
   "metadata": {},
   "outputs": [],
   "source": [
    "api = KaggleApi()\n",
    "api.authenticate()\n",
    "api.dataset_download_files(\"zhangluyuan/ab-testing\", path='C:\\\\Users\\\\ЯцкийНА\\\\Portfolio\\\\A_B-testing', unzip=True)"
   ]
  },
  {
   "cell_type": "code",
   "execution_count": 4,
   "metadata": {},
   "outputs": [],
   "source": [
    "df = pd.read_csv('ab_data.csv', parse_dates=[1])"
   ]
  },
  {
   "cell_type": "markdown",
   "metadata": {},
   "source": [
    "# 3. Описание датасета\n",
    "___"
   ]
  },
  {
   "cell_type": "markdown",
   "metadata": {},
   "source": [
    "На Kaggle отсутсвовало описание датасета. Поэтому опишем изходя из наименования признаков.\n",
    "\n",
    "В датасете содержится 294 478 строк и 5 столбцов:\n",
    "\n",
    "- **user_id:** ID пользователя.\n",
    "- **timestamp:** временная метка\n",
    "- **group:** наименование группы, к которой был отнесен пользователь - контрольная(control) или тестовая(treatment)\n",
    "- **landing_page:** дизайн веб-страницы, которую видят пользователи (старый и новый дизайн)\n",
    "- **converted:**  соверщено ли целевое действие или нет. Бинарный тип данных. 1 - совершено целевое действие, 0 - нет. \n",
    "\n",
    "Но все стобцы мы использовать не будем, для A/B тестирования понадобятся только столбцы **group и converted**."
   ]
  },
  {
   "cell_type": "code",
   "execution_count": 5,
   "metadata": {},
   "outputs": [
    {
     "data": {
      "text/html": [
       "<div>\n",
       "<style scoped>\n",
       "    .dataframe tbody tr th:only-of-type {\n",
       "        vertical-align: middle;\n",
       "    }\n",
       "\n",
       "    .dataframe tbody tr th {\n",
       "        vertical-align: top;\n",
       "    }\n",
       "\n",
       "    .dataframe thead th {\n",
       "        text-align: right;\n",
       "    }\n",
       "</style>\n",
       "<table border=\"1\" class=\"dataframe\">\n",
       "  <thead>\n",
       "    <tr style=\"text-align: right;\">\n",
       "      <th></th>\n",
       "      <th>user_id</th>\n",
       "      <th>timestamp</th>\n",
       "      <th>group</th>\n",
       "      <th>landing_page</th>\n",
       "      <th>converted</th>\n",
       "    </tr>\n",
       "  </thead>\n",
       "  <tbody>\n",
       "    <tr>\n",
       "      <th>0</th>\n",
       "      <td>851104</td>\n",
       "      <td>2017-01-21 22:11:48.556739</td>\n",
       "      <td>control</td>\n",
       "      <td>old_page</td>\n",
       "      <td>0</td>\n",
       "    </tr>\n",
       "    <tr>\n",
       "      <th>1</th>\n",
       "      <td>804228</td>\n",
       "      <td>2017-01-12 08:01:45.159739</td>\n",
       "      <td>control</td>\n",
       "      <td>old_page</td>\n",
       "      <td>0</td>\n",
       "    </tr>\n",
       "    <tr>\n",
       "      <th>2</th>\n",
       "      <td>661590</td>\n",
       "      <td>2017-01-11 16:55:06.154213</td>\n",
       "      <td>treatment</td>\n",
       "      <td>new_page</td>\n",
       "      <td>0</td>\n",
       "    </tr>\n",
       "    <tr>\n",
       "      <th>3</th>\n",
       "      <td>853541</td>\n",
       "      <td>2017-01-08 18:28:03.143765</td>\n",
       "      <td>treatment</td>\n",
       "      <td>new_page</td>\n",
       "      <td>0</td>\n",
       "    </tr>\n",
       "    <tr>\n",
       "      <th>4</th>\n",
       "      <td>864975</td>\n",
       "      <td>2017-01-21 01:52:26.210827</td>\n",
       "      <td>control</td>\n",
       "      <td>old_page</td>\n",
       "      <td>1</td>\n",
       "    </tr>\n",
       "    <tr>\n",
       "      <th>...</th>\n",
       "      <td>...</td>\n",
       "      <td>...</td>\n",
       "      <td>...</td>\n",
       "      <td>...</td>\n",
       "      <td>...</td>\n",
       "    </tr>\n",
       "    <tr>\n",
       "      <th>294473</th>\n",
       "      <td>751197</td>\n",
       "      <td>2017-01-03 22:28:38.630509</td>\n",
       "      <td>control</td>\n",
       "      <td>old_page</td>\n",
       "      <td>0</td>\n",
       "    </tr>\n",
       "    <tr>\n",
       "      <th>294474</th>\n",
       "      <td>945152</td>\n",
       "      <td>2017-01-12 00:51:57.078372</td>\n",
       "      <td>control</td>\n",
       "      <td>old_page</td>\n",
       "      <td>0</td>\n",
       "    </tr>\n",
       "    <tr>\n",
       "      <th>294475</th>\n",
       "      <td>734608</td>\n",
       "      <td>2017-01-22 11:45:03.439544</td>\n",
       "      <td>control</td>\n",
       "      <td>old_page</td>\n",
       "      <td>0</td>\n",
       "    </tr>\n",
       "    <tr>\n",
       "      <th>294476</th>\n",
       "      <td>697314</td>\n",
       "      <td>2017-01-15 01:20:28.957438</td>\n",
       "      <td>control</td>\n",
       "      <td>old_page</td>\n",
       "      <td>0</td>\n",
       "    </tr>\n",
       "    <tr>\n",
       "      <th>294477</th>\n",
       "      <td>715931</td>\n",
       "      <td>2017-01-16 12:40:24.467417</td>\n",
       "      <td>treatment</td>\n",
       "      <td>new_page</td>\n",
       "      <td>0</td>\n",
       "    </tr>\n",
       "  </tbody>\n",
       "</table>\n",
       "<p>294478 rows × 5 columns</p>\n",
       "</div>"
      ],
      "text/plain": [
       "        user_id                  timestamp      group landing_page  converted\n",
       "0        851104 2017-01-21 22:11:48.556739    control     old_page          0\n",
       "1        804228 2017-01-12 08:01:45.159739    control     old_page          0\n",
       "2        661590 2017-01-11 16:55:06.154213  treatment     new_page          0\n",
       "3        853541 2017-01-08 18:28:03.143765  treatment     new_page          0\n",
       "4        864975 2017-01-21 01:52:26.210827    control     old_page          1\n",
       "...         ...                        ...        ...          ...        ...\n",
       "294473   751197 2017-01-03 22:28:38.630509    control     old_page          0\n",
       "294474   945152 2017-01-12 00:51:57.078372    control     old_page          0\n",
       "294475   734608 2017-01-22 11:45:03.439544    control     old_page          0\n",
       "294476   697314 2017-01-15 01:20:28.957438    control     old_page          0\n",
       "294477   715931 2017-01-16 12:40:24.467417  treatment     new_page          0\n",
       "\n",
       "[294478 rows x 5 columns]"
      ]
     },
     "execution_count": 5,
     "metadata": {},
     "output_type": "execute_result"
    }
   ],
   "source": [
    "df"
   ]
  },
  {
   "cell_type": "markdown",
   "metadata": {},
   "source": [
    "# 4. Дизайн эксперимента \n",
    "__________"
   ]
  },
  {
   "cell_type": "markdown",
   "metadata": {},
   "source": [
    "## 4.1 Постановка гипотезы"
   ]
  },
  {
   "cell_type": "markdown",
   "metadata": {},
   "source": [
    "- **Нулевая гипотеза**: конверсии старой и новой версии равны.\n",
    "- **Альтернативная гипотеза**: конверсии старой и новой версии отличаются.\n",
    "\n",
    "$$H_0: \\rho = \\rho_0$$\n",
    "$$H_1: \\rho \\neq \\rho_0$$\n",
    "\n",
    "где $\\rho,\\rho_0$ коэффициенты конверсии нового и старого дизайна нашего сайта.\n",
    "\n",
    "**Уровень статистической значимости** установим **5%**, т.е $\\alpha = 0.05$. **Уровень доверия - 95%**\n",
    "\n",
    "Другими словами, мы хотим быть на 95% уверены, что коэффициент конверсии нового сайта отличается от коэффициента конверсии старого сайта, и мы не совершим ошибку первого рода. Если наша статистика попадет в критическую область, то мы отвергнем нулевую гипотезу."
   ]
  },
  {
   "cell_type": "markdown",
   "metadata": {},
   "source": [
    "## 4.2 Определение размера выборки "
   ]
  },
  {
   "cell_type": "markdown",
   "metadata": {},
   "source": [
    "Определим необходимый размер нашей выборки.\n",
    "\n",
    "В целом у нас не так много записей, поэтому можно провести анализ на всей генеральной совокупности, но для интереса проведем сэмплинг.\n",
    "\n",
    "Размер статистической выборки зависит от следующих величин:\n",
    "- **статистическая мощность**: обычно устанавоивается в районе 80-90%, ниже 80% не рекомендуется. Возмем **80%**.\n",
    "- **статистическая значимость**: у нас она равна **0,05**.\n",
    "- **величина эффекта**: в нашем случае это разница в конверсиях. Допустим, что нам достаточно разницы 2% между конверсиями старой и новой версии сайта. Также представим, что до того, как мы начали проведение нашего A/B тестирования, конверсия нашего сайта составляла **13%**, значит конверсия новой версии **15%** нас устроит. \n",
    "\n",
    "Рассчитаем размер необходимой нам выборки:"
   ]
  },
  {
   "cell_type": "code",
   "execution_count": 126,
   "metadata": {},
   "outputs": [
    {
     "name": "stdout",
     "output_type": "stream",
     "text": [
      "Нам необходимо 4720 наблюдений.\n"
     ]
    }
   ],
   "source": [
    "effect_size = sms.proportion_effectsize(0.13, 0.15)\n",
    "\n",
    "sample_size = ceil(sms.NormalIndPower().solve_power(\n",
    "    power=0.8,\n",
    "    alpha=0.05,\n",
    "    effect_size = effect_size\n",
    "))\n",
    "\n",
    "print(f'Нам необходимо {sample_size} наблюдений.')"
   ]
  },
  {
   "cell_type": "markdown",
   "metadata": {},
   "source": [
    "# 5. Подготовка данных\n",
    "_____"
   ]
  },
  {
   "cell_type": "markdown",
   "metadata": {},
   "source": [
    "## 5.1 Пропущенные значения"
   ]
  },
  {
   "cell_type": "markdown",
   "metadata": {},
   "source": [
    "Исследуем пропущенные значения"
   ]
  },
  {
   "cell_type": "code",
   "execution_count": 7,
   "metadata": {},
   "outputs": [
    {
     "data": {
      "text/plain": [
       "<AxesSubplot:>"
      ]
     },
     "execution_count": 7,
     "metadata": {},
     "output_type": "execute_result"
    },
    {
     "data": {
      "image/png": "[encoded data removed]",
      "text/plain": [
       "<Figure size 1800x720 with 3 Axes>"
      ]
     },
     "metadata": {},
     "output_type": "display_data"
    }
   ],
   "source": [
    "msno.bar(df)"
   ]
  },
  {
   "cell_type": "markdown",
   "metadata": {},
   "source": [
    "<div class=\"alert alert-block alert-info\">\n",
    "<b>Вывод:</b> Замечательно, у нас нет пропущенных значений.\n",
    "</div>"
   ]
  },
  {
   "cell_type": "markdown",
   "metadata": {},
   "source": [
    "## 5.2 Типы признаков"
   ]
  },
  {
   "cell_type": "markdown",
   "metadata": {},
   "source": [
    "Изучим типы признаков"
   ]
  },
  {
   "cell_type": "code",
   "execution_count": 127,
   "metadata": {},
   "outputs": [
    {
     "name": "stdout",
     "output_type": "stream",
     "text": [
      "<class 'pandas.core.frame.DataFrame'>\n",
      "Int64Index: 286690 entries, 0 to 294477\n",
      "Data columns (total 5 columns):\n",
      " #   Column        Non-Null Count   Dtype         \n",
      "---  ------        --------------   -----         \n",
      " 0   user_id       286690 non-null  int64         \n",
      " 1   timestamp     286690 non-null  datetime64[ns]\n",
      " 2   group         286690 non-null  object        \n",
      " 3   landing_page  286690 non-null  object        \n",
      " 4   converted     286690 non-null  int64         \n",
      "dtypes: datetime64[ns](1), int64(2), object(2)\n",
      "memory usage: 13.1+ MB\n"
     ]
    }
   ],
   "source": [
    "df.info()"
   ]
  },
  {
   "cell_type": "markdown",
   "metadata": {},
   "source": [
    "<div class=\"alert alert-block alert-info\">\n",
    "<b>Вывод:</b> Типы данных нас устраивают, менять их не будем.\n",
    "</div>"
   ]
  },
  {
   "cell_type": "markdown",
   "metadata": {},
   "source": [
    "## 5.3 Пересечения по сегментам "
   ]
  },
  {
   "cell_type": "markdown",
   "metadata": {},
   "source": [
    "Ищем пересечений по сегментам"
   ]
  },
  {
   "cell_type": "code",
   "execution_count": 9,
   "metadata": {},
   "outputs": [
    {
     "data": {
      "text/html": [
       "<div>\n",
       "<style scoped>\n",
       "    .dataframe tbody tr th:only-of-type {\n",
       "        vertical-align: middle;\n",
       "    }\n",
       "\n",
       "    .dataframe tbody tr th {\n",
       "        vertical-align: top;\n",
       "    }\n",
       "\n",
       "    .dataframe thead th {\n",
       "        text-align: right;\n",
       "    }\n",
       "</style>\n",
       "<table border=\"1\" class=\"dataframe\">\n",
       "  <thead>\n",
       "    <tr style=\"text-align: right;\">\n",
       "      <th>landing_page</th>\n",
       "      <th>new_page</th>\n",
       "      <th>old_page</th>\n",
       "    </tr>\n",
       "    <tr>\n",
       "      <th>group</th>\n",
       "      <th></th>\n",
       "      <th></th>\n",
       "    </tr>\n",
       "  </thead>\n",
       "  <tbody>\n",
       "    <tr>\n",
       "      <th>control</th>\n",
       "      <td>1928</td>\n",
       "      <td>145274</td>\n",
       "    </tr>\n",
       "    <tr>\n",
       "      <th>treatment</th>\n",
       "      <td>145311</td>\n",
       "      <td>1965</td>\n",
       "    </tr>\n",
       "  </tbody>\n",
       "</table>\n",
       "</div>"
      ],
      "text/plain": [
       "landing_page  new_page  old_page\n",
       "group                           \n",
       "control           1928    145274\n",
       "treatment       145311      1965"
      ]
     },
     "execution_count": 9,
     "metadata": {},
     "output_type": "execute_result"
    }
   ],
   "source": [
    "pd.crosstab(df['group'], df['landing_page'])"
   ]
  },
  {
   "cell_type": "markdown",
   "metadata": {},
   "source": [
    "<div class=\"alert alert-block alert-info\">\n",
    "<b>Вывод:</b> У нас есть пересечения по сегментам, их нужно убрать, т.к. контрольная группа должна видеть только старую страницу, а тестовая только новую\n",
    "</div>"
   ]
  },
  {
   "cell_type": "markdown",
   "metadata": {},
   "source": [
    "## 5.4 Удаление дублей"
   ]
  },
  {
   "cell_type": "markdown",
   "metadata": {},
   "source": [
    "Проверим нет ли у нас дублей среди пользователей"
   ]
  },
  {
   "cell_type": "code",
   "execution_count": 10,
   "metadata": {},
   "outputs": [
    {
     "name": "stdout",
     "output_type": "stream",
     "text": [
      "3894 пользователя появляются в наших данных несколько раз,что составляет 1.32%\n"
     ]
    }
   ],
   "source": [
    "dubl_users = df['user_id'].duplicated().sum()\n",
    "\n",
    "print(f'{dubl_users} пользователя появляются в наших данных несколько раз,\\\n",
    "что составляет {round(dubl_users/df.shape[0]*100, 2)}%')"
   ]
  },
  {
   "cell_type": "markdown",
   "metadata": {},
   "source": [
    "<div class=\"alert alert-block alert-info\">\n",
    "<b>Вывод:</b> 3894 пользователя появляются несклько раз, это составляется всего 1,32%. Это число довольно низкое, поэтому мы удалим их из нашего датасета, чтобы избежать повторной выборки одних и тех же пользователей.\n",
    "</div>"
   ]
  },
  {
   "cell_type": "markdown",
   "metadata": {},
   "source": [
    "Удаляем задублированных пользователей"
   ]
  },
  {
   "cell_type": "code",
   "execution_count": 11,
   "metadata": {},
   "outputs": [
    {
     "name": "stdout",
     "output_type": "stream",
     "text": [
      "В нашем датасете осталось 286690 значений\n"
     ]
    }
   ],
   "source": [
    "df.drop_duplicates(subset=['user_id'], keep=False, inplace=True)\n",
    "\n",
    "print(f'В нашем датасете осталось {df.shape[0]} значений')"
   ]
  },
  {
   "cell_type": "markdown",
   "metadata": {},
   "source": [
    "Еще раз проверяем пересечения по сегментам"
   ]
  },
  {
   "cell_type": "code",
   "execution_count": 12,
   "metadata": {},
   "outputs": [
    {
     "data": {
      "text/html": [
       "<div>\n",
       "<style scoped>\n",
       "    .dataframe tbody tr th:only-of-type {\n",
       "        vertical-align: middle;\n",
       "    }\n",
       "\n",
       "    .dataframe tbody tr th {\n",
       "        vertical-align: top;\n",
       "    }\n",
       "\n",
       "    .dataframe thead th {\n",
       "        text-align: right;\n",
       "    }\n",
       "</style>\n",
       "<table border=\"1\" class=\"dataframe\">\n",
       "  <thead>\n",
       "    <tr style=\"text-align: right;\">\n",
       "      <th>landing_page</th>\n",
       "      <th>new_page</th>\n",
       "      <th>old_page</th>\n",
       "    </tr>\n",
       "    <tr>\n",
       "      <th>group</th>\n",
       "      <th></th>\n",
       "      <th></th>\n",
       "    </tr>\n",
       "  </thead>\n",
       "  <tbody>\n",
       "    <tr>\n",
       "      <th>control</th>\n",
       "      <td>0</td>\n",
       "      <td>143293</td>\n",
       "    </tr>\n",
       "    <tr>\n",
       "      <th>treatment</th>\n",
       "      <td>143397</td>\n",
       "      <td>0</td>\n",
       "    </tr>\n",
       "  </tbody>\n",
       "</table>\n",
       "</div>"
      ],
      "text/plain": [
       "landing_page  new_page  old_page\n",
       "group                           \n",
       "control              0    143293\n",
       "treatment       143397         0"
      ]
     },
     "execution_count": 12,
     "metadata": {},
     "output_type": "execute_result"
    }
   ],
   "source": [
    "pd.crosstab(df['group'], df['landing_page'])"
   ]
  },
  {
   "cell_type": "markdown",
   "metadata": {},
   "source": [
    "<div class=\"alert alert-block alert-info\">\n",
    "<b>Вывод:</b> В нашем датасете осталось 286690 значений, пересечений по сегментам больше нет. Можно приступать к сэмплингу.\n",
    "</div>"
   ]
  },
  {
   "cell_type": "markdown",
   "metadata": {},
   "source": [
    "# 6. Сэмплинг\n",
    "____"
   ]
  },
  {
   "cell_type": "markdown",
   "metadata": {},
   "source": [
    "Ранее мы установили оптимальный размер выборки - 4720 наблюдей. Теперь выберем в каждом нашем сегменте по 4720 наблюдений и соеденим в один датасет."
   ]
  },
  {
   "cell_type": "code",
   "execution_count": 13,
   "metadata": {},
   "outputs": [
    {
     "data": {
      "text/html": [
       "<div>\n",
       "<style scoped>\n",
       "    .dataframe tbody tr th:only-of-type {\n",
       "        vertical-align: middle;\n",
       "    }\n",
       "\n",
       "    .dataframe tbody tr th {\n",
       "        vertical-align: top;\n",
       "    }\n",
       "\n",
       "    .dataframe thead th {\n",
       "        text-align: right;\n",
       "    }\n",
       "</style>\n",
       "<table border=\"1\" class=\"dataframe\">\n",
       "  <thead>\n",
       "    <tr style=\"text-align: right;\">\n",
       "      <th></th>\n",
       "      <th>user_id</th>\n",
       "      <th>timestamp</th>\n",
       "      <th>group</th>\n",
       "      <th>landing_page</th>\n",
       "      <th>converted</th>\n",
       "    </tr>\n",
       "  </thead>\n",
       "  <tbody>\n",
       "    <tr>\n",
       "      <th>0</th>\n",
       "      <td>763854</td>\n",
       "      <td>2017-01-21 03:43:17.188315</td>\n",
       "      <td>control</td>\n",
       "      <td>old_page</td>\n",
       "      <td>0</td>\n",
       "    </tr>\n",
       "    <tr>\n",
       "      <th>1</th>\n",
       "      <td>690555</td>\n",
       "      <td>2017-01-18 06:38:13.079449</td>\n",
       "      <td>control</td>\n",
       "      <td>old_page</td>\n",
       "      <td>0</td>\n",
       "    </tr>\n",
       "    <tr>\n",
       "      <th>2</th>\n",
       "      <td>861520</td>\n",
       "      <td>2017-01-06 21:13:40.044766</td>\n",
       "      <td>control</td>\n",
       "      <td>old_page</td>\n",
       "      <td>0</td>\n",
       "    </tr>\n",
       "    <tr>\n",
       "      <th>3</th>\n",
       "      <td>630778</td>\n",
       "      <td>2017-01-05 16:42:36.995204</td>\n",
       "      <td>control</td>\n",
       "      <td>old_page</td>\n",
       "      <td>0</td>\n",
       "    </tr>\n",
       "    <tr>\n",
       "      <th>4</th>\n",
       "      <td>656634</td>\n",
       "      <td>2017-01-04 15:31:21.676130</td>\n",
       "      <td>control</td>\n",
       "      <td>old_page</td>\n",
       "      <td>0</td>\n",
       "    </tr>\n",
       "    <tr>\n",
       "      <th>...</th>\n",
       "      <td>...</td>\n",
       "      <td>...</td>\n",
       "      <td>...</td>\n",
       "      <td>...</td>\n",
       "      <td>...</td>\n",
       "    </tr>\n",
       "    <tr>\n",
       "      <th>9435</th>\n",
       "      <td>908512</td>\n",
       "      <td>2017-01-14 22:02:29.922674</td>\n",
       "      <td>treatment</td>\n",
       "      <td>new_page</td>\n",
       "      <td>0</td>\n",
       "    </tr>\n",
       "    <tr>\n",
       "      <th>9436</th>\n",
       "      <td>873211</td>\n",
       "      <td>2017-01-05 00:57:16.167151</td>\n",
       "      <td>treatment</td>\n",
       "      <td>new_page</td>\n",
       "      <td>0</td>\n",
       "    </tr>\n",
       "    <tr>\n",
       "      <th>9437</th>\n",
       "      <td>631276</td>\n",
       "      <td>2017-01-20 18:56:58.167809</td>\n",
       "      <td>treatment</td>\n",
       "      <td>new_page</td>\n",
       "      <td>0</td>\n",
       "    </tr>\n",
       "    <tr>\n",
       "      <th>9438</th>\n",
       "      <td>662301</td>\n",
       "      <td>2017-01-03 08:10:57.768806</td>\n",
       "      <td>treatment</td>\n",
       "      <td>new_page</td>\n",
       "      <td>0</td>\n",
       "    </tr>\n",
       "    <tr>\n",
       "      <th>9439</th>\n",
       "      <td>944623</td>\n",
       "      <td>2017-01-19 10:56:01.648653</td>\n",
       "      <td>treatment</td>\n",
       "      <td>new_page</td>\n",
       "      <td>1</td>\n",
       "    </tr>\n",
       "  </tbody>\n",
       "</table>\n",
       "<p>9440 rows × 5 columns</p>\n",
       "</div>"
      ],
      "text/plain": [
       "      user_id                  timestamp      group landing_page  converted\n",
       "0      763854 2017-01-21 03:43:17.188315    control     old_page          0\n",
       "1      690555 2017-01-18 06:38:13.079449    control     old_page          0\n",
       "2      861520 2017-01-06 21:13:40.044766    control     old_page          0\n",
       "3      630778 2017-01-05 16:42:36.995204    control     old_page          0\n",
       "4      656634 2017-01-04 15:31:21.676130    control     old_page          0\n",
       "...       ...                        ...        ...          ...        ...\n",
       "9435   908512 2017-01-14 22:02:29.922674  treatment     new_page          0\n",
       "9436   873211 2017-01-05 00:57:16.167151  treatment     new_page          0\n",
       "9437   631276 2017-01-20 18:56:58.167809  treatment     new_page          0\n",
       "9438   662301 2017-01-03 08:10:57.768806  treatment     new_page          0\n",
       "9439   944623 2017-01-19 10:56:01.648653  treatment     new_page          1\n",
       "\n",
       "[9440 rows x 5 columns]"
      ]
     },
     "execution_count": 13,
     "metadata": {},
     "output_type": "execute_result"
    }
   ],
   "source": [
    "control_sample = df.loc[df['group'] == 'control'].sample(n=sample_size, random_state=22)\n",
    "treatment_sample = df.loc[df['group'] == 'treatment'].sample(n=sample_size, random_state=22)\n",
    "\n",
    "ab_test_df = pd.concat([control_sample, treatment_sample], axis=0).reset_index(drop=True)\n",
    "\n",
    "ab_test_df"
   ]
  },
  {
   "cell_type": "markdown",
   "metadata": {},
   "source": [
    "Посмотрим информацию о полученном датасете:"
   ]
  },
  {
   "cell_type": "code",
   "execution_count": 14,
   "metadata": {},
   "outputs": [
    {
     "name": "stdout",
     "output_type": "stream",
     "text": [
      "<class 'pandas.core.frame.DataFrame'>\n",
      "RangeIndex: 9440 entries, 0 to 9439\n",
      "Data columns (total 5 columns):\n",
      " #   Column        Non-Null Count  Dtype         \n",
      "---  ------        --------------  -----         \n",
      " 0   user_id       9440 non-null   int64         \n",
      " 1   timestamp     9440 non-null   datetime64[ns]\n",
      " 2   group         9440 non-null   object        \n",
      " 3   landing_page  9440 non-null   object        \n",
      " 4   converted     9440 non-null   int64         \n",
      "dtypes: datetime64[ns](1), int64(2), object(2)\n",
      "memory usage: 368.9+ KB\n"
     ]
    }
   ],
   "source": [
    "ab_test_df.info()"
   ]
  },
  {
   "cell_type": "markdown",
   "metadata": {},
   "source": [
    "Убедимся, что у нас в каждом сегменте равное количество, как мы и задумывали:"
   ]
  },
  {
   "cell_type": "code",
   "execution_count": 15,
   "metadata": {},
   "outputs": [
    {
     "data": {
      "text/plain": [
       "control      4720\n",
       "treatment    4720\n",
       "Name: group, dtype: int64"
      ]
     },
     "execution_count": 15,
     "metadata": {},
     "output_type": "execute_result"
    }
   ],
   "source": [
    "ab_test_df['group'].value_counts()"
   ]
  },
  {
   "cell_type": "markdown",
   "metadata": {},
   "source": [
    "<div class=\"alert alert-block alert-info\">\n",
    "<b>Вывод:</b> Сэплинг прошел успешно, мы получили новый датасет из 9440 записей (по 4720 записей на каждый сегмент), можем приступать к рассчету конверсий.\n",
    "</div>"
   ]
  },
  {
   "cell_type": "markdown",
   "metadata": {},
   "source": [
    "# 7. Рассчет конверсий\n",
    "___"
   ]
  },
  {
   "cell_type": "markdown",
   "metadata": {},
   "source": [
    "По свойству среднего для бинарных данных, конверсия будет равна среднему значению. Рассчитаем базовые статистики:"
   ]
  },
  {
   "cell_type": "code",
   "execution_count": 16,
   "metadata": {},
   "outputs": [
    {
     "data": {
      "text/html": [
       "<div>\n",
       "<style scoped>\n",
       "    .dataframe tbody tr th:only-of-type {\n",
       "        vertical-align: middle;\n",
       "    }\n",
       "\n",
       "    .dataframe tbody tr th {\n",
       "        vertical-align: top;\n",
       "    }\n",
       "\n",
       "    .dataframe thead th {\n",
       "        text-align: right;\n",
       "    }\n",
       "</style>\n",
       "<table border=\"1\" class=\"dataframe\">\n",
       "  <thead>\n",
       "    <tr style=\"text-align: right;\">\n",
       "      <th></th>\n",
       "      <th>count</th>\n",
       "      <th>conversation_rate</th>\n",
       "      <th>std</th>\n",
       "      <th>sem</th>\n",
       "      <th>var</th>\n",
       "    </tr>\n",
       "    <tr>\n",
       "      <th>group</th>\n",
       "      <th></th>\n",
       "      <th></th>\n",
       "      <th></th>\n",
       "      <th></th>\n",
       "      <th></th>\n",
       "    </tr>\n",
       "  </thead>\n",
       "  <tbody>\n",
       "    <tr>\n",
       "      <th>control</th>\n",
       "      <td>4720</td>\n",
       "      <td>0.123</td>\n",
       "      <td>0.329</td>\n",
       "      <td>0.005</td>\n",
       "      <td>0.108</td>\n",
       "    </tr>\n",
       "    <tr>\n",
       "      <th>treatment</th>\n",
       "      <td>4720</td>\n",
       "      <td>0.126</td>\n",
       "      <td>0.331</td>\n",
       "      <td>0.005</td>\n",
       "      <td>0.110</td>\n",
       "    </tr>\n",
       "  </tbody>\n",
       "</table>\n",
       "</div>"
      ],
      "text/plain": [
       "           count  conversation_rate   std   sem   var\n",
       "group                                                \n",
       "control     4720              0.123 0.329 0.005 0.108\n",
       "treatment   4720              0.126 0.331 0.005 0.110"
      ]
     },
     "execution_count": 16,
     "metadata": {},
     "output_type": "execute_result"
    }
   ],
   "source": [
    "basic_stats = ab_test_df\\\n",
    "              .groupby('group')['converted']\\\n",
    "              .agg(['count', 'mean', 'std', 'sem', 'var'])\\\n",
    "              .rename(columns={'mean':'conversation_rate'})\n",
    "\n",
    "basic_stats"
   ]
  },
  {
   "cell_type": "markdown",
   "metadata": {},
   "source": [
    "визуализируем конверсию старой и новой версии"
   ]
  },
  {
   "cell_type": "code",
   "execution_count": 123,
   "metadata": {},
   "outputs": [
    {
     "data": {
      "image/png": "[encoded data removed]",
      "text/plain": [
       "<Figure size 576x432 with 1 Axes>"
      ]
     },
     "metadata": {},
     "output_type": "display_data"
    }
   ],
   "source": [
    "plt.figure(figsize=(8,6))\n",
    "\n",
    "sns.barplot(x=ab_test_df['group'], y=ab_test_df['converted'], ci=False)\n",
    "\n",
    "plt.ylim(0, 0.15)\n",
    "plt.title('Уровень конверсии по сегментам', pad=15, fontsize=20)\n",
    "plt.xlabel('Сегметы', labelpad=10, fontsize=15)\n",
    "plt.ylabel('Уровень конверсии', labelpad=10, fontsize=15)\n",
    "\n",
    "plt.show()"
   ]
  },
  {
   "cell_type": "markdown",
   "metadata": {},
   "source": [
    "<div class=\"alert alert-block alert-info\">\n",
    "<b>Вывод:</b> \n",
    "<p><b>Уровни конверсии:</b>\n",
    "- контрольная группа - 12,3%\n",
    "- тестовая группа - 12,6%</p>   \n",
    "<p>Значения конверсий для обоих групп близки, но не одинаковы. Необходимо проверить, является ли различие в конверсиях статистически значимым.</p>\n",
    "</div>"
   ]
  },
  {
   "cell_type": "markdown",
   "metadata": {},
   "source": [
    "# 8. Тестирование гипотезы\n",
    "___"
   ]
  },
  {
   "cell_type": "markdown",
   "metadata": {},
   "source": [
    "У нас довольно большая выборка, мы можем использовать нормальное приближение для расчета нашего p-значения (z-критерия)."
   ]
  },
  {
   "cell_type": "code",
   "execution_count": 84,
   "metadata": {},
   "outputs": [],
   "source": [
    "def calculate_statistics(control_group, treatment_group):\n",
    "\n",
    "    n_con = control_group.count()\n",
    "    n_treat = treatment_group.count()\n",
    "    successes = [control_group.sum(), treatment_group.sum()]\n",
    "    nobs = [n_con, n_treat]\n",
    "\n",
    "    z_stat, p_val = [round(x, 3) for x in proportions_ztest(successes, nobs=nobs)]\n",
    "\n",
    "    (ci_bottom_con, ci_bottom_treat), (ci_top_con, ci_top_treat) = \\\n",
    "    [np.around(x, 3) for x in proportion_confint(successes, nobs=nobs, alpha=0.05)]\n",
    "    \n",
    "    return {'z statistic': z_stat, \n",
    "            'p-value': p_val,\n",
    "            'ci 95% for control group': [ci_bottom_con, ci_top_con], \n",
    "            'ci 95% for treatment group': [ci_bottom_treat, ci_top_treat]}"
   ]
  },
  {
   "cell_type": "code",
   "execution_count": 85,
   "metadata": {},
   "outputs": [
    {
     "name": "stdout",
     "output_type": "stream",
     "text": [
      "{'z statistic': -0.343,\n",
      " 'p-value': 0.732,\n",
      " 'ci 95% for control group': [0.114, 0.133],\n",
      " 'ci 95% for treatment group': [0.116, 0.135]}\n"
     ]
    }
   ],
   "source": [
    "control_group = ab_test_df[ab_test_df['group'] == 'control']['converted']\n",
    "treatment_group = ab_test_df[ab_test_df['group'] == 'treatment']['converted']\n",
    "\n",
    "z_statisric = calculate_statistics(control_group, treatment_group)\n",
    "\n",
    "pprint.pprint(z_statisric, sort_dicts=False)"
   ]
  },
  {
   "cell_type": "markdown",
   "metadata": {},
   "source": [
    "# 9. Выводы\n",
    "___"
   ]
  },
  {
   "cell_type": "markdown",
   "metadata": {},
   "source": [
    "Так как наше значение $p$ = 0,732 намного превышает пороговое значение $\\alpha$ = 0,05, мы не можем отвергнуть нулевую гипотезу $H_0$, а это означает, что конверсия нашего нового дизайна существенно не отличается от конверсии старого дизайна.\n",
    "\n",
    "Обратим внимание на доверительный интервал (CI) для экспериментальной группы ([0,116; 0,135] или 11,6–13,5%): "
   ]
  },
  {
   "cell_type": "code",
   "execution_count": 128,
   "metadata": {},
   "outputs": [
    {
     "data": {
      "image/png": "[encoded data removed]",
      "text/plain": [
       "<Figure size 576x432 with 1 Axes>"
      ]
     },
     "metadata": {},
     "output_type": "display_data"
    }
   ],
   "source": [
    "initial_conversion = 0.13\n",
    "target_conversion = 0.15\n",
    "\n",
    "plt.figure(figsize=(8,6))\n",
    "plt.ylim(0.1, 0.16)\n",
    "\n",
    "plt.axhline(y=z_statisric['ci 95% for treatment group'][0], color=\"r\", label='CI', linestyle=\"--\")\n",
    "plt.axhline(y=z_statisric['ci 95% for treatment group'][1], color=\"r\", linestyle=\"--\")\n",
    "plt.axhline(y=initial_conversion, color=\"g\", label='Initial conversion', linestyle=\"-\")\n",
    "plt.axhline(y=target_conversion, color=\"b\", label='Target conversion', linestyle=\"-\")\n",
    "\n",
    "plt.legend(loc=1, bbox_to_anchor=(1.5, 1.027), fontsize=16)\n",
    "plt.title(\"Доверительный интервал для экспериментальной группы\", pad=15, fontsize=14)\n",
    "\n",
    "plt.show()"
   ]
  },
  {
   "cell_type": "markdown",
   "metadata": {},
   "source": [
    "- Он включает наше изначальное значение коэффициента конверсии 13%.\n",
    "- Он не включает наше целевое значение в 15 % (2 % роста, к которому мы стремились).\n",
    "\n",
    "\n",
    "Это означает, что скорее всего истинный коэффициент конверсии нового дизайна будет похож на наш изначальный уровень конверсии, а не на целевые 15%, на которые мы надеялись. Это еще одно доказательство того, что наш новый дизайн вряд ли приведет к увеличению конверсии по ставнению со старым дизайном."
   ]
  }
 ],
 "metadata": {
  "kernelspec": {
   "display_name": "Python 3",
   "language": "python",
   "name": "python3"
  },
  "language_info": {
   "codemirror_mode": {
    "name": "ipython",
    "version": 3
   },
   "file_extension": ".py",
   "mimetype": "text/x-python",
   "name": "python",
   "nbconvert_exporter": "python",
   "pygments_lexer": "ipython3",
   "version": "3.8.5"
  }
 },
 "nbformat": 4,
 "nbformat_minor": 4
}
