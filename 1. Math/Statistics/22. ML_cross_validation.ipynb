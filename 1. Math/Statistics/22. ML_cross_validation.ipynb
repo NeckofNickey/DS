{
  "nbformat": 4,
  "nbformat_minor": 0,
  "metadata": {
    "colab": {
      "provenance": [],
      "toc_visible": true
    },
    "kernelspec": {
      "name": "python3",
      "display_name": "Python 3"
    },
    "language_info": {
      "name": "python"
    }
  },
  "cells": [
    {
      "cell_type": "markdown",
      "source": [
        "## **Загрузка библиотек**"
      ],
      "metadata": {
        "id": "re__rgySzwyS"
      }
    },
    {
      "cell_type": "code",
      "source": [
        "import pandas as pd\n",
        "import numpy as np\n",
        "\n",
        "import matplotlib as mpl\n",
        "import matplotlib.pyplot as plt\n",
        "import seaborn as sns\n",
        "\n",
        "\n",
        "from sklearn.linear_model import LinearRegression\n",
        "from sklearn.model_selection import cross_validate\n",
        "from sklearn.preprocessing import StandardScaler\n",
        "\n",
        "pd.set_option('display.max_columns', None)\n",
        "\n",
        "mpl.rcParams['figure.figsize'] = (12, 6)\n",
        "mpl.rcParams['figure.dpi'] = 80\n",
        "\n",
        "%matplotlib inline\n",
        "\n",
        "import warnings\n",
        "warnings.filterwarnings(\"ignore\")"
      ],
      "metadata": {
        "id": "nCGCb_Qy0gEo"
      },
      "execution_count": null,
      "outputs": []
    },
    {
      "cell_type": "markdown",
      "source": [
        "# **Загрузка данных**"
      ],
      "metadata": {
        "id": "5uWR41xL07zA"
      }
    },
    {
      "cell_type": "code",
      "source": [
        "insurance_data = pd.read_csv('/content/insurance.csv')"
      ],
      "metadata": {
        "id": "OcxEGvGc0_i5"
      },
      "execution_count": null,
      "outputs": []
    },
    {
      "cell_type": "markdown",
      "source": [
        "# **Описание датасета**"
      ],
      "metadata": {
        "id": "h2AVq_5s7OCc"
      }
    },
    {
      "cell_type": "code",
      "source": [
        "insurance_data.head()"
      ],
      "metadata": {
        "colab": {
          "base_uri": "https://localhost:8080/",
          "height": 206
        },
        "id": "C9aGAwh71QNd",
        "outputId": "d5fe754a-079e-4b93-fb75-d4589a00cf5e"
      },
      "execution_count": null,
      "outputs": [
        {
          "output_type": "execute_result",
          "data": {
            "text/plain": [
              "   age     sex     bmi  children smoker     region      charges\n",
              "0   19  female  27.900         0    yes  southwest  16884.92400\n",
              "1   18    male  33.770         1     no  southeast   1725.55230\n",
              "2   28    male  33.000         3     no  southeast   4449.46200\n",
              "3   33    male  22.705         0     no  northwest  21984.47061\n",
              "4   32    male  28.880         0     no  northwest   3866.85520"
            ],
            "text/html": [
              "\n",
              "  <div id=\"df-a8d2cab2-75b9-40d7-94c7-7b7ea76be92f\">\n",
              "    <div class=\"colab-df-container\">\n",
              "      <div>\n",
              "<style scoped>\n",
              "    .dataframe tbody tr th:only-of-type {\n",
              "        vertical-align: middle;\n",
              "    }\n",
              "\n",
              "    .dataframe tbody tr th {\n",
              "        vertical-align: top;\n",
              "    }\n",
              "\n",
              "    .dataframe thead th {\n",
              "        text-align: right;\n",
              "    }\n",
              "</style>\n",
              "<table border=\"1\" class=\"dataframe\">\n",
              "  <thead>\n",
              "    <tr style=\"text-align: right;\">\n",
              "      <th></th>\n",
              "      <th>age</th>\n",
              "      <th>sex</th>\n",
              "      <th>bmi</th>\n",
              "      <th>children</th>\n",
              "      <th>smoker</th>\n",
              "      <th>region</th>\n",
              "      <th>charges</th>\n",
              "    </tr>\n",
              "  </thead>\n",
              "  <tbody>\n",
              "    <tr>\n",
              "      <th>0</th>\n",
              "      <td>19</td>\n",
              "      <td>female</td>\n",
              "      <td>27.900</td>\n",
              "      <td>0</td>\n",
              "      <td>yes</td>\n",
              "      <td>southwest</td>\n",
              "      <td>16884.92400</td>\n",
              "    </tr>\n",
              "    <tr>\n",
              "      <th>1</th>\n",
              "      <td>18</td>\n",
              "      <td>male</td>\n",
              "      <td>33.770</td>\n",
              "      <td>1</td>\n",
              "      <td>no</td>\n",
              "      <td>southeast</td>\n",
              "      <td>1725.55230</td>\n",
              "    </tr>\n",
              "    <tr>\n",
              "      <th>2</th>\n",
              "      <td>28</td>\n",
              "      <td>male</td>\n",
              "      <td>33.000</td>\n",
              "      <td>3</td>\n",
              "      <td>no</td>\n",
              "      <td>southeast</td>\n",
              "      <td>4449.46200</td>\n",
              "    </tr>\n",
              "    <tr>\n",
              "      <th>3</th>\n",
              "      <td>33</td>\n",
              "      <td>male</td>\n",
              "      <td>22.705</td>\n",
              "      <td>0</td>\n",
              "      <td>no</td>\n",
              "      <td>northwest</td>\n",
              "      <td>21984.47061</td>\n",
              "    </tr>\n",
              "    <tr>\n",
              "      <th>4</th>\n",
              "      <td>32</td>\n",
              "      <td>male</td>\n",
              "      <td>28.880</td>\n",
              "      <td>0</td>\n",
              "      <td>no</td>\n",
              "      <td>northwest</td>\n",
              "      <td>3866.85520</td>\n",
              "    </tr>\n",
              "  </tbody>\n",
              "</table>\n",
              "</div>\n",
              "      <button class=\"colab-df-convert\" onclick=\"convertToInteractive('df-a8d2cab2-75b9-40d7-94c7-7b7ea76be92f')\"\n",
              "              title=\"Convert this dataframe to an interactive table.\"\n",
              "              style=\"display:none;\">\n",
              "        \n",
              "  <svg xmlns=\"http://www.w3.org/2000/svg\" height=\"24px\"viewBox=\"0 0 24 24\"\n",
              "       width=\"24px\">\n",
              "    <path d=\"M0 0h24v24H0V0z\" fill=\"none\"/>\n",
              "    <path d=\"M18.56 5.44l.94 2.06.94-2.06 2.06-.94-2.06-.94-.94-2.06-.94 2.06-2.06.94zm-11 1L8.5 8.5l.94-2.06 2.06-.94-2.06-.94L8.5 2.5l-.94 2.06-2.06.94zm10 10l.94 2.06.94-2.06 2.06-.94-2.06-.94-.94-2.06-.94 2.06-2.06.94z\"/><path d=\"M17.41 7.96l-1.37-1.37c-.4-.4-.92-.59-1.43-.59-.52 0-1.04.2-1.43.59L10.3 9.45l-7.72 7.72c-.78.78-.78 2.05 0 2.83L4 21.41c.39.39.9.59 1.41.59.51 0 1.02-.2 1.41-.59l7.78-7.78 2.81-2.81c.8-.78.8-2.07 0-2.86zM5.41 20L4 18.59l7.72-7.72 1.47 1.35L5.41 20z\"/>\n",
              "  </svg>\n",
              "      </button>\n",
              "      \n",
              "  <style>\n",
              "    .colab-df-container {\n",
              "      display:flex;\n",
              "      flex-wrap:wrap;\n",
              "      gap: 12px;\n",
              "    }\n",
              "\n",
              "    .colab-df-convert {\n",
              "      background-color: #E8F0FE;\n",
              "      border: none;\n",
              "      border-radius: 50%;\n",
              "      cursor: pointer;\n",
              "      display: none;\n",
              "      fill: #1967D2;\n",
              "      height: 32px;\n",
              "      padding: 0 0 0 0;\n",
              "      width: 32px;\n",
              "    }\n",
              "\n",
              "    .colab-df-convert:hover {\n",
              "      background-color: #E2EBFA;\n",
              "      box-shadow: 0px 1px 2px rgba(60, 64, 67, 0.3), 0px 1px 3px 1px rgba(60, 64, 67, 0.15);\n",
              "      fill: #174EA6;\n",
              "    }\n",
              "\n",
              "    [theme=dark] .colab-df-convert {\n",
              "      background-color: #3B4455;\n",
              "      fill: #D2E3FC;\n",
              "    }\n",
              "\n",
              "    [theme=dark] .colab-df-convert:hover {\n",
              "      background-color: #434B5C;\n",
              "      box-shadow: 0px 1px 3px 1px rgba(0, 0, 0, 0.15);\n",
              "      filter: drop-shadow(0px 1px 2px rgba(0, 0, 0, 0.3));\n",
              "      fill: #FFFFFF;\n",
              "    }\n",
              "  </style>\n",
              "\n",
              "      <script>\n",
              "        const buttonEl =\n",
              "          document.querySelector('#df-a8d2cab2-75b9-40d7-94c7-7b7ea76be92f button.colab-df-convert');\n",
              "        buttonEl.style.display =\n",
              "          google.colab.kernel.accessAllowed ? 'block' : 'none';\n",
              "\n",
              "        async function convertToInteractive(key) {\n",
              "          const element = document.querySelector('#df-a8d2cab2-75b9-40d7-94c7-7b7ea76be92f');\n",
              "          const dataTable =\n",
              "            await google.colab.kernel.invokeFunction('convertToInteractive',\n",
              "                                                     [key], {});\n",
              "          if (!dataTable) return;\n",
              "\n",
              "          const docLinkHtml = 'Like what you see? Visit the ' +\n",
              "            '<a target=\"_blank\" href=https://colab.research.google.com/notebooks/data_table.ipynb>data table notebook</a>'\n",
              "            + ' to learn more about interactive tables.';\n",
              "          element.innerHTML = '';\n",
              "          dataTable['output_type'] = 'display_data';\n",
              "          await google.colab.output.renderOutput(dataTable, element);\n",
              "          const docLink = document.createElement('div');\n",
              "          docLink.innerHTML = docLinkHtml;\n",
              "          element.appendChild(docLink);\n",
              "        }\n",
              "      </script>\n",
              "    </div>\n",
              "  </div>\n",
              "  "
            ]
          },
          "metadata": {},
          "execution_count": 17
        }
      ]
    },
    {
      "cell_type": "code",
      "source": [
        "insurance_data.shape"
      ],
      "metadata": {
        "colab": {
          "base_uri": "https://localhost:8080/"
        },
        "id": "Mm6uxiLq8ecy",
        "outputId": "76ce659e-e25f-47a4-96e5-d790c977c47f"
      },
      "execution_count": null,
      "outputs": [
        {
          "output_type": "execute_result",
          "data": {
            "text/plain": [
              "(1338, 7)"
            ]
          },
          "metadata": {},
          "execution_count": 18
        }
      ]
    },
    {
      "cell_type": "code",
      "source": [
        "insurance_data.info()"
      ],
      "metadata": {
        "colab": {
          "base_uri": "https://localhost:8080/"
        },
        "id": "XDe-aljl5d4g",
        "outputId": "494d07ad-da06-4753-d7d0-8380ad163a5f"
      },
      "execution_count": null,
      "outputs": [
        {
          "output_type": "stream",
          "name": "stdout",
          "text": [
            "<class 'pandas.core.frame.DataFrame'>\n",
            "RangeIndex: 1338 entries, 0 to 1337\n",
            "Data columns (total 7 columns):\n",
            " #   Column    Non-Null Count  Dtype  \n",
            "---  ------    --------------  -----  \n",
            " 0   age       1338 non-null   int64  \n",
            " 1   sex       1338 non-null   object \n",
            " 2   bmi       1338 non-null   float64\n",
            " 3   children  1338 non-null   int64  \n",
            " 4   smoker    1338 non-null   object \n",
            " 5   region    1338 non-null   object \n",
            " 6   charges   1338 non-null   float64\n",
            "dtypes: float64(2), int64(2), object(3)\n",
            "memory usage: 73.3+ KB\n"
          ]
        }
      ]
    },
    {
      "cell_type": "markdown",
      "source": [
        "*   age: age of primary beneficiary\n",
        "*   sex: insurance contractor gender, female, male\n",
        "*   bmi: Body mass index, providing an understanding of body, weights that are relatively high or low relative to height, objective index of body weight (kg / m ^ 2) using the ratio of height to weight, ideally 18.5 to 24.9\n",
        "*   children: Number of children covered by health insurance / Number of dependents\n",
        "*   smoker: Smoking\n",
        "*   region: the beneficiary's residential area in the US, northeast, southeast, southwest, northwest.\n",
        "*   charges: Individual medical costs billed by health insurance"
      ],
      "metadata": {
        "id": "15UA5uoD7SEz"
      }
    },
    {
      "cell_type": "markdown",
      "source": [
        "# **Предобработка**"
      ],
      "metadata": {
        "id": "EURQy_Hq5OuJ"
      }
    },
    {
      "cell_type": "code",
      "source": [
        "insurance_data_cln = insurance_data.copy(deep=True)"
      ],
      "metadata": {
        "id": "8d0BHRHmBkUr"
      },
      "execution_count": null,
      "outputs": []
    },
    {
      "cell_type": "markdown",
      "source": [
        "## **Заменяем значения в столбцах**"
      ],
      "metadata": {
        "id": "Wg1Mvquw9YLA"
      }
    },
    {
      "cell_type": "markdown",
      "source": [
        "### **Пол**"
      ],
      "metadata": {
        "id": "QVIkc2KD-o6T"
      }
    },
    {
      "cell_type": "code",
      "source": [
        "def change_gender(gender):\n",
        "  if gender == 'male':\n",
        "    return 1\n",
        "  elif gender == 'female':\n",
        "    return 0\n",
        "\n",
        "insurance_data_cln['sex'] = insurance_data_cln['sex'].apply(change_gender)"
      ],
      "metadata": {
        "id": "STe96cSa97u6"
      },
      "execution_count": null,
      "outputs": []
    },
    {
      "cell_type": "markdown",
      "source": [
        "### **Курение**"
      ],
      "metadata": {
        "id": "IYtpEAHw_qE5"
      }
    },
    {
      "cell_type": "code",
      "source": [
        "def change_smoke(smoker):\n",
        "  if smoker == 'yes':\n",
        "    return 1\n",
        "  elif smoker == 'no':\n",
        "    return 0\n",
        "\n",
        "insurance_data_cln['smoker'] = insurance_data_cln['smoker'].apply(change_smoke)"
      ],
      "metadata": {
        "id": "VAZETt8I98Ub"
      },
      "execution_count": null,
      "outputs": []
    },
    {
      "cell_type": "markdown",
      "source": [
        "### **Регион**"
      ],
      "metadata": {
        "id": "jRP0bFFQCFuh"
      }
    },
    {
      "cell_type": "code",
      "source": [
        "insurance_data_cln['southwest_reg'] = insurance_data_cln['region'] == 'southwest'\n",
        "insurance_data_cln['southeast_reg'] = insurance_data_cln['region'] == 'southeast'\n",
        "insurance_data_cln['northwest_reg'] = insurance_data_cln['region'] == 'northwest'\n",
        "\n",
        "insurance_data_cln.replace({False: 0, True: 1}, inplace=True)\n",
        "\n",
        "insurance_data_cln.drop('region', axis=1, inplace=True)"
      ],
      "metadata": {
        "id": "kQ3fDaFYEbQq"
      },
      "execution_count": null,
      "outputs": []
    },
    {
      "cell_type": "code",
      "source": [
        "insurance_data_cln.head()"
      ],
      "metadata": {
        "colab": {
          "base_uri": "https://localhost:8080/",
          "height": 206
        },
        "id": "N2otuGeiEbS1",
        "outputId": "42589494-194e-412e-a18f-ac565002e5b7"
      },
      "execution_count": null,
      "outputs": [
        {
          "output_type": "execute_result",
          "data": {
            "text/plain": [
              "   age  sex     bmi  children  smoker      charges  southwest_reg  \\\n",
              "0   19    0  27.900         0       1  16884.92400              1   \n",
              "1   18    1  33.770         1       0   1725.55230              0   \n",
              "2   28    1  33.000         3       0   4449.46200              0   \n",
              "3   33    1  22.705         0       0  21984.47061              0   \n",
              "4   32    1  28.880         0       0   3866.85520              0   \n",
              "\n",
              "   southeast_reg  northwest_reg  \n",
              "0              0              0  \n",
              "1              1              0  \n",
              "2              1              0  \n",
              "3              0              1  \n",
              "4              0              1  "
            ],
            "text/html": [
              "\n",
              "  <div id=\"df-a2d2c22d-11ab-4edb-b0f0-3a0a21ba6228\">\n",
              "    <div class=\"colab-df-container\">\n",
              "      <div>\n",
              "<style scoped>\n",
              "    .dataframe tbody tr th:only-of-type {\n",
              "        vertical-align: middle;\n",
              "    }\n",
              "\n",
              "    .dataframe tbody tr th {\n",
              "        vertical-align: top;\n",
              "    }\n",
              "\n",
              "    .dataframe thead th {\n",
              "        text-align: right;\n",
              "    }\n",
              "</style>\n",
              "<table border=\"1\" class=\"dataframe\">\n",
              "  <thead>\n",
              "    <tr style=\"text-align: right;\">\n",
              "      <th></th>\n",
              "      <th>age</th>\n",
              "      <th>sex</th>\n",
              "      <th>bmi</th>\n",
              "      <th>children</th>\n",
              "      <th>smoker</th>\n",
              "      <th>charges</th>\n",
              "      <th>southwest_reg</th>\n",
              "      <th>southeast_reg</th>\n",
              "      <th>northwest_reg</th>\n",
              "    </tr>\n",
              "  </thead>\n",
              "  <tbody>\n",
              "    <tr>\n",
              "      <th>0</th>\n",
              "      <td>19</td>\n",
              "      <td>0</td>\n",
              "      <td>27.900</td>\n",
              "      <td>0</td>\n",
              "      <td>1</td>\n",
              "      <td>16884.92400</td>\n",
              "      <td>1</td>\n",
              "      <td>0</td>\n",
              "      <td>0</td>\n",
              "    </tr>\n",
              "    <tr>\n",
              "      <th>1</th>\n",
              "      <td>18</td>\n",
              "      <td>1</td>\n",
              "      <td>33.770</td>\n",
              "      <td>1</td>\n",
              "      <td>0</td>\n",
              "      <td>1725.55230</td>\n",
              "      <td>0</td>\n",
              "      <td>1</td>\n",
              "      <td>0</td>\n",
              "    </tr>\n",
              "    <tr>\n",
              "      <th>2</th>\n",
              "      <td>28</td>\n",
              "      <td>1</td>\n",
              "      <td>33.000</td>\n",
              "      <td>3</td>\n",
              "      <td>0</td>\n",
              "      <td>4449.46200</td>\n",
              "      <td>0</td>\n",
              "      <td>1</td>\n",
              "      <td>0</td>\n",
              "    </tr>\n",
              "    <tr>\n",
              "      <th>3</th>\n",
              "      <td>33</td>\n",
              "      <td>1</td>\n",
              "      <td>22.705</td>\n",
              "      <td>0</td>\n",
              "      <td>0</td>\n",
              "      <td>21984.47061</td>\n",
              "      <td>0</td>\n",
              "      <td>0</td>\n",
              "      <td>1</td>\n",
              "    </tr>\n",
              "    <tr>\n",
              "      <th>4</th>\n",
              "      <td>32</td>\n",
              "      <td>1</td>\n",
              "      <td>28.880</td>\n",
              "      <td>0</td>\n",
              "      <td>0</td>\n",
              "      <td>3866.85520</td>\n",
              "      <td>0</td>\n",
              "      <td>0</td>\n",
              "      <td>1</td>\n",
              "    </tr>\n",
              "  </tbody>\n",
              "</table>\n",
              "</div>\n",
              "      <button class=\"colab-df-convert\" onclick=\"convertToInteractive('df-a2d2c22d-11ab-4edb-b0f0-3a0a21ba6228')\"\n",
              "              title=\"Convert this dataframe to an interactive table.\"\n",
              "              style=\"display:none;\">\n",
              "        \n",
              "  <svg xmlns=\"http://www.w3.org/2000/svg\" height=\"24px\"viewBox=\"0 0 24 24\"\n",
              "       width=\"24px\">\n",
              "    <path d=\"M0 0h24v24H0V0z\" fill=\"none\"/>\n",
              "    <path d=\"M18.56 5.44l.94 2.06.94-2.06 2.06-.94-2.06-.94-.94-2.06-.94 2.06-2.06.94zm-11 1L8.5 8.5l.94-2.06 2.06-.94-2.06-.94L8.5 2.5l-.94 2.06-2.06.94zm10 10l.94 2.06.94-2.06 2.06-.94-2.06-.94-.94-2.06-.94 2.06-2.06.94z\"/><path d=\"M17.41 7.96l-1.37-1.37c-.4-.4-.92-.59-1.43-.59-.52 0-1.04.2-1.43.59L10.3 9.45l-7.72 7.72c-.78.78-.78 2.05 0 2.83L4 21.41c.39.39.9.59 1.41.59.51 0 1.02-.2 1.41-.59l7.78-7.78 2.81-2.81c.8-.78.8-2.07 0-2.86zM5.41 20L4 18.59l7.72-7.72 1.47 1.35L5.41 20z\"/>\n",
              "  </svg>\n",
              "      </button>\n",
              "      \n",
              "  <style>\n",
              "    .colab-df-container {\n",
              "      display:flex;\n",
              "      flex-wrap:wrap;\n",
              "      gap: 12px;\n",
              "    }\n",
              "\n",
              "    .colab-df-convert {\n",
              "      background-color: #E8F0FE;\n",
              "      border: none;\n",
              "      border-radius: 50%;\n",
              "      cursor: pointer;\n",
              "      display: none;\n",
              "      fill: #1967D2;\n",
              "      height: 32px;\n",
              "      padding: 0 0 0 0;\n",
              "      width: 32px;\n",
              "    }\n",
              "\n",
              "    .colab-df-convert:hover {\n",
              "      background-color: #E2EBFA;\n",
              "      box-shadow: 0px 1px 2px rgba(60, 64, 67, 0.3), 0px 1px 3px 1px rgba(60, 64, 67, 0.15);\n",
              "      fill: #174EA6;\n",
              "    }\n",
              "\n",
              "    [theme=dark] .colab-df-convert {\n",
              "      background-color: #3B4455;\n",
              "      fill: #D2E3FC;\n",
              "    }\n",
              "\n",
              "    [theme=dark] .colab-df-convert:hover {\n",
              "      background-color: #434B5C;\n",
              "      box-shadow: 0px 1px 3px 1px rgba(0, 0, 0, 0.15);\n",
              "      filter: drop-shadow(0px 1px 2px rgba(0, 0, 0, 0.3));\n",
              "      fill: #FFFFFF;\n",
              "    }\n",
              "  </style>\n",
              "\n",
              "      <script>\n",
              "        const buttonEl =\n",
              "          document.querySelector('#df-a2d2c22d-11ab-4edb-b0f0-3a0a21ba6228 button.colab-df-convert');\n",
              "        buttonEl.style.display =\n",
              "          google.colab.kernel.accessAllowed ? 'block' : 'none';\n",
              "\n",
              "        async function convertToInteractive(key) {\n",
              "          const element = document.querySelector('#df-a2d2c22d-11ab-4edb-b0f0-3a0a21ba6228');\n",
              "          const dataTable =\n",
              "            await google.colab.kernel.invokeFunction('convertToInteractive',\n",
              "                                                     [key], {});\n",
              "          if (!dataTable) return;\n",
              "\n",
              "          const docLinkHtml = 'Like what you see? Visit the ' +\n",
              "            '<a target=\"_blank\" href=https://colab.research.google.com/notebooks/data_table.ipynb>data table notebook</a>'\n",
              "            + ' to learn more about interactive tables.';\n",
              "          element.innerHTML = '';\n",
              "          dataTable['output_type'] = 'display_data';\n",
              "          await google.colab.output.renderOutput(dataTable, element);\n",
              "          const docLink = document.createElement('div');\n",
              "          docLink.innerHTML = docLinkHtml;\n",
              "          element.appendChild(docLink);\n",
              "        }\n",
              "      </script>\n",
              "    </div>\n",
              "  </div>\n",
              "  "
            ]
          },
          "metadata": {},
          "execution_count": 24
        }
      ]
    },
    {
      "cell_type": "markdown",
      "source": [
        "## **Стандартизация**"
      ],
      "metadata": {
        "id": "CfnTnO2MQl7E"
      }
    },
    {
      "cell_type": "code",
      "source": [
        "# for column in X.columns:\n",
        "#   SD = X[column].std()\n",
        "#   X[column] = X[column]/SD\n",
        "\n",
        "scaler = StandardScaler(with_mean=False)\n",
        "\n",
        "scaler_X = scaler.fit_transform(insurance_data_cln)\n",
        "\n",
        "insurance_data_cln_stand = pd.DataFrame(scaler_X,\n",
        "                                        columns=insurance_data_cln.columns)\n",
        "\n",
        "insurance_data_cln_stand.head()"
      ],
      "metadata": {
        "colab": {
          "base_uri": "https://localhost:8080/",
          "height": 206
        },
        "id": "Ox577YqmkMGw",
        "outputId": "88593e12-4317-4709-9182-af4fd52ed589"
      },
      "execution_count": null,
      "outputs": [
        {
          "output_type": "execute_result",
          "data": {
            "text/plain": [
              "        age       sex       bmi  children   smoker   charges  southwest_reg  \\\n",
              "0  1.352823  0.000000  4.576841  0.000000  2.47805  1.394816       2.331899   \n",
              "1  1.281621  2.000109  5.539782  0.829846  0.00000  0.142543       0.000000   \n",
              "2  1.993633  2.000109  5.413468  2.489539  0.00000  0.367558       0.000000   \n",
              "3  2.349639  2.000109  3.724630  0.000000  0.00000  1.816075       0.000000   \n",
              "4  2.278438  2.000109  4.737605  0.000000  0.00000  0.319430       0.000000   \n",
              "\n",
              "   southeast_reg  northwest_reg  \n",
              "0       0.000000       0.000000  \n",
              "1       2.247118       0.000000  \n",
              "2       2.247118       0.000000  \n",
              "3       0.000000       2.331899  \n",
              "4       0.000000       2.331899  "
            ],
            "text/html": [
              "\n",
              "  <div id=\"df-d96a526d-ed16-47bf-85f0-3ab3d334cc2d\">\n",
              "    <div class=\"colab-df-container\">\n",
              "      <div>\n",
              "<style scoped>\n",
              "    .dataframe tbody tr th:only-of-type {\n",
              "        vertical-align: middle;\n",
              "    }\n",
              "\n",
              "    .dataframe tbody tr th {\n",
              "        vertical-align: top;\n",
              "    }\n",
              "\n",
              "    .dataframe thead th {\n",
              "        text-align: right;\n",
              "    }\n",
              "</style>\n",
              "<table border=\"1\" class=\"dataframe\">\n",
              "  <thead>\n",
              "    <tr style=\"text-align: right;\">\n",
              "      <th></th>\n",
              "      <th>age</th>\n",
              "      <th>sex</th>\n",
              "      <th>bmi</th>\n",
              "      <th>children</th>\n",
              "      <th>smoker</th>\n",
              "      <th>charges</th>\n",
              "      <th>southwest_reg</th>\n",
              "      <th>southeast_reg</th>\n",
              "      <th>northwest_reg</th>\n",
              "    </tr>\n",
              "  </thead>\n",
              "  <tbody>\n",
              "    <tr>\n",
              "      <th>0</th>\n",
              "      <td>1.352823</td>\n",
              "      <td>0.000000</td>\n",
              "      <td>4.576841</td>\n",
              "      <td>0.000000</td>\n",
              "      <td>2.47805</td>\n",
              "      <td>1.394816</td>\n",
              "      <td>2.331899</td>\n",
              "      <td>0.000000</td>\n",
              "      <td>0.000000</td>\n",
              "    </tr>\n",
              "    <tr>\n",
              "      <th>1</th>\n",
              "      <td>1.281621</td>\n",
              "      <td>2.000109</td>\n",
              "      <td>5.539782</td>\n",
              "      <td>0.829846</td>\n",
              "      <td>0.00000</td>\n",
              "      <td>0.142543</td>\n",
              "      <td>0.000000</td>\n",
              "      <td>2.247118</td>\n",
              "      <td>0.000000</td>\n",
              "    </tr>\n",
              "    <tr>\n",
              "      <th>2</th>\n",
              "      <td>1.993633</td>\n",
              "      <td>2.000109</td>\n",
              "      <td>5.413468</td>\n",
              "      <td>2.489539</td>\n",
              "      <td>0.00000</td>\n",
              "      <td>0.367558</td>\n",
              "      <td>0.000000</td>\n",
              "      <td>2.247118</td>\n",
              "      <td>0.000000</td>\n",
              "    </tr>\n",
              "    <tr>\n",
              "      <th>3</th>\n",
              "      <td>2.349639</td>\n",
              "      <td>2.000109</td>\n",
              "      <td>3.724630</td>\n",
              "      <td>0.000000</td>\n",
              "      <td>0.00000</td>\n",
              "      <td>1.816075</td>\n",
              "      <td>0.000000</td>\n",
              "      <td>0.000000</td>\n",
              "      <td>2.331899</td>\n",
              "    </tr>\n",
              "    <tr>\n",
              "      <th>4</th>\n",
              "      <td>2.278438</td>\n",
              "      <td>2.000109</td>\n",
              "      <td>4.737605</td>\n",
              "      <td>0.000000</td>\n",
              "      <td>0.00000</td>\n",
              "      <td>0.319430</td>\n",
              "      <td>0.000000</td>\n",
              "      <td>0.000000</td>\n",
              "      <td>2.331899</td>\n",
              "    </tr>\n",
              "  </tbody>\n",
              "</table>\n",
              "</div>\n",
              "      <button class=\"colab-df-convert\" onclick=\"convertToInteractive('df-d96a526d-ed16-47bf-85f0-3ab3d334cc2d')\"\n",
              "              title=\"Convert this dataframe to an interactive table.\"\n",
              "              style=\"display:none;\">\n",
              "        \n",
              "  <svg xmlns=\"http://www.w3.org/2000/svg\" height=\"24px\"viewBox=\"0 0 24 24\"\n",
              "       width=\"24px\">\n",
              "    <path d=\"M0 0h24v24H0V0z\" fill=\"none\"/>\n",
              "    <path d=\"M18.56 5.44l.94 2.06.94-2.06 2.06-.94-2.06-.94-.94-2.06-.94 2.06-2.06.94zm-11 1L8.5 8.5l.94-2.06 2.06-.94-2.06-.94L8.5 2.5l-.94 2.06-2.06.94zm10 10l.94 2.06.94-2.06 2.06-.94-2.06-.94-.94-2.06-.94 2.06-2.06.94z\"/><path d=\"M17.41 7.96l-1.37-1.37c-.4-.4-.92-.59-1.43-.59-.52 0-1.04.2-1.43.59L10.3 9.45l-7.72 7.72c-.78.78-.78 2.05 0 2.83L4 21.41c.39.39.9.59 1.41.59.51 0 1.02-.2 1.41-.59l7.78-7.78 2.81-2.81c.8-.78.8-2.07 0-2.86zM5.41 20L4 18.59l7.72-7.72 1.47 1.35L5.41 20z\"/>\n",
              "  </svg>\n",
              "      </button>\n",
              "      \n",
              "  <style>\n",
              "    .colab-df-container {\n",
              "      display:flex;\n",
              "      flex-wrap:wrap;\n",
              "      gap: 12px;\n",
              "    }\n",
              "\n",
              "    .colab-df-convert {\n",
              "      background-color: #E8F0FE;\n",
              "      border: none;\n",
              "      border-radius: 50%;\n",
              "      cursor: pointer;\n",
              "      display: none;\n",
              "      fill: #1967D2;\n",
              "      height: 32px;\n",
              "      padding: 0 0 0 0;\n",
              "      width: 32px;\n",
              "    }\n",
              "\n",
              "    .colab-df-convert:hover {\n",
              "      background-color: #E2EBFA;\n",
              "      box-shadow: 0px 1px 2px rgba(60, 64, 67, 0.3), 0px 1px 3px 1px rgba(60, 64, 67, 0.15);\n",
              "      fill: #174EA6;\n",
              "    }\n",
              "\n",
              "    [theme=dark] .colab-df-convert {\n",
              "      background-color: #3B4455;\n",
              "      fill: #D2E3FC;\n",
              "    }\n",
              "\n",
              "    [theme=dark] .colab-df-convert:hover {\n",
              "      background-color: #434B5C;\n",
              "      box-shadow: 0px 1px 3px 1px rgba(0, 0, 0, 0.15);\n",
              "      filter: drop-shadow(0px 1px 2px rgba(0, 0, 0, 0.3));\n",
              "      fill: #FFFFFF;\n",
              "    }\n",
              "  </style>\n",
              "\n",
              "      <script>\n",
              "        const buttonEl =\n",
              "          document.querySelector('#df-d96a526d-ed16-47bf-85f0-3ab3d334cc2d button.colab-df-convert');\n",
              "        buttonEl.style.display =\n",
              "          google.colab.kernel.accessAllowed ? 'block' : 'none';\n",
              "\n",
              "        async function convertToInteractive(key) {\n",
              "          const element = document.querySelector('#df-d96a526d-ed16-47bf-85f0-3ab3d334cc2d');\n",
              "          const dataTable =\n",
              "            await google.colab.kernel.invokeFunction('convertToInteractive',\n",
              "                                                     [key], {});\n",
              "          if (!dataTable) return;\n",
              "\n",
              "          const docLinkHtml = 'Like what you see? Visit the ' +\n",
              "            '<a target=\"_blank\" href=https://colab.research.google.com/notebooks/data_table.ipynb>data table notebook</a>'\n",
              "            + ' to learn more about interactive tables.';\n",
              "          element.innerHTML = '';\n",
              "          dataTable['output_type'] = 'display_data';\n",
              "          await google.colab.output.renderOutput(dataTable, element);\n",
              "          const docLink = document.createElement('div');\n",
              "          docLink.innerHTML = docLinkHtml;\n",
              "          element.appendChild(docLink);\n",
              "        }\n",
              "      </script>\n",
              "    </div>\n",
              "  </div>\n",
              "  "
            ]
          },
          "metadata": {},
          "execution_count": 25
        }
      ]
    },
    {
      "cell_type": "markdown",
      "source": [
        "## **Визуализация признаков**"
      ],
      "metadata": {
        "id": "YgKEwTCDlYNo"
      }
    },
    {
      "cell_type": "code",
      "source": [
        "plt.figure(figsize=(8, 4))\n",
        "plt.hist(insurance_data_cln_stand['charges'], bins=50, ec='black', color='#2196f3')\n",
        "plt.xlabel('Расходы на страховку')\n",
        "plt.ylabel('Количество людей')\n",
        "skew_rate = insurance_data_cln_stand['charges'].skew()\n",
        "plt.title(f'Skew {skew_rate}')\n",
        "plt.show()"
      ],
      "metadata": {
        "colab": {
          "base_uri": "https://localhost:8080/",
          "height": 328
        },
        "id": "IjawxgSglXi3",
        "outputId": "379dac86-f82e-4806-ea95-8fc22fb549b1"
      },
      "execution_count": null,
      "outputs": [
        {
          "output_type": "display_data",
          "data": {
            "text/plain": [
              "<Figure size 640x320 with 1 Axes>"
            ],
            "image/png": "[encoded data removed]"
          },
          "metadata": {}
        }
      ]
    },
    {
      "cell_type": "code",
      "source": [
        "y_log = np.log(insurance_data_cln_stand['charges'])\n",
        "sns.distplot(y_log)\n",
        "plt.title(f'Log charge with skew {y_log.skew()}')\n",
        "plt.show()"
      ],
      "metadata": {
        "colab": {
          "base_uri": "https://localhost:8080/",
          "height": 451
        },
        "id": "0P3K15EKlXlw",
        "outputId": "650c2eec-e8da-4be6-b80a-94c41d5d52b1"
      },
      "execution_count": null,
      "outputs": [
        {
          "output_type": "display_data",
          "data": {
            "text/plain": [
              "<Figure size 960x480 with 1 Axes>"
            ],
            "image/png": "[encoded data removed]"
          },
          "metadata": {}
        }
      ]
    },
    {
      "cell_type": "markdown",
      "source": [
        "## **Логарифмируем целевую переменную**"
      ],
      "metadata": {
        "id": "M_JSuFMKpP2w"
      }
    },
    {
      "cell_type": "code",
      "source": [
        "insurance_data_cln_stand['charges'] = np.log(insurance_data_cln_stand['charges'])"
      ],
      "metadata": {
        "id": "ZlHoBLNvlXqY"
      },
      "execution_count": null,
      "outputs": []
    },
    {
      "cell_type": "markdown",
      "source": [
        "## **Корреляция**"
      ],
      "metadata": {
        "id": "tz3Xsjp2ia-u"
      }
    },
    {
      "cell_type": "code",
      "source": [
        "mask = np.zeros_like(insurance_data_cln_stand.corr())\n",
        "triangle_indices = np.triu_indices_from(mask)\n",
        "mask[triangle_indices] = True\n",
        "mask"
      ],
      "metadata": {
        "colab": {
          "base_uri": "https://localhost:8080/"
        },
        "id": "aYGqnczWiYd1",
        "outputId": "0beffad4-4e27-472f-8a25-31cb10add3bb"
      },
      "execution_count": null,
      "outputs": [
        {
          "output_type": "execute_result",
          "data": {
            "text/plain": [
              "array([[1., 1., 1., 1., 1., 1., 1., 1., 1.],\n",
              "       [0., 1., 1., 1., 1., 1., 1., 1., 1.],\n",
              "       [0., 0., 1., 1., 1., 1., 1., 1., 1.],\n",
              "       [0., 0., 0., 1., 1., 1., 1., 1., 1.],\n",
              "       [0., 0., 0., 0., 1., 1., 1., 1., 1.],\n",
              "       [0., 0., 0., 0., 0., 1., 1., 1., 1.],\n",
              "       [0., 0., 0., 0., 0., 0., 1., 1., 1.],\n",
              "       [0., 0., 0., 0., 0., 0., 0., 1., 1.],\n",
              "       [0., 0., 0., 0., 0., 0., 0., 0., 1.]])"
            ]
          },
          "metadata": {},
          "execution_count": 29
        }
      ]
    },
    {
      "cell_type": "code",
      "source": [
        "sns.heatmap(insurance_data_cln_stand.corr(), mask=mask, annot=True,\n",
        "            annot_kws={'size':14})\n",
        "sns.set_style('white')\n",
        "plt.xticks(fontsize=14)\n",
        "plt.yticks(fontsize=14)\n",
        "plt.show()"
      ],
      "metadata": {
        "colab": {
          "base_uri": "https://localhost:8080/",
          "height": 523
        },
        "id": "U6vmJKj1iYkl",
        "outputId": "f2a68961-c6b8-4d31-b965-12ed8780d757"
      },
      "execution_count": null,
      "outputs": [
        {
          "output_type": "display_data",
          "data": {
            "text/plain": [
              "<Figure size 960x480 with 2 Axes>"
            ],
            "image/png": "[encoded data removed]"
          },
          "metadata": {}
        }
      ]
    },
    {
      "cell_type": "code",
      "source": [
        "sns.boxplot(x='smoker', y='charges', data=insurance_data_cln_stand)\n",
        "plt.show()"
      ],
      "metadata": {
        "colab": {
          "base_uri": "https://localhost:8080/",
          "height": 434
        },
        "id": "y-9nYrj2jnCR",
        "outputId": "09db9885-b9a1-4365-d4ee-76859f1e144b"
      },
      "execution_count": null,
      "outputs": [
        {
          "output_type": "display_data",
          "data": {
            "text/plain": [
              "<Figure size 960x480 with 1 Axes>"
            ],
            "image/png": "[encoded data removed]"
          },
          "metadata": {}
        }
      ]
    },
    {
      "cell_type": "code",
      "source": [
        "sns.lmplot(x='age', y='charges', data=insurance_data_cln_stand)\n",
        "plt.show()"
      ],
      "metadata": {
        "colab": {
          "base_uri": "https://localhost:8080/",
          "height": 409
        },
        "id": "Lq2fAofFqvfT",
        "outputId": "427b1e93-4ee8-454d-83cf-6eff1cb42bdd"
      },
      "execution_count": null,
      "outputs": [
        {
          "output_type": "display_data",
          "data": {
            "text/plain": [
              "<Figure size 400x400 with 1 Axes>"
            ],
            "image/png": "[encoded data removed]"
          },
          "metadata": {}
        }
      ]
    },
    {
      "cell_type": "markdown",
      "source": [
        "## **Отедляем зависимую и независимые переменные**"
      ],
      "metadata": {
        "id": "czSSi4R1rXvi"
      }
    },
    {
      "cell_type": "code",
      "source": [
        "X = insurance_data_cln_stand.drop(['charges'], axis=1)\n",
        "Y = insurance_data_cln_stand['charges']"
      ],
      "metadata": {
        "id": "xjcnKHmcrSeX"
      },
      "execution_count": null,
      "outputs": []
    },
    {
      "cell_type": "markdown",
      "source": [
        "## **Добавляем признаков**"
      ],
      "metadata": {
        "id": "rVCMOe976BqC"
      }
    },
    {
      "cell_type": "code",
      "source": [
        "X['age*bmi'] = X['age'] * X['bmi']"
      ],
      "metadata": {
        "id": "dafXeL-XkBOW"
      },
      "execution_count": null,
      "outputs": []
    },
    {
      "cell_type": "code",
      "source": [
        "insurance_data_cln_stand.head()"
      ],
      "metadata": {
        "colab": {
          "base_uri": "https://localhost:8080/",
          "height": 206
        },
        "id": "sf5Py8ac8sGo",
        "outputId": "bfa1d78e-642a-4fdb-f40a-7ff216f6d195"
      },
      "execution_count": null,
      "outputs": [
        {
          "output_type": "execute_result",
          "data": {
            "text/plain": [
              "        age       sex       bmi  children   smoker   charges  southwest_reg  \\\n",
              "0  1.352823  0.000000  4.576841  0.000000  2.47805  0.332762       2.331899   \n",
              "1  1.281621  2.000109  5.539782  0.829846  0.00000 -1.948111       0.000000   \n",
              "2  1.993633  2.000109  5.413468  2.489539  0.00000 -1.000875       0.000000   \n",
              "3  2.349639  2.000109  3.724630  0.000000  0.00000  0.596678       0.000000   \n",
              "4  2.278438  2.000109  4.737605  0.000000  0.00000 -1.141217       0.000000   \n",
              "\n",
              "   southeast_reg  northwest_reg  \n",
              "0       0.000000       0.000000  \n",
              "1       2.247118       0.000000  \n",
              "2       2.247118       0.000000  \n",
              "3       0.000000       2.331899  \n",
              "4       0.000000       2.331899  "
            ],
            "text/html": [
              "\n",
              "  <div id=\"df-4d59f732-ac64-4ee4-bc98-e77adfaec157\">\n",
              "    <div class=\"colab-df-container\">\n",
              "      <div>\n",
              "<style scoped>\n",
              "    .dataframe tbody tr th:only-of-type {\n",
              "        vertical-align: middle;\n",
              "    }\n",
              "\n",
              "    .dataframe tbody tr th {\n",
              "        vertical-align: top;\n",
              "    }\n",
              "\n",
              "    .dataframe thead th {\n",
              "        text-align: right;\n",
              "    }\n",
              "</style>\n",
              "<table border=\"1\" class=\"dataframe\">\n",
              "  <thead>\n",
              "    <tr style=\"text-align: right;\">\n",
              "      <th></th>\n",
              "      <th>age</th>\n",
              "      <th>sex</th>\n",
              "      <th>bmi</th>\n",
              "      <th>children</th>\n",
              "      <th>smoker</th>\n",
              "      <th>charges</th>\n",
              "      <th>southwest_reg</th>\n",
              "      <th>southeast_reg</th>\n",
              "      <th>northwest_reg</th>\n",
              "    </tr>\n",
              "  </thead>\n",
              "  <tbody>\n",
              "    <tr>\n",
              "      <th>0</th>\n",
              "      <td>1.352823</td>\n",
              "      <td>0.000000</td>\n",
              "      <td>4.576841</td>\n",
              "      <td>0.000000</td>\n",
              "      <td>2.47805</td>\n",
              "      <td>0.332762</td>\n",
              "      <td>2.331899</td>\n",
              "      <td>0.000000</td>\n",
              "      <td>0.000000</td>\n",
              "    </tr>\n",
              "    <tr>\n",
              "      <th>1</th>\n",
              "      <td>1.281621</td>\n",
              "      <td>2.000109</td>\n",
              "      <td>5.539782</td>\n",
              "      <td>0.829846</td>\n",
              "      <td>0.00000</td>\n",
              "      <td>-1.948111</td>\n",
              "      <td>0.000000</td>\n",
              "      <td>2.247118</td>\n",
              "      <td>0.000000</td>\n",
              "    </tr>\n",
              "    <tr>\n",
              "      <th>2</th>\n",
              "      <td>1.993633</td>\n",
              "      <td>2.000109</td>\n",
              "      <td>5.413468</td>\n",
              "      <td>2.489539</td>\n",
              "      <td>0.00000</td>\n",
              "      <td>-1.000875</td>\n",
              "      <td>0.000000</td>\n",
              "      <td>2.247118</td>\n",
              "      <td>0.000000</td>\n",
              "    </tr>\n",
              "    <tr>\n",
              "      <th>3</th>\n",
              "      <td>2.349639</td>\n",
              "      <td>2.000109</td>\n",
              "      <td>3.724630</td>\n",
              "      <td>0.000000</td>\n",
              "      <td>0.00000</td>\n",
              "      <td>0.596678</td>\n",
              "      <td>0.000000</td>\n",
              "      <td>0.000000</td>\n",
              "      <td>2.331899</td>\n",
              "    </tr>\n",
              "    <tr>\n",
              "      <th>4</th>\n",
              "      <td>2.278438</td>\n",
              "      <td>2.000109</td>\n",
              "      <td>4.737605</td>\n",
              "      <td>0.000000</td>\n",
              "      <td>0.00000</td>\n",
              "      <td>-1.141217</td>\n",
              "      <td>0.000000</td>\n",
              "      <td>0.000000</td>\n",
              "      <td>2.331899</td>\n",
              "    </tr>\n",
              "  </tbody>\n",
              "</table>\n",
              "</div>\n",
              "      <button class=\"colab-df-convert\" onclick=\"convertToInteractive('df-4d59f732-ac64-4ee4-bc98-e77adfaec157')\"\n",
              "              title=\"Convert this dataframe to an interactive table.\"\n",
              "              style=\"display:none;\">\n",
              "        \n",
              "  <svg xmlns=\"http://www.w3.org/2000/svg\" height=\"24px\"viewBox=\"0 0 24 24\"\n",
              "       width=\"24px\">\n",
              "    <path d=\"M0 0h24v24H0V0z\" fill=\"none\"/>\n",
              "    <path d=\"M18.56 5.44l.94 2.06.94-2.06 2.06-.94-2.06-.94-.94-2.06-.94 2.06-2.06.94zm-11 1L8.5 8.5l.94-2.06 2.06-.94-2.06-.94L8.5 2.5l-.94 2.06-2.06.94zm10 10l.94 2.06.94-2.06 2.06-.94-2.06-.94-.94-2.06-.94 2.06-2.06.94z\"/><path d=\"M17.41 7.96l-1.37-1.37c-.4-.4-.92-.59-1.43-.59-.52 0-1.04.2-1.43.59L10.3 9.45l-7.72 7.72c-.78.78-.78 2.05 0 2.83L4 21.41c.39.39.9.59 1.41.59.51 0 1.02-.2 1.41-.59l7.78-7.78 2.81-2.81c.8-.78.8-2.07 0-2.86zM5.41 20L4 18.59l7.72-7.72 1.47 1.35L5.41 20z\"/>\n",
              "  </svg>\n",
              "      </button>\n",
              "      \n",
              "  <style>\n",
              "    .colab-df-container {\n",
              "      display:flex;\n",
              "      flex-wrap:wrap;\n",
              "      gap: 12px;\n",
              "    }\n",
              "\n",
              "    .colab-df-convert {\n",
              "      background-color: #E8F0FE;\n",
              "      border: none;\n",
              "      border-radius: 50%;\n",
              "      cursor: pointer;\n",
              "      display: none;\n",
              "      fill: #1967D2;\n",
              "      height: 32px;\n",
              "      padding: 0 0 0 0;\n",
              "      width: 32px;\n",
              "    }\n",
              "\n",
              "    .colab-df-convert:hover {\n",
              "      background-color: #E2EBFA;\n",
              "      box-shadow: 0px 1px 2px rgba(60, 64, 67, 0.3), 0px 1px 3px 1px rgba(60, 64, 67, 0.15);\n",
              "      fill: #174EA6;\n",
              "    }\n",
              "\n",
              "    [theme=dark] .colab-df-convert {\n",
              "      background-color: #3B4455;\n",
              "      fill: #D2E3FC;\n",
              "    }\n",
              "\n",
              "    [theme=dark] .colab-df-convert:hover {\n",
              "      background-color: #434B5C;\n",
              "      box-shadow: 0px 1px 3px 1px rgba(0, 0, 0, 0.15);\n",
              "      filter: drop-shadow(0px 1px 2px rgba(0, 0, 0, 0.3));\n",
              "      fill: #FFFFFF;\n",
              "    }\n",
              "  </style>\n",
              "\n",
              "      <script>\n",
              "        const buttonEl =\n",
              "          document.querySelector('#df-4d59f732-ac64-4ee4-bc98-e77adfaec157 button.colab-df-convert');\n",
              "        buttonEl.style.display =\n",
              "          google.colab.kernel.accessAllowed ? 'block' : 'none';\n",
              "\n",
              "        async function convertToInteractive(key) {\n",
              "          const element = document.querySelector('#df-4d59f732-ac64-4ee4-bc98-e77adfaec157');\n",
              "          const dataTable =\n",
              "            await google.colab.kernel.invokeFunction('convertToInteractive',\n",
              "                                                     [key], {});\n",
              "          if (!dataTable) return;\n",
              "\n",
              "          const docLinkHtml = 'Like what you see? Visit the ' +\n",
              "            '<a target=\"_blank\" href=https://colab.research.google.com/notebooks/data_table.ipynb>data table notebook</a>'\n",
              "            + ' to learn more about interactive tables.';\n",
              "          element.innerHTML = '';\n",
              "          dataTable['output_type'] = 'display_data';\n",
              "          await google.colab.output.renderOutput(dataTable, element);\n",
              "          const docLink = document.createElement('div');\n",
              "          docLink.innerHTML = docLinkHtml;\n",
              "          element.appendChild(docLink);\n",
              "        }\n",
              "      </script>\n",
              "    </div>\n",
              "  </div>\n",
              "  "
            ]
          },
          "metadata": {},
          "execution_count": 43
        }
      ]
    },
    {
      "cell_type": "markdown",
      "source": [
        "# **Кросс-валидация**"
      ],
      "metadata": {
        "id": "SnkeOXbgZA9E"
      }
    },
    {
      "cell_type": "code",
      "source": [
        "cv_results = cross_validate(LinearRegression(), X, Y, cv=10,\n",
        "                            scoring = 'neg_mean_squared_error',\n",
        "                            return_train_score=True)\n",
        "\n",
        "print('Средняя MSE train', (-cv_results['train_score']).mean())\n",
        "print('Средняя MSE test', (-cv_results['test_score']).mean())"
      ],
      "metadata": {
        "colab": {
          "base_uri": "https://localhost:8080/"
        },
        "id": "1zhwGnRiZAi1",
        "outputId": "884f8055-97ab-48d1-b9bf-e5d2ba6099ae"
      },
      "execution_count": null,
      "outputs": [
        {
          "output_type": "stream",
          "name": "stdout",
          "text": [
            "Средняя MSE train 0.19562490702641794\n",
            "Средняя MSE test 0.19879701560519464\n"
          ]
        }
      ]
    },
    {
      "cell_type": "code",
      "source": [
        "plt.scatter([i for i in range(1,11)], -cv_results['train_score'],\n",
        "            label = 'train')\n",
        "plt.scatter([i for i in range(1,11)], -cv_results['test_score'],\n",
        "            label = 'test')\n",
        "plt.xlabel('Номер Фолда')\n",
        "plt.ylabel('MSE')\n",
        "plt.legend()\n",
        "plt.show()"
      ],
      "metadata": {
        "colab": {
          "base_uri": "https://localhost:8080/",
          "height": 434
        },
        "id": "K-KoEjyIZwU0",
        "outputId": "0e4a378d-3b6f-495c-f43b-5ce1b680802c"
      },
      "execution_count": null,
      "outputs": [
        {
          "output_type": "display_data",
          "data": {
            "text/plain": [
              "<Figure size 960x480 with 1 Axes>"
            ],
            "image/png": "[encoded data removed]"
          },
          "metadata": {}
        }
      ]
    },
    {
      "cell_type": "markdown",
      "source": [
        "# **Forward**"
      ],
      "metadata": {
        "id": "55Uq3v7RulX1"
      }
    },
    {
      "cell_type": "markdown",
      "source": [
        "## **Рассчитываем**"
      ],
      "metadata": {
        "id": "e4lkoWjd1iBy"
      }
    },
    {
      "cell_type": "code",
      "source": [
        "feature_all = list(X.columns)\n",
        "forward = []\n",
        "dict_forward = {'step':[],\n",
        "                'best_feature':[],\n",
        "                'mse_train':[],\n",
        "                'mse_test':[]}\n",
        "\n",
        "for feature_count in range(1, X.shape[1]+1):#Добавляем признаки\n",
        "  MSE_best = np.inf\n",
        "  for feature in feature_all:\n",
        "    current_features = forward + [feature]\n",
        "    cv = cross_validate(LinearRegression(), X[current_features], Y, cv=10,\n",
        "                        scoring = 'neg_mean_squared_error',\n",
        "                        return_train_score=True)\n",
        "    if (-cv['train_score'].mean()) < MSE_best:\n",
        "      MSE_best = (-cv['train_score'].mean())\n",
        "      best_model = cv\n",
        "      best_feature = feature\n",
        "  dict_forward['step'].append(feature_count)\n",
        "  dict_forward['best_feature'].append(best_feature)\n",
        "  dict_forward['mse_train'].append(MSE_best)\n",
        "  dict_forward['mse_test'].append((-best_model['test_score'].mean()))\n",
        "  forward.append(best_feature)#Добавляем лучший признак\n",
        "  feature_all.remove(best_feature)#Удаляем лучший признак"
      ],
      "metadata": {
        "id": "CZvLEmsyO72a"
      },
      "execution_count": null,
      "outputs": []
    },
    {
      "cell_type": "markdown",
      "source": [
        "## **Визуализируем**"
      ],
      "metadata": {
        "id": "EyEv-8af1pqa"
      }
    },
    {
      "cell_type": "code",
      "source": [
        "plt.scatter(dict_forward['step'], dict_forward['mse_train'], label = 'train')\n",
        "plt.scatter(dict_forward['step'], dict_forward['mse_test'], label = 'test')\n",
        "plt.title('Forward')\n",
        "plt.xlabel('Количество признаков')\n",
        "plt.ylabel('MSE')\n",
        "plt.legend()\n",
        "plt.show()"
      ],
      "metadata": {
        "colab": {
          "base_uri": "https://localhost:8080/",
          "height": 451
        },
        "id": "VLb-zzADwfZr",
        "outputId": "e8d320cb-04dc-4261-8083-6fea2cab0fd0"
      },
      "execution_count": null,
      "outputs": [
        {
          "output_type": "display_data",
          "data": {
            "text/plain": [
              "<Figure size 960x480 with 1 Axes>"
            ],
            "image/png": "[encoded data removed]"
          },
          "metadata": {}
        }
      ]
    },
    {
      "cell_type": "markdown",
      "source": [
        "## **Поиск оптимального количества признаков**"
      ],
      "metadata": {
        "id": "Hys5cRPY2c2L"
      }
    },
    {
      "cell_type": "code",
      "source": [
        "min_MSE = min(dict_forward['mse_test'])\n",
        "\n",
        "index_min_MSE = dict_forward['mse_test'].index(min_MSE)\n",
        "\n",
        "best_number_of_features = dict_forward['step'][index_min_MSE]\n",
        "\n",
        "best_number_of_features"
      ],
      "metadata": {
        "colab": {
          "base_uri": "https://localhost:8080/"
        },
        "id": "iQmx0rNVwkZR",
        "outputId": "59999045-ebeb-488a-f00c-d88c07595891"
      },
      "execution_count": null,
      "outputs": [
        {
          "output_type": "execute_result",
          "data": {
            "text/plain": [
              "8"
            ]
          },
          "metadata": {},
          "execution_count": 50
        }
      ]
    },
    {
      "cell_type": "code",
      "source": [
        "dict_forward"
      ],
      "metadata": {
        "colab": {
          "base_uri": "https://localhost:8080/"
        },
        "id": "qw-5GEIM9dq4",
        "outputId": "33231b0d-72a6-4504-f4ea-7b324dca93cc"
      },
      "execution_count": null,
      "outputs": [
        {
          "output_type": "execute_result",
          "data": {
            "text/plain": [
              "{'step': [1, 2, 3, 4, 5, 6, 7, 8, 9],\n",
              " 'best_feature': ['smoker',\n",
              "  'age',\n",
              "  'children',\n",
              "  'bmi',\n",
              "  'southeast_reg',\n",
              "  'southwest_reg',\n",
              "  'sex',\n",
              "  'northwest_reg',\n",
              "  'age*bmi'],\n",
              " 'mse_train': [0.4706385781008257,\n",
              "  0.2199934474738538,\n",
              "  0.20500809726543104,\n",
              "  0.2008727209797116,\n",
              "  0.19936695601960622,\n",
              "  0.19785085865072238,\n",
              "  0.19642928976241358,\n",
              "  0.19591885671312725,\n",
              "  0.19562490702641794],\n",
              " 'mse_test': [0.4716612397641775,\n",
              "  0.22128568509575133,\n",
              "  0.20659371724523684,\n",
              "  0.2025163066722408,\n",
              "  0.20120096975181362,\n",
              "  0.19997682676179723,\n",
              "  0.1989444770213839,\n",
              "  0.19879092054423841,\n",
              "  0.19879701560519467]}"
            ]
          },
          "metadata": {},
          "execution_count": 51
        }
      ]
    },
    {
      "cell_type": "markdown",
      "source": [
        "# **Backward**"
      ],
      "metadata": {
        "id": "RhS2SzRL3VIv"
      }
    },
    {
      "cell_type": "markdown",
      "source": [
        "## **Рассчитываем**"
      ],
      "metadata": {
        "id": "EmyuTNYV5D8a"
      }
    },
    {
      "cell_type": "code",
      "source": [
        "feature_all = list(X.columns)\n",
        "backward = []\n",
        "dict_backward = {'step':[],\n",
        "                 'worst_feature':[],\n",
        "                 'mse_train':[],\n",
        "                 'mse_test':[]}\n",
        "X_back = X\n",
        "\n",
        "\n",
        "for feature_count in range(X.shape[1]-1, 0, -1):\n",
        "  MSE_best = np.inf\n",
        "  for feature in feature_all:\n",
        "    X_drop = X_back.drop([feature], axis=1)\n",
        "    cv = cross_validate(LinearRegression(), X_drop, Y, cv=10,\n",
        "                        scoring = 'neg_mean_squared_error',\n",
        "                        return_train_score=True)\n",
        "    if (-cv['train_score'].mean()) < MSE_best:\n",
        "      MSE_best = (-cv['train_score'].mean())\n",
        "      best_model = cv\n",
        "      worst_feature = feature\n",
        "  dict_backward['step'].insert(0, feature_count)\n",
        "  dict_backward['worst_feature'].insert(0, worst_feature)\n",
        "  dict_backward['mse_train'].insert(0, MSE_best)\n",
        "  dict_backward['mse_test'].insert(0, (-best_model['test_score'].mean()))\n",
        "  backward.insert(0,worst_feature)\n",
        "  feature_all.remove(worst_feature)\n",
        "  X_back = X_back.drop([worst_feature], axis=1)"
      ],
      "metadata": {
        "id": "Iy8UUNZ_3XD_"
      },
      "execution_count": null,
      "outputs": []
    },
    {
      "cell_type": "markdown",
      "source": [
        "## **Визуализируем**"
      ],
      "metadata": {
        "id": "69hMZNrCFQ4B"
      }
    },
    {
      "cell_type": "code",
      "source": [
        "plt.scatter(dict_backward['step'], dict_backward['mse_train'], label = 'train')\n",
        "plt.scatter(dict_backward['step'], dict_backward['mse_test'], label = 'test')\n",
        "plt.title('Backward')\n",
        "plt.xlabel('Количество признаков')\n",
        "plt.ylabel('MSE')\n",
        "plt.legend()\n",
        "plt.show()"
      ],
      "metadata": {
        "colab": {
          "base_uri": "https://localhost:8080/",
          "height": 451
        },
        "id": "K81lDwfUEOgU",
        "outputId": "cee972dc-0bc6-4ad1-cf05-0d43a153ac59"
      },
      "execution_count": null,
      "outputs": [
        {
          "output_type": "display_data",
          "data": {
            "text/plain": [
              "<Figure size 960x480 with 1 Axes>"
            ],
            "image/png": "[encoded data removed]"
          },
          "metadata": {}
        }
      ]
    },
    {
      "cell_type": "markdown",
      "source": [
        "## **Поиск оптимального количества признаков**"
      ],
      "metadata": {
        "id": "Rq-Ws4wCFlVX"
      }
    },
    {
      "cell_type": "code",
      "source": [
        "min_MSE = min(dict_backward['mse_test'])\n",
        "\n",
        "index_min_MSE = dict_backward['mse_test'].index(min_MSE)\n",
        "\n",
        "best_number_of_features = dict_backward['step'][index_min_MSE]\n",
        "\n",
        "best_number_of_features"
      ],
      "metadata": {
        "colab": {
          "base_uri": "https://localhost:8080/"
        },
        "id": "TdVj51wCEO_O",
        "outputId": "3dccfd77-253b-48b2-b9ea-a89490e1d207"
      },
      "execution_count": null,
      "outputs": [
        {
          "output_type": "execute_result",
          "data": {
            "text/plain": [
              "8"
            ]
          },
          "metadata": {},
          "execution_count": 42
        }
      ]
    },
    {
      "cell_type": "code",
      "source": [
        "dict_backward"
      ],
      "metadata": {
        "colab": {
          "base_uri": "https://localhost:8080/"
        },
        "id": "DSzQoRmp9kQv",
        "outputId": "7524a469-151c-42c4-e814-b8b02f8173c1"
      },
      "execution_count": null,
      "outputs": [
        {
          "output_type": "execute_result",
          "data": {
            "text/plain": [
              "{'step': [1, 2, 3, 4, 5, 6, 7, 8],\n",
              " 'worst_feature': ['age',\n",
              "  'children',\n",
              "  'bmi',\n",
              "  'southeast_reg',\n",
              "  'southwest_reg',\n",
              "  'sex',\n",
              "  'northwest_reg',\n",
              "  'age*bmi'],\n",
              " 'mse_train': [0.4706162331166549,\n",
              "  0.2198815750034689,\n",
              "  0.20487748728637448,\n",
              "  0.20072996584369754,\n",
              "  0.1992041444914706,\n",
              "  0.1976681604404012,\n",
              "  0.19623679558914836,\n",
              "  0.19571820166698017],\n",
              " 'mse_test': [0.47133004155368063,\n",
              "  0.22165261415925225,\n",
              "  0.20697630416448157,\n",
              "  0.20298149918892566,\n",
              "  0.20175384072354924,\n",
              "  0.20055700534780097,\n",
              "  0.19942357803170385,\n",
              "  0.19916276083446333]}"
            ]
          },
          "metadata": {},
          "execution_count": 47
        }
      ]
    },
    {
      "cell_type": "code",
      "source": [],
      "metadata": {
        "id": "uc81bs3_9lE2"
      },
      "execution_count": null,
      "outputs": []
    }
  ]
}