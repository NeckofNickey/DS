{
 "cells": [
  {
   "cell_type": "markdown",
   "id": "1b3c0285",
   "metadata": {},
   "source": [
    "# Импорт библиотек"
   ]
  },
  {
   "cell_type": "code",
   "execution_count": 1,
   "id": "390233a7",
   "metadata": {},
   "outputs": [],
   "source": [
    "import pandas as pd\n",
    "import numpy as np\n",
    "\n",
    "from scipy import stats\n",
    "import statsmodels.stats.power as smp\n",
    "\n",
    "from math import sqrt, ceil\n",
    "\n",
    "from sympy import *"
   ]
  },
  {
   "cell_type": "markdown",
   "id": "c8ae6f81",
   "metadata": {},
   "source": [
    "# Формулы"
   ]
  },
  {
   "cell_type": "markdown",
   "id": "8b1ac400",
   "metadata": {},
   "source": [
    "## Задаем пространство символов"
   ]
  },
  {
   "cell_type": "code",
   "execution_count": 102,
   "id": "d1161500",
   "metadata": {},
   "outputs": [
    {
     "data": {
      "text/plain": [
       "(p_c, p_t, MDE, z1_alpha, z1_beta, q, x)"
      ]
     },
     "execution_count": 102,
     "metadata": {},
     "output_type": "execute_result"
    }
   ],
   "source": [
    "var('p_c p_t MDE z1_alpha z1_beta q x')"
   ]
  },
  {
   "cell_type": "markdown",
   "id": "53564a1c",
   "metadata": {},
   "source": [
    "## Задаем формулы"
   ]
  },
  {
   "cell_type": "code",
   "execution_count": 39,
   "id": "a17605cc",
   "metadata": {},
   "outputs": [
    {
     "data": {
      "text/latex": [
       "$\\displaystyle \\frac{MDE}{\\sqrt{p_{c} \\left(1 - p_{c}\\right) + p_{t} \\left(1 - p_{t}\\right)}}$"
      ],
      "text/plain": [
       "MDE/sqrt(p_c*(1 - p_c) + p_t*(1 - p_t))"
      ]
     },
     "execution_count": 39,
     "metadata": {},
     "output_type": "execute_result"
    }
   ],
   "source": [
    "effect_size_expr = MDE/sqrt(p_t*(1-p_t)+(p_c*(1-p_c)))\n",
    "\n",
    "effect_size_expr"
   ]
  },
  {
   "cell_type": "code",
   "execution_count": 40,
   "id": "fecbc4e4",
   "metadata": {},
   "outputs": [
    {
     "data": {
      "text/latex": [
       "$\\displaystyle \\frac{\\sqrt{p_{t} \\left(1 - p_{t}\\right)}}{\\sqrt{p_{c} \\left(1 - p_{c}\\right)} + \\sqrt{p_{t} \\left(1 - p_{t}\\right)}}$"
      ],
      "text/plain": [
       "sqrt(p_t*(1 - p_t))/(sqrt(p_c*(1 - p_c)) + sqrt(p_t*(1 - p_t)))"
      ]
     },
     "execution_count": 40,
     "metadata": {},
     "output_type": "execute_result"
    }
   ],
   "source": [
    "q_expression = sqrt(p_t*(1-p_t))/(sqrt(p_c*(1-p_c))+sqrt(p_t*(1-p_t)))\n",
    "\n",
    "q_expression"
   ]
  },
  {
   "cell_type": "code",
   "execution_count": 41,
   "id": "aab4197a",
   "metadata": {},
   "outputs": [
    {
     "data": {
      "text/latex": [
       "$\\displaystyle \\frac{\\left(z_{1 \\alpha} + z_{1 \\beta}\\right)^{2} \\left(\\frac{p_{c} \\left(1 - p_{c}\\right)}{1 - q} + \\frac{p_{t} \\left(1 - p_{t}\\right)}{q}\\right)}{MDE^{2}}$"
      ],
      "text/plain": [
       "(z1_alpha + z1_beta)**2*(p_c*(1 - p_c)/(1 - q) + p_t*(1 - p_t)/q)/MDE**2"
      ]
     },
     "execution_count": 41,
     "metadata": {},
     "output_type": "execute_result"
    }
   ],
   "source": [
    "n_expression = (((z1_alpha + z1_beta)**2)*(p_t*(1-p_t)/q + p_c*(1-p_c)/(1-q)))/MDE**2\n",
    "\n",
    "n_expression"
   ]
  },
  {
   "cell_type": "markdown",
   "id": "02bf6a0e",
   "metadata": {},
   "source": [
    "# Задача 1 (на опредение объема выборки)\n",
    "___________\n",
    "\n",
    "Вы работаете в интернет-магазине и хотите провести A/B тест для нового дизайна страницы товара, чтобы определить, какой из дизайонов приводит к большему числу покупок. Из предыдущик тестов известно, что **конверсия** на текущем дизайне составляет около **5%**. Вы хотите обнаружить изменение **конверсии на 1%**, имея уровень **значимости 95% и мощность теста 80%**. Какой объем выборки необходим для каждой группы (A и B)? "
   ]
  },
  {
   "cell_type": "code",
   "execution_count": 46,
   "id": "1f3878e5",
   "metadata": {},
   "outputs": [],
   "source": [
    "p_c_num = 0.05\n",
    "p_t_num = 0.06\n",
    "MDE_num = round(p_t_num - p_c_num, 2)\n",
    "alpha = 0.05\n",
    "power = 0.8\n",
    "beta = round(1 - power, 2)\n",
    "effect_size = float(effect_size_expr.evalf(subs={p_t: p_t_num, \n",
    "                                           p_c:p_c_num,\n",
    "                                           MDE:MDE_num}))\n",
    "\n",
    "z_1_minus_alpha = stats.norm.ppf(1-alpha)\n",
    "z_1_minus_beta = stats.norm.ppf(1-beta)"
   ]
  },
  {
   "cell_type": "code",
   "execution_count": 47,
   "id": "92820c72",
   "metadata": {},
   "outputs": [
    {
     "data": {
      "text/plain": [
       "1.6448536269514722"
      ]
     },
     "execution_count": 47,
     "metadata": {},
     "output_type": "execute_result"
    }
   ],
   "source": [
    "z_1_minus_alpha"
   ]
  },
  {
   "cell_type": "code",
   "execution_count": 48,
   "id": "d77e58bb",
   "metadata": {},
   "outputs": [
    {
     "data": {
      "text/plain": [
       "0.8416212335729143"
      ]
     },
     "execution_count": 48,
     "metadata": {},
     "output_type": "execute_result"
    }
   ],
   "source": [
    "z_1_minus_beta"
   ]
  },
  {
   "cell_type": "markdown",
   "id": "339fe372",
   "metadata": {},
   "source": [
    "## Пакет stats"
   ]
  },
  {
   "cell_type": "code",
   "execution_count": 49,
   "id": "3a57f5ef",
   "metadata": {},
   "outputs": [],
   "source": [
    "# chipower = smp.GofChisquarePower()\n",
    "# size_of_each_test_group = int(chipower.solve_power(\n",
    "#                                          effect_size=effect_size,\n",
    "#                                          nobs=None,\n",
    "#                                          alpha=alpha,\n",
    "#                                          power=power,\n",
    "#                                          n_bins=2))"
   ]
  },
  {
   "cell_type": "code",
   "execution_count": 61,
   "id": "7a049c1b",
   "metadata": {},
   "outputs": [],
   "source": [
    "size_of_each_test_group = smp.zt_ind_solve_power(effect_size=effect_size, nobs1=None, \n",
    "                                                                     alpha=alpha, power=power, ratio=1, \n",
    "                                                                     alternative='larger')"
   ]
  },
  {
   "cell_type": "code",
   "execution_count": 62,
   "id": "83fd2a22",
   "metadata": {},
   "outputs": [
    {
     "name": "stdout",
     "output_type": "stream",
     "text": [
      "Необходимый размер выборки для эксперимента - 12847.353928137107\n"
     ]
    }
   ],
   "source": [
    "print(f'Необходимый размер выборки для эксперимента - {size_of_each_test_group}')"
   ]
  },
  {
   "cell_type": "markdown",
   "id": "1bd5fbda",
   "metadata": {},
   "source": [
    "## Вручную"
   ]
  },
  {
   "cell_type": "code",
   "execution_count": 63,
   "id": "9a5d8306",
   "metadata": {},
   "outputs": [
    {
     "data": {
      "text/latex": [
       "$\\displaystyle 0.521454249614592$"
      ],
      "text/plain": [
       "0.521454249614592"
      ]
     },
     "execution_count": 63,
     "metadata": {},
     "output_type": "execute_result"
    }
   ],
   "source": [
    "q_num = q_expression.evalf(subs={p_t: p_t_num, \n",
    "                             p_c:p_c_num})\n",
    "\n",
    "q_num"
   ]
  },
  {
   "cell_type": "code",
   "execution_count": 64,
   "id": "c9c312e0",
   "metadata": {},
   "outputs": [],
   "source": [
    "n_num = n_expression.evalf(subs={p_t: p_t_num, \n",
    "                                 p_c: p_c_num, \n",
    "                                 z1_alpha: z_1_minus_alpha, \n",
    "                                 z1_beta: z_1_minus_beta,\n",
    "                                 q: q_num,\n",
    "                                 MDE: MDE_num})"
   ]
  },
  {
   "cell_type": "code",
   "execution_count": 65,
   "id": "d852a4f1",
   "metadata": {},
   "outputs": [
    {
     "name": "stdout",
     "output_type": "stream",
     "text": [
      "Необходимый размер выборки для эксперимента - 12823\n"
     ]
    }
   ],
   "source": [
    "print(f'Необходимый размер выборки для эксперимента - {int(n_num)}')"
   ]
  },
  {
   "cell_type": "code",
   "execution_count": 66,
   "id": "f07925e4",
   "metadata": {},
   "outputs": [
    {
     "data": {
      "text/latex": [
       "$\\displaystyle 6686.99561166943$"
      ],
      "text/plain": [
       "6686.99561166943"
      ]
     },
     "execution_count": 66,
     "metadata": {},
     "output_type": "execute_result"
    }
   ],
   "source": [
    "n_num * q_num"
   ]
  },
  {
   "cell_type": "code",
   "execution_count": 67,
   "id": "a17361fc",
   "metadata": {},
   "outputs": [
    {
     "data": {
      "text/latex": [
       "$\\displaystyle 6136.74801801967$"
      ],
      "text/plain": [
       "6136.74801801967"
      ]
     },
     "execution_count": 67,
     "metadata": {},
     "output_type": "execute_result"
    }
   ],
   "source": [
    "n_num * (1-q_num)"
   ]
  },
  {
   "cell_type": "markdown",
   "id": "ce62dfd3",
   "metadata": {},
   "source": [
    "# Задача 2 (на определение длительности эксперимента)\n",
    "___________\n",
    "Вы разрабатываете новое приложение для здорового образа жизни и планируете провести A/B тестирование двух различных функций: A - ежедневные уведомления с советами по здоровому питанию, B - трекер физической активности. Вы хотите определить, какая функция приведет к большему уровню удержания пользователей на **10%** относительно текущего уровня удержания в **40%**. При текущем числе пользователей в **5000**, какой период времени вам понадобится для проведения теста, чтобы получить статистически значимые результаты с уровнем значимости **90%**?"
   ]
  },
  {
   "cell_type": "code",
   "execution_count": 80,
   "id": "fbfa4026",
   "metadata": {},
   "outputs": [],
   "source": [
    "p_c_num = 0.4\n",
    "p_t_num = 0.5\n",
    "MDE_num = round(p_t_num - p_c_num, 2)\n",
    "alpha = 0.1\n",
    "effect_size = float(effect_size_expr.evalf(subs={p_t: p_t_num, \n",
    "                                           p_c:p_c_num,\n",
    "                                           MDE:MDE_num}))\n",
    "power = 0.8\n",
    "beta = round(1 - power, 2)\n",
    "\n",
    "z_1_minus_alpha = stats.norm.ppf(1-alpha)\n",
    "z_1_minus_beta = stats.norm.ppf(1-beta)"
   ]
  },
  {
   "cell_type": "code",
   "execution_count": 81,
   "id": "5bfdbdf6",
   "metadata": {},
   "outputs": [
    {
     "data": {
      "text/plain": [
       "1.2815515655446004"
      ]
     },
     "execution_count": 81,
     "metadata": {},
     "output_type": "execute_result"
    }
   ],
   "source": [
    "z_1_minus_alpha"
   ]
  },
  {
   "cell_type": "code",
   "execution_count": 82,
   "id": "2e8958a5",
   "metadata": {},
   "outputs": [
    {
     "data": {
      "text/plain": [
       "0.8416212335729143"
      ]
     },
     "execution_count": 82,
     "metadata": {},
     "output_type": "execute_result"
    }
   ],
   "source": [
    "z_1_minus_beta"
   ]
  },
  {
   "cell_type": "markdown",
   "id": "4ae2c2ed",
   "metadata": {},
   "source": [
    "## Пакет stats"
   ]
  },
  {
   "cell_type": "code",
   "execution_count": 83,
   "id": "f5282ce6",
   "metadata": {},
   "outputs": [],
   "source": [
    "size_of_each_test_group = smp.zt_ind_solve_power(effect_size=effect_size, nobs1=None, \n",
    "                                                                     alpha=alpha, power=power, ratio=1.0, \n",
    "                                                                     alternative='larger')"
   ]
  },
  {
   "cell_type": "code",
   "execution_count": 85,
   "id": "da40e3a6",
   "metadata": {},
   "outputs": [],
   "source": [
    "# size_of_each_test_group = int(chipower.solve_power(\n",
    "#                                          effect_size=effect_size,\n",
    "#                                          nobs=None,\n",
    "#                                          alpha=alpha*2,\n",
    "#                                          power=power,\n",
    "#                                          n_bins=2))"
   ]
  },
  {
   "cell_type": "code",
   "execution_count": 87,
   "id": "7ea30b53",
   "metadata": {},
   "outputs": [
    {
     "name": "stdout",
     "output_type": "stream",
     "text": [
      "Необходимый размер выборки для эксперимента - 441.770548021326\n"
     ]
    }
   ],
   "source": [
    "print(f'Необходимый размер выборки для эксперимента - {size_of_each_test_group}')"
   ]
  },
  {
   "cell_type": "code",
   "execution_count": 93,
   "id": "74569dbc",
   "metadata": {},
   "outputs": [
    {
     "data": {
      "text/plain": [
       "12"
      ]
     },
     "execution_count": 93,
     "metadata": {},
     "output_type": "execute_result"
    }
   ],
   "source": [
    "days = ceil(5000/(size_of_each_test_group))\n",
    "days"
   ]
  },
  {
   "cell_type": "markdown",
   "id": "51600cc3",
   "metadata": {},
   "source": [
    "## Вручную"
   ]
  },
  {
   "cell_type": "code",
   "execution_count": 89,
   "id": "b9d640fa",
   "metadata": {},
   "outputs": [
    {
     "data": {
      "text/latex": [
       "$\\displaystyle 0.505102572168219$"
      ],
      "text/plain": [
       "0.505102572168219"
      ]
     },
     "execution_count": 89,
     "metadata": {},
     "output_type": "execute_result"
    }
   ],
   "source": [
    "q_num = q_expression.evalf(subs={p_t: p_t_num, \n",
    "                             p_c:p_c_num})\n",
    "\n",
    "q_num"
   ]
  },
  {
   "cell_type": "code",
   "execution_count": 90,
   "id": "79f05cb2",
   "metadata": {},
   "outputs": [
    {
     "data": {
      "text/latex": [
       "$\\displaystyle 441.724544631567$"
      ],
      "text/plain": [
       "441.724544631567"
      ]
     },
     "execution_count": 90,
     "metadata": {},
     "output_type": "execute_result"
    }
   ],
   "source": [
    "n_num = n_expression.evalf(subs={p_t: p_t_num, \n",
    "                                 p_c: p_c_num, \n",
    "                                 z1_alpha: z_1_minus_alpha, \n",
    "                                 z1_beta: z_1_minus_beta,\n",
    "                                 q: q_num,\n",
    "                                 MDE: MDE_num})\n",
    "\n",
    "n_num"
   ]
  },
  {
   "cell_type": "code",
   "execution_count": 91,
   "id": "92889a30",
   "metadata": {},
   "outputs": [
    {
     "name": "stdout",
     "output_type": "stream",
     "text": [
      "Необходимый размер выборки для эксперимента - 441\n"
     ]
    }
   ],
   "source": [
    "print(f'Необходимый размер выборки для эксперимента - {int(n_num)}')"
   ]
  },
  {
   "cell_type": "code",
   "execution_count": 92,
   "id": "7f4b7fed",
   "metadata": {},
   "outputs": [
    {
     "data": {
      "text/latex": [
       "$\\displaystyle 12$"
      ],
      "text/plain": [
       "12"
      ]
     },
     "execution_count": 92,
     "metadata": {},
     "output_type": "execute_result"
    }
   ],
   "source": [
    "days = ceil(5000/(n_num))\n",
    "days"
   ]
  },
  {
   "cell_type": "markdown",
   "id": "d63be95e",
   "metadata": {},
   "source": [
    "# Задача 3 (на определение выборки при различных сегментах)\n",
    "_______\n",
    "\n",
    "Вы работаете в маркетинговом агентстве и хотите провести A/B тестирование двух различных рекламных кампаний (A и B) на целевую аудиторию. Однако у вас есть несколько различных сегментов целевой аудитории с разными размерами: **сегмент 1 (1000 пользователей), сегмент 2 (5000 пользователей), сегмент 3 (30000 пользователей)**. Вы хотите обнаружить **изменение конверсии на 2%** с уровнем **значимости 95%** и **мощностью теста 80%** для каждого сегмента. Сколько пользователей необходимо включить в каждый из сегментов (A и B)?"
   ]
  },
  {
   "cell_type": "code",
   "execution_count": 119,
   "id": "37cebe90",
   "metadata": {},
   "outputs": [],
   "source": [
    "seg_1 = 1000\n",
    "seg_2 = 5000\n",
    "seg_3 = 30000\n",
    "N = seg_1 + seg_2 + seg_3\n",
    "\n",
    "seg_1_perc = round(seg_1 / N, 2)\n",
    "seg_2_perc = round(seg_2 / N, 2)\n",
    "seg_3_perc = round(seg_3 / N, 2)\n",
    "\n",
    "p_c_num = 0.5\n",
    "p_t_num = 0.52\n",
    "MDE_num = round(p_t_num - p_c_num, 2)\n",
    "\n",
    "alpha = 0.05\n",
    "effect_size = float(effect_size_expr.evalf(subs={p_t: p_t_num, \n",
    "                                           p_c:p_c_num,\n",
    "                                           MDE:MDE_num}))\n",
    "power = 0.8\n",
    "beta = round(1 - power, 2)\n",
    "\n",
    "z_1_minus_alpha = stats.norm.ppf(1-(alpha/2))\n",
    "z_1_minus_beta = stats.norm.ppf(1-beta)"
   ]
  },
  {
   "cell_type": "code",
   "execution_count": 120,
   "id": "ea1f23cf",
   "metadata": {},
   "outputs": [
    {
     "data": {
      "text/plain": [
       "1.959963984540054"
      ]
     },
     "execution_count": 120,
     "metadata": {},
     "output_type": "execute_result"
    }
   ],
   "source": [
    "z_1_minus_alpha"
   ]
  },
  {
   "cell_type": "code",
   "execution_count": 121,
   "id": "865b4452",
   "metadata": {},
   "outputs": [
    {
     "data": {
      "text/plain": [
       "0.8416212335729143"
      ]
     },
     "execution_count": 121,
     "metadata": {},
     "output_type": "execute_result"
    }
   ],
   "source": [
    "z_1_minus_beta"
   ]
  },
  {
   "cell_type": "markdown",
   "id": "b1f0cf3f",
   "metadata": {},
   "source": [
    "## Пакет stats"
   ]
  },
  {
   "cell_type": "code",
   "execution_count": 122,
   "id": "a43216d8",
   "metadata": {},
   "outputs": [
    {
     "name": "stdout",
     "output_type": "stream",
     "text": [
      "Необходимый размер выборки для эксперимента - 19606\n"
     ]
    }
   ],
   "source": [
    "size_of_each_test_group = smp.zt_ind_solve_power(effect_size=effect_size, nobs1=None, \n",
    "                                                                     alpha=alpha, power=power, ratio=1.0, \n",
    "                                                                     alternative='two-sided')\n",
    "\n",
    "print(f'Необходимый размер выборки для эксперимента - {int(size_of_each_test_group)}')"
   ]
  },
  {
   "cell_type": "markdown",
   "id": "bf88dea6",
   "metadata": {},
   "source": [
    "## Вручную"
   ]
  },
  {
   "cell_type": "code",
   "execution_count": 123,
   "id": "7cfb7cbf",
   "metadata": {},
   "outputs": [
    {
     "data": {
      "text/latex": [
       "$\\displaystyle 0.499799839839821$"
      ],
      "text/plain": [
       "0.499799839839821"
      ]
     },
     "execution_count": 123,
     "metadata": {},
     "output_type": "execute_result"
    }
   ],
   "source": [
    "q_num = q_expression.evalf(subs={p_t: p_t_num, \n",
    "                                 p_c:p_c_num})\n",
    "\n",
    "q_num"
   ]
  },
  {
   "cell_type": "code",
   "execution_count": 124,
   "id": "46dae4c7",
   "metadata": {},
   "outputs": [
    {
     "name": "stdout",
     "output_type": "stream",
     "text": [
      "Необходимый размер выборки для эксперимента - 19606\n"
     ]
    }
   ],
   "source": [
    "n_num = n_expression.evalf(subs={p_t: p_t_num, \n",
    "                                 p_c: p_c_num, \n",
    "                                 z1_alpha: z_1_minus_alpha, \n",
    "                                 z1_beta: z_1_minus_beta,\n",
    "                                 q: q_num,\n",
    "                                 MDE: MDE_num})\n",
    "\n",
    "print(f'Необходимый размер выборки для эксперимента - {int(n_num)}')"
   ]
  },
  {
   "cell_type": "markdown",
   "id": "6a03b88c",
   "metadata": {},
   "source": [
    "## Считаем по сегментам"
   ]
  },
  {
   "cell_type": "code",
   "execution_count": 132,
   "id": "dec4394f",
   "metadata": {},
   "outputs": [
    {
     "name": "stdout",
     "output_type": "stream",
     "text": [
      "Сегмент 1: 588\n",
      "Сегмент 2: 2744\n",
      "Сегмент 3: 16273\n"
     ]
    }
   ],
   "source": [
    "sample_seg_1 = int(n_num*seg_1_perc)\n",
    "sample_seg_2 = int(n_num*seg_2_perc)\n",
    "sample_seg_3 = int(n_num*seg_3_perc)\n",
    "\n",
    "print(f'Сегмент 1: {sample_seg_1}\\nСегмент 2: {sample_seg_2}\\nСегмент 3: {sample_seg_3}')"
   ]
  },
  {
   "cell_type": "code",
   "execution_count": null,
   "id": "ccc1a7f4",
   "metadata": {},
   "outputs": [],
   "source": []
  }
 ],
 "metadata": {
  "kernelspec": {
   "display_name": "Python 3 (ipykernel)",
   "language": "python",
   "name": "python3"
  },
  "language_info": {
   "codemirror_mode": {
    "name": "ipython",
    "version": 3
   },
   "file_extension": ".py",
   "mimetype": "text/x-python",
   "name": "python",
   "nbconvert_exporter": "python",
   "pygments_lexer": "ipython3",
   "version": "3.10.9"
  },
  "toc": {
   "base_numbering": 1,
   "nav_menu": {},
   "number_sections": true,
   "sideBar": true,
   "skip_h1_title": false,
   "title_cell": "Table of Contents",
   "title_sidebar": "Contents",
   "toc_cell": false,
   "toc_position": {
    "height": "calc(100% - 180px)",
    "left": "10px",
    "top": "150px",
    "width": "306.115px"
   },
   "toc_section_display": true,
   "toc_window_display": true
  },
  "varInspector": {
   "cols": {
    "lenName": 16,
    "lenType": 16,
    "lenVar": 40
   },
   "kernels_config": {
    "python": {
     "delete_cmd_postfix": "",
     "delete_cmd_prefix": "del ",
     "library": "var_list.py",
     "varRefreshCmd": "print(var_dic_list())"
    },
    "r": {
     "delete_cmd_postfix": ") ",
     "delete_cmd_prefix": "rm(",
     "library": "var_list.r",
     "varRefreshCmd": "cat(var_dic_list()) "
    }
   },
   "types_to_exclude": [
    "module",
    "function",
    "builtin_function_or_method",
    "instance",
    "_Feature"
   ],
   "window_display": false
  }
 },
 "nbformat": 4,
 "nbformat_minor": 5
}
