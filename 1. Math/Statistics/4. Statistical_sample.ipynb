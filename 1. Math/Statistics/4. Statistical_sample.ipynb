{
 "cells": [
  {
   "cell_type": "code",
   "execution_count": 1,
   "id": "4436bdae",
   "metadata": {},
   "outputs": [],
   "source": [
    "import pandas as pd\n",
    "import numpy as np\n",
    "\n",
    "from tkinter import filedialog as fd\n",
    "from tkinter import Tk, BOTH\n",
    "\n",
    "from datetime import datetime\n",
    "from datetime import timedelta\n",
    "\n",
    "from scipy import stats\n",
    "from scipy.stats import norm\n",
    "from sympy import *\n",
    "\n",
    "import seaborn as sns\n",
    "import matplotlib.pyplot as plt\n",
    "\n",
    "\n",
    "pd.options.display.float_format = '{:,.4f}'.format\n",
    "\n",
    "import warnings\n",
    "warnings.filterwarnings(\"ignore\")\n",
    "\n",
    "from typing import Tuple\n",
    "\n",
    "%matplotlib inline\n",
    "\n",
    "from IPython.core.interactiveshell import InteractiveShell \n",
    "InteractiveShell.ast_node_interactivity = \"all\" #print all out"
   ]
  },
  {
   "cell_type": "markdown",
   "id": "4614ba5d",
   "metadata": {},
   "source": [
    "# Задача 1.\n",
    "\n",
    "В результате эксперимента получена выборка объема $n=79$:"
   ]
  },
  {
   "cell_type": "code",
   "execution_count": 2,
   "id": "0efb6b34",
   "metadata": {},
   "outputs": [],
   "source": [
    "sample = [2, 4, 2, 4, 3, 3, 3, 2, 0, 6, 1, 2, 3, 2, 2, \n",
    "          4, 3, 3, 5, 1, 0, 2, 4, 3, 2, 2, 3, 3, 1, 3, \n",
    "          3, 3, 1, 1, 2, 3, 1, 4, 3, 1, 7, 4, 3, 4, 2, \n",
    "          3, 2, 3, 3, 1, 4, 3, 1, 4, 5, 3, 4, 2, 4, 5, \n",
    "          3, 6, 4, 1, 3, 2, 4, 1, 3, 1, 0, 0, 4, 6, 4, \n",
    "          7, 4, 1, 3]\n",
    "\n",
    "df = pd.DataFrame(sample, columns=['x_i'])"
   ]
  },
  {
   "cell_type": "markdown",
   "id": "add30e6e",
   "metadata": {},
   "source": [
    "#### Построим статистический ряд"
   ]
  },
  {
   "cell_type": "code",
   "execution_count": 3,
   "id": "22477ddc",
   "metadata": {},
   "outputs": [
    {
     "data": {
      "text/html": [
       "<div>\n",
       "<style scoped>\n",
       "    .dataframe tbody tr th:only-of-type {\n",
       "        vertical-align: middle;\n",
       "    }\n",
       "\n",
       "    .dataframe tbody tr th {\n",
       "        vertical-align: top;\n",
       "    }\n",
       "\n",
       "    .dataframe thead th {\n",
       "        text-align: right;\n",
       "    }\n",
       "</style>\n",
       "<table border=\"1\" class=\"dataframe\">\n",
       "  <thead>\n",
       "    <tr style=\"text-align: right;\">\n",
       "      <th></th>\n",
       "      <th>x_i</th>\n",
       "      <th>n_i</th>\n",
       "    </tr>\n",
       "  </thead>\n",
       "  <tbody>\n",
       "    <tr>\n",
       "      <th>4</th>\n",
       "      <td>0</td>\n",
       "      <td>4</td>\n",
       "    </tr>\n",
       "    <tr>\n",
       "      <th>3</th>\n",
       "      <td>1</td>\n",
       "      <td>13</td>\n",
       "    </tr>\n",
       "    <tr>\n",
       "      <th>2</th>\n",
       "      <td>2</td>\n",
       "      <td>14</td>\n",
       "    </tr>\n",
       "    <tr>\n",
       "      <th>0</th>\n",
       "      <td>3</td>\n",
       "      <td>24</td>\n",
       "    </tr>\n",
       "    <tr>\n",
       "      <th>1</th>\n",
       "      <td>4</td>\n",
       "      <td>16</td>\n",
       "    </tr>\n",
       "    <tr>\n",
       "      <th>5</th>\n",
       "      <td>5</td>\n",
       "      <td>3</td>\n",
       "    </tr>\n",
       "    <tr>\n",
       "      <th>6</th>\n",
       "      <td>6</td>\n",
       "      <td>3</td>\n",
       "    </tr>\n",
       "    <tr>\n",
       "      <th>7</th>\n",
       "      <td>7</td>\n",
       "      <td>2</td>\n",
       "    </tr>\n",
       "  </tbody>\n",
       "</table>\n",
       "</div>"
      ],
      "text/plain": [
       "   x_i  n_i\n",
       "4    0    4\n",
       "3    1   13\n",
       "2    2   14\n",
       "0    3   24\n",
       "1    4   16\n",
       "5    5    3\n",
       "6    6    3\n",
       "7    7    2"
      ]
     },
     "execution_count": 3,
     "metadata": {},
     "output_type": "execute_result"
    }
   ],
   "source": [
    "df = df.value_counts().reset_index().sort_values(by='x_i').rename({0:'n_i'}, axis=1)\n",
    "\n",
    "df"
   ]
  },
  {
   "cell_type": "markdown",
   "id": "4a147dab",
   "metadata": {},
   "source": [
    "#### Построим полигон частот"
   ]
  },
  {
   "cell_type": "code",
   "execution_count": 4,
   "id": "dd9b26f7",
   "metadata": {},
   "outputs": [
    {
     "data": {
      "text/plain": [
       "[<matplotlib.axis.XTick at 0x270db8bbc10>,\n",
       " <matplotlib.axis.XTick at 0x270db8c0dd0>,\n",
       " <matplotlib.axis.XTick at 0x270db8a6110>,\n",
       " <matplotlib.axis.XTick at 0x270db912950>,\n",
       " <matplotlib.axis.XTick at 0x270db918990>,\n",
       " <matplotlib.axis.XTick at 0x270db91aad0>,\n",
       " <matplotlib.axis.XTick at 0x270db920d50>,\n",
       " <matplotlib.axis.XTick at 0x270db923010>]"
      ]
     },
     "execution_count": 4,
     "metadata": {},
     "output_type": "execute_result"
    },
    {
     "data": {
      "text/plain": [
       "[Text(0, 0, '0'),\n",
       " Text(1, 0, '1'),\n",
       " Text(2, 0, '2'),\n",
       " Text(3, 0, '3'),\n",
       " Text(4, 0, '4'),\n",
       " Text(5, 0, '5'),\n",
       " Text(6, 0, '6'),\n",
       " Text(7, 0, '7')]"
      ]
     },
     "execution_count": 4,
     "metadata": {},
     "output_type": "execute_result"
    },
    {
     "data": {
      "text/plain": [
       "Text(0, 3, '4')"
      ]
     },
     "execution_count": 4,
     "metadata": {},
     "output_type": "execute_result"
    },
    {
     "data": {
      "text/plain": [
       "Text(1, 12, '13')"
      ]
     },
     "execution_count": 4,
     "metadata": {},
     "output_type": "execute_result"
    },
    {
     "data": {
      "text/plain": [
       "Text(2, 13, '14')"
      ]
     },
     "execution_count": 4,
     "metadata": {},
     "output_type": "execute_result"
    },
    {
     "data": {
      "text/plain": [
       "Text(3, 23, '24')"
      ]
     },
     "execution_count": 4,
     "metadata": {},
     "output_type": "execute_result"
    },
    {
     "data": {
      "text/plain": [
       "Text(4, 15, '16')"
      ]
     },
     "execution_count": 4,
     "metadata": {},
     "output_type": "execute_result"
    },
    {
     "data": {
      "text/plain": [
       "Text(5, 2, '3')"
      ]
     },
     "execution_count": 4,
     "metadata": {},
     "output_type": "execute_result"
    },
    {
     "data": {
      "text/plain": [
       "Text(6, 2, '3')"
      ]
     },
     "execution_count": 4,
     "metadata": {},
     "output_type": "execute_result"
    },
    {
     "data": {
      "text/plain": [
       "Text(7, 1, '2')"
      ]
     },
     "execution_count": 4,
     "metadata": {},
     "output_type": "execute_result"
    },
    {
     "data": {
      "image/png": "[encoded data removed]",
      "text/plain": [
       "<Figure size 640x480 with 1 Axes>"
      ]
     },
     "metadata": {},
     "output_type": "display_data"
    }
   ],
   "source": [
    "g = sns.lineplot(data=df,  x='x_i', y='n_i', marker='*', color='#965786')\n",
    "g.set_xticks(df['x_i']) \n",
    "g.set_xticklabels(df['x_i'])\n",
    "\n",
    "for x, y in zip(df['x_i'], df['n_i']):\n",
    "    plt.text(x = x, y = y-1, s = '{:.0f}'.format(y), color = 'purple') \n",
    "\n",
    "\n",
    "plt.show()"
   ]
  },
  {
   "cell_type": "markdown",
   "id": "557ea940",
   "metadata": {},
   "source": [
    "#### Построим эмпирическую функцию распределения"
   ]
  },
  {
   "cell_type": "code",
   "execution_count": 5,
   "id": "e5769913",
   "metadata": {},
   "outputs": [],
   "source": [
    "df['w_i'] = df['n_i'] / df['n_i'].sum()\n",
    "df['s_i'] = df['w_i'].cumsum()"
   ]
  },
  {
   "cell_type": "code",
   "execution_count": 6,
   "id": "3ffcc95a",
   "metadata": {},
   "outputs": [
    {
     "data": {
      "text/html": [
       "<div>\n",
       "<style scoped>\n",
       "    .dataframe tbody tr th:only-of-type {\n",
       "        vertical-align: middle;\n",
       "    }\n",
       "\n",
       "    .dataframe tbody tr th {\n",
       "        vertical-align: top;\n",
       "    }\n",
       "\n",
       "    .dataframe thead th {\n",
       "        text-align: right;\n",
       "    }\n",
       "</style>\n",
       "<table border=\"1\" class=\"dataframe\">\n",
       "  <thead>\n",
       "    <tr style=\"text-align: right;\">\n",
       "      <th></th>\n",
       "      <th>x_i</th>\n",
       "      <th>n_i</th>\n",
       "      <th>w_i</th>\n",
       "      <th>s_i</th>\n",
       "    </tr>\n",
       "  </thead>\n",
       "  <tbody>\n",
       "    <tr>\n",
       "      <th>4</th>\n",
       "      <td>0</td>\n",
       "      <td>4</td>\n",
       "      <td>0.0506</td>\n",
       "      <td>0.0506</td>\n",
       "    </tr>\n",
       "    <tr>\n",
       "      <th>3</th>\n",
       "      <td>1</td>\n",
       "      <td>13</td>\n",
       "      <td>0.1646</td>\n",
       "      <td>0.2152</td>\n",
       "    </tr>\n",
       "    <tr>\n",
       "      <th>2</th>\n",
       "      <td>2</td>\n",
       "      <td>14</td>\n",
       "      <td>0.1772</td>\n",
       "      <td>0.3924</td>\n",
       "    </tr>\n",
       "    <tr>\n",
       "      <th>0</th>\n",
       "      <td>3</td>\n",
       "      <td>24</td>\n",
       "      <td>0.3038</td>\n",
       "      <td>0.6962</td>\n",
       "    </tr>\n",
       "    <tr>\n",
       "      <th>1</th>\n",
       "      <td>4</td>\n",
       "      <td>16</td>\n",
       "      <td>0.2025</td>\n",
       "      <td>0.8987</td>\n",
       "    </tr>\n",
       "    <tr>\n",
       "      <th>5</th>\n",
       "      <td>5</td>\n",
       "      <td>3</td>\n",
       "      <td>0.0380</td>\n",
       "      <td>0.9367</td>\n",
       "    </tr>\n",
       "    <tr>\n",
       "      <th>6</th>\n",
       "      <td>6</td>\n",
       "      <td>3</td>\n",
       "      <td>0.0380</td>\n",
       "      <td>0.9747</td>\n",
       "    </tr>\n",
       "    <tr>\n",
       "      <th>7</th>\n",
       "      <td>7</td>\n",
       "      <td>2</td>\n",
       "      <td>0.0253</td>\n",
       "      <td>1.0000</td>\n",
       "    </tr>\n",
       "  </tbody>\n",
       "</table>\n",
       "</div>"
      ],
      "text/plain": [
       "   x_i  n_i    w_i    s_i\n",
       "4    0    4 0.0506 0.0506\n",
       "3    1   13 0.1646 0.2152\n",
       "2    2   14 0.1772 0.3924\n",
       "0    3   24 0.3038 0.6962\n",
       "1    4   16 0.2025 0.8987\n",
       "5    5    3 0.0380 0.9367\n",
       "6    6    3 0.0380 0.9747\n",
       "7    7    2 0.0253 1.0000"
      ]
     },
     "execution_count": 6,
     "metadata": {},
     "output_type": "execute_result"
    }
   ],
   "source": [
    "df"
   ]
  },
  {
   "cell_type": "code",
   "execution_count": 7,
   "id": "46a97972",
   "metadata": {},
   "outputs": [
    {
     "data": {
      "text/plain": [
       "[<matplotlib.axis.XTick at 0x270db98b750>,\n",
       " <matplotlib.axis.XTick at 0x270db98a6d0>,\n",
       " <matplotlib.axis.XTick at 0x270db9688d0>,\n",
       " <matplotlib.axis.XTick at 0x270db9c6e50>,\n",
       " <matplotlib.axis.XTick at 0x270db9cd090>,\n",
       " <matplotlib.axis.XTick at 0x270db9cf290>,\n",
       " <matplotlib.axis.XTick at 0x270db9cdb90>,\n",
       " <matplotlib.axis.XTick at 0x270db9d22d0>]"
      ]
     },
     "execution_count": 7,
     "metadata": {},
     "output_type": "execute_result"
    },
    {
     "data": {
      "text/plain": [
       "[Text(0, 0, '0'),\n",
       " Text(1, 0, '1'),\n",
       " Text(2, 0, '2'),\n",
       " Text(3, 0, '3'),\n",
       " Text(4, 0, '4'),\n",
       " Text(5, 0, '5'),\n",
       " Text(6, 0, '6'),\n",
       " Text(7, 0, '7')]"
      ]
     },
     "execution_count": 7,
     "metadata": {},
     "output_type": "execute_result"
    },
    {
     "data": {
      "image/png": "[encoded data removed]",
      "text/plain": [
       "<Figure size 640x480 with 1 Axes>"
      ]
     },
     "metadata": {},
     "output_type": "display_data"
    }
   ],
   "source": [
    "g = sns.ecdfplot(data=df,  x='x_i', weights='w_i')\n",
    "g.set_xticks(df['x_i']) \n",
    "g.set_xticklabels(df['x_i'])\n",
    "\n",
    "plt.show()"
   ]
  },
  {
   "cell_type": "code",
   "execution_count": 8,
   "id": "7f08aab3",
   "metadata": {},
   "outputs": [
    {
     "data": {
      "text/plain": [
       "[<matplotlib.lines.Line2D at 0x270dc04e9d0>]"
      ]
     },
     "execution_count": 8,
     "metadata": {},
     "output_type": "execute_result"
    },
    {
     "data": {
      "image/png": "[encoded data removed]",
      "text/plain": [
       "<Figure size 640x480 with 1 Axes>"
      ]
     },
     "metadata": {},
     "output_type": "display_data"
    }
   ],
   "source": [
    "xk = df['x_i']\n",
    "pk = df['w_i']\n",
    "custm_dist = stats.rv_discrete(name='cust_dist', values=(xk, pk))\n",
    "\n",
    "fig, ax = plt.subplots(1, 1)\n",
    "ax.plot(xk, custm_dist.pmf(xk))\n",
    "\n",
    "plt.show()"
   ]
  },
  {
   "cell_type": "markdown",
   "id": "3ca9a486",
   "metadata": {},
   "source": [
    "#### Найдем выборочное среднее, диспрерсию и стандартное отклонение"
   ]
  },
  {
   "cell_type": "code",
   "execution_count": 9,
   "id": "f00a0bbb",
   "metadata": {},
   "outputs": [
    {
     "data": {
      "text/html": [
       "<div>\n",
       "<style scoped>\n",
       "    .dataframe tbody tr th:only-of-type {\n",
       "        vertical-align: middle;\n",
       "    }\n",
       "\n",
       "    .dataframe tbody tr th {\n",
       "        vertical-align: top;\n",
       "    }\n",
       "\n",
       "    .dataframe thead th {\n",
       "        text-align: right;\n",
       "    }\n",
       "</style>\n",
       "<table border=\"1\" class=\"dataframe\">\n",
       "  <thead>\n",
       "    <tr style=\"text-align: right;\">\n",
       "      <th></th>\n",
       "      <th>mean</th>\n",
       "      <th>var</th>\n",
       "      <th>std</th>\n",
       "    </tr>\n",
       "  </thead>\n",
       "  <tbody>\n",
       "    <tr>\n",
       "      <th>0</th>\n",
       "      <td>2.8354</td>\n",
       "      <td>2.3653</td>\n",
       "      <td>1.5380</td>\n",
       "    </tr>\n",
       "  </tbody>\n",
       "</table>\n",
       "</div>"
      ],
      "text/plain": [
       "    mean    var    std\n",
       "0 2.8354 2.3653 1.5380"
      ]
     },
     "execution_count": 9,
     "metadata": {},
     "output_type": "execute_result"
    }
   ],
   "source": [
    "mean = custm_dist.mean()\n",
    "var = custm_dist.var()\n",
    "std = custm_dist.std()\n",
    "\n",
    "pd.DataFrame(data=[[mean, var, std]], \n",
    "             columns=['mean',' var', 'std'])"
   ]
  },
  {
   "cell_type": "code",
   "execution_count": 10,
   "id": "c1ee026d",
   "metadata": {},
   "outputs": [
    {
     "data": {
      "text/html": [
       "<div>\n",
       "<style scoped>\n",
       "    .dataframe tbody tr th:only-of-type {\n",
       "        vertical-align: middle;\n",
       "    }\n",
       "\n",
       "    .dataframe tbody tr th {\n",
       "        vertical-align: top;\n",
       "    }\n",
       "\n",
       "    .dataframe thead th {\n",
       "        text-align: right;\n",
       "    }\n",
       "</style>\n",
       "<table border=\"1\" class=\"dataframe\">\n",
       "  <thead>\n",
       "    <tr style=\"text-align: right;\">\n",
       "      <th></th>\n",
       "      <th>mean</th>\n",
       "      <th>var</th>\n",
       "      <th>std</th>\n",
       "    </tr>\n",
       "  </thead>\n",
       "  <tbody>\n",
       "    <tr>\n",
       "      <th>0</th>\n",
       "      <td>2.8354</td>\n",
       "      <td>2.3653</td>\n",
       "      <td>1.5380</td>\n",
       "    </tr>\n",
       "  </tbody>\n",
       "</table>\n",
       "</div>"
      ],
      "text/plain": [
       "    mean    var    std\n",
       "0 2.8354 2.3653 1.5380"
      ]
     },
     "execution_count": 10,
     "metadata": {},
     "output_type": "execute_result"
    }
   ],
   "source": [
    "mean = (df['x_i'] * df['n_i']).sum() / df['n_i'].sum()\n",
    "var = ((((df['x_i'] - mean)**2) * df['n_i']).sum()) / (df['n_i'].sum())\n",
    "std = np.sqrt(var)\n",
    "\n",
    "pd.DataFrame(data=[[mean, var, std]], \n",
    "             columns=['mean',' var', 'std'])"
   ]
  },
  {
   "attachments": {
    "photo_2024-04-13_10-03-06.jpg": {
     "image/jpeg": "[encoded data removed]"
    }
   },
   "cell_type": "markdown",
   "id": "91279fcf",
   "metadata": {},
   "source": [
    "# Задача 2\n",
    "![photo_2024-04-13_10-03-06.jpg](attachment:photo_2024-04-13_10-03-06.jpg)"
   ]
  },
  {
   "cell_type": "markdown",
   "id": "646891c7",
   "metadata": {},
   "source": [
    "##"
   ]
  },
  {
   "cell_type": "code",
   "execution_count": 11,
   "id": "0072a7d0",
   "metadata": {},
   "outputs": [
    {
     "data": {
      "text/plain": [
       "(0.0126736593387341, 0.012673659338734126, 0.9746526813225318)"
      ]
     },
     "execution_count": 11,
     "metadata": {},
     "output_type": "execute_result"
    }
   ],
   "source": [
    "# Заданные параметры\n",
    "mean = 4  # среднее значение μ\n",
    "std = 2  # стандартное отклонение σ\n",
    "n = 20  # размер выборки n\n",
    "\n",
    "# Стандартная ошибка среднего\n",
    "se = std / n**0.5\n",
    "\n",
    "# Задание 1\n",
    "# Вероятность того, что среднее значение выборки X больше 5\n",
    "prob_greater_than_5 = 1 - norm.cdf(5, mean, se)\n",
    "\n",
    "# Задание 2\n",
    "# Вероятность того, что среднее значение выборки X меньше 3\n",
    "prob_less_than_3 = norm.cdf(3, mean, se)\n",
    "\n",
    "# Задание 3\n",
    "# Вероятность того, что среднее значение выборки X отклоняется от μ менее чем на 1\n",
    "prob_within_1 = norm.cdf(mean + 1, mean, se) - norm.cdf(mean - 1, mean, se)\n",
    "\n",
    "# Решение заданий\n",
    "prob_greater_than_5, prob_less_than_3, prob_within_1\n"
   ]
  },
  {
   "cell_type": "markdown",
   "id": "5c880ffe",
   "metadata": {},
   "source": [
    "## "
   ]
  },
  {
   "cell_type": "code",
   "execution_count": 12,
   "id": "77bc6906",
   "metadata": {},
   "outputs": [
    {
     "data": {
      "text/plain": [
       "62"
      ]
     },
     "execution_count": 12,
     "metadata": {},
     "output_type": "execute_result"
    }
   ],
   "source": [
    "n_large = 1\n",
    "while True:\n",
    "    se_large = std / (n_large ** 0.5)\n",
    "    prob_within_05_of_mu = norm.cdf(mean + 0.5, mean, se_large) - norm.cdf(mean - 0.5, mean, se_large)\n",
    "    if prob_within_05_of_mu >= 0.95:\n",
    "        break\n",
    "    n_large += 1\n",
    "    \n",
    "n_large"
   ]
  },
  {
   "cell_type": "markdown",
   "id": "d125e9d8",
   "metadata": {},
   "source": [
    "## "
   ]
  },
  {
   "cell_type": "code",
   "execution_count": 13,
   "id": "8d1817c6",
   "metadata": {},
   "outputs": [
    {
     "data": {
      "text/plain": [
       "0.0006691511288244292"
      ]
     },
     "execution_count": 13,
     "metadata": {},
     "output_type": "execute_result"
    }
   ],
   "source": [
    "n = 100\n",
    "mean = 5\n",
    "std = 2\n",
    "se = std / n**0.5\n",
    "\n",
    "\n",
    "prob = norm.pdf(5.8, mean, se)\n",
    "\n",
    "prob"
   ]
  },
  {
   "cell_type": "code",
   "execution_count": 14,
   "id": "610510dc",
   "metadata": {},
   "outputs": [
    {
     "data": {
      "text/plain": [
       "<Figure size 800x400 with 0 Axes>"
      ]
     },
     "execution_count": 14,
     "metadata": {},
     "output_type": "execute_result"
    },
    {
     "data": {
      "text/plain": [
       "[<matplotlib.lines.Line2D at 0x270dc104d90>]"
      ]
     },
     "execution_count": 14,
     "metadata": {},
     "output_type": "execute_result"
    },
    {
     "data": {
      "text/plain": [
       "<matplotlib.collections.PathCollection at 0x270d4bc7dd0>"
      ]
     },
     "execution_count": 14,
     "metadata": {},
     "output_type": "execute_result"
    },
    {
     "data": {
      "text/plain": [
       "Text(0.5, 1.0, 'Normal Distribution with mean = 5 and SE = 0.20')"
      ]
     },
     "execution_count": 14,
     "metadata": {},
     "output_type": "execute_result"
    },
    {
     "data": {
      "text/plain": [
       "Text(0.5, 0, 'Value')"
      ]
     },
     "execution_count": 14,
     "metadata": {},
     "output_type": "execute_result"
    },
    {
     "data": {
      "text/plain": [
       "Text(0, 0.5, 'Probability Density')"
      ]
     },
     "execution_count": 14,
     "metadata": {},
     "output_type": "execute_result"
    },
    {
     "data": {
      "text/plain": [
       "<matplotlib.legend.Legend at 0x270db960510>"
      ]
     },
     "execution_count": 14,
     "metadata": {},
     "output_type": "execute_result"
    },
    {
     "data": {
      "image/png": "[encoded data removed]",
      "text/plain": [
       "<Figure size 800x400 with 1 Axes>"
      ]
     },
     "metadata": {},
     "output_type": "display_data"
    }
   ],
   "source": [
    "n = 100\n",
    "mean = 5\n",
    "std = 2\n",
    "se = std / n**0.5\n",
    "\n",
    "\n",
    "prob = norm.pdf(5.2, mean, se)\n",
    "\n",
    "# Генерация значений для оси x и вычисление PDF для визуализации\n",
    "x_values = np.linspace(mean - 4*se, mean + 4*se, 1000)\n",
    "pdf_values = norm.pdf(x_values, mean, se)\n",
    "\n",
    "# Построение графика\n",
    "plt.figure(figsize=(8, 4))\n",
    "plt.plot(x_values, pdf_values, label='Normal PDF')\n",
    "plt.scatter([5.2], [prob], color='red')  # Точка, где x=5.2\n",
    "plt.title(f'Normal Distribution with mean = {mean} and SE = {se:.2f}')\n",
    "plt.xlabel('Value')\n",
    "plt.ylabel('Probability Density')\n",
    "plt.legend()\n",
    "plt.grid(True)\n",
    "plt.show()"
   ]
  },
  {
   "cell_type": "code",
   "execution_count": 15,
   "id": "f61a125a",
   "metadata": {},
   "outputs": [
    {
     "data": {
      "text/plain": [
       "1.2098536225957157"
      ]
     },
     "execution_count": 15,
     "metadata": {},
     "output_type": "execute_result"
    }
   ],
   "source": [
    "prob"
   ]
  },
  {
   "attachments": {
    "photo_2024-04-13_10-03-09.jpg": {
     "image/jpeg": "[encoded data removed]"
    }
   },
   "cell_type": "markdown",
   "id": "2bc4740b",
   "metadata": {},
   "source": [
    "## Задача 3\n",
    "\n",
    "![photo_2024-04-13_10-03-09.jpg](attachment:photo_2024-04-13_10-03-09.jpg)"
   ]
  },
  {
   "cell_type": "markdown",
   "id": "f1cc9ea1",
   "metadata": {},
   "source": [
    "## a"
   ]
  },
  {
   "cell_type": "code",
   "execution_count": 17,
   "id": "ee65282e",
   "metadata": {},
   "outputs": [
    {
     "data": {
      "text/plain": [
       "0.03188675213519529"
      ]
     },
     "execution_count": 17,
     "metadata": {},
     "output_type": "execute_result"
    }
   ],
   "source": [
    "p = 0.03\n",
    "q = 1 - p\n",
    "n = 1000\n",
    "\n",
    "# Стандартная ошибка выборочной доли\n",
    "se = (p*q/n)**0.5\n",
    "\n",
    "# Z-оценка для p_hat = 0.02\n",
    "p_hat = 0.02\n",
    "z_score_a = (p_hat - p) / se\n",
    "\n",
    "# Вероятность, что наблюдаемое p_hat < 0.02\n",
    "prob = norm.cdf(z_score_a)\n",
    "\n",
    "prob"
   ]
  },
  {
   "cell_type": "markdown",
   "id": "13e371b5",
   "metadata": {},
   "source": [
    "## b"
   ]
  },
  {
   "cell_type": "code",
   "execution_count": 18,
   "id": "81d354fc",
   "metadata": {},
   "outputs": [],
   "source": [
    "# выборка смещенная?"
   ]
  },
  {
   "cell_type": "code",
   "execution_count": 19,
   "id": "f5c75b57",
   "metadata": {},
   "outputs": [
    {
     "data": {
      "text/plain": [
       "(-3.336767989920291, 0.000423793352847682, 0.000847586705695364)"
      ]
     },
     "execution_count": 19,
     "metadata": {},
     "output_type": "execute_result"
    }
   ],
   "source": [
    "p = 0.03\n",
    "p_hat = 0.012\n",
    "n = 1000\n",
    "\n",
    "# Стандартная ошибка выборочной доли\n",
    "se = (p*q/n)**0.5\n",
    "\n",
    "# Z-оценка для наблюдаемого p_hat\n",
    "z_score = (p_hat - p) / se\n",
    "\n",
    "# Вероятность, что наблюдаемое p_hat < 0.012\n",
    "prob = norm.cdf(z_score)\n",
    "\n",
    "# Вычисляем также p-значение для двухстороннего теста\n",
    "# Это нужно, чтобы определить, насколько необычно или экстремально наше наблюдаемое значение,\n",
    "# предполагая, что истинное значение p = 0.03\n",
    "p_value = 2 * norm.cdf(-abs(z_score)) # минус чтобы получить значение из левого хвоста\n",
    "\n",
    "z_score, prob, p_value"
   ]
  },
  {
   "cell_type": "code",
   "execution_count": 20,
   "id": "b9f2710f",
   "metadata": {},
   "outputs": [
    {
     "data": {
      "text/plain": [
       "0.000847586705695364"
      ]
     },
     "execution_count": 20,
     "metadata": {},
     "output_type": "execute_result"
    }
   ],
   "source": [
    "p_value = norm.sf(abs(z_score)) * 2\n",
    "\n",
    "p_value"
   ]
  },
  {
   "cell_type": "code",
   "execution_count": 21,
   "id": "d70b8da2",
   "metadata": {},
   "outputs": [
    {
     "data": {
      "text/plain": [
       "0.0008475867056954023"
      ]
     },
     "execution_count": 21,
     "metadata": {},
     "output_type": "execute_result"
    }
   ],
   "source": [
    "p_value = 2 * (1 - norm.cdf(abs(z_score)))\n",
    "\n",
    "p_value"
   ]
  },
  {
   "cell_type": "markdown",
   "id": "9d00df33",
   "metadata": {},
   "source": [
    "## с"
   ]
  },
  {
   "cell_type": "code",
   "execution_count": 22,
   "id": "d82443b4",
   "metadata": {},
   "outputs": [
    {
     "data": {
      "text/plain": [
       "0.2788670729711419"
      ]
     },
     "execution_count": 22,
     "metadata": {},
     "output_type": "execute_result"
    }
   ],
   "source": [
    "# Данные задачи\n",
    "p = 0.03  # Истинная вероятность\n",
    "q = 1 - p\n",
    "n = 100\n",
    "p_hat = 0.02\n",
    "\n",
    "# Стандартная ошибка\n",
    "se = (p * q / n) ** 0.5\n",
    "\n",
    "# Z-оценка для p_hat = 0.02 и n = 100\n",
    "z_score = (p_hat - p) / se\n",
    "\n",
    "# Вероятность, что наблюдаемое p_hat < 0.02 для n = 100\n",
    "prob = norm.cdf(z_score)\n",
    "\n",
    "prob"
   ]
  },
  {
   "cell_type": "code",
   "execution_count": null,
   "id": "87aa90a6",
   "metadata": {},
   "outputs": [],
   "source": []
  }
 ],
 "metadata": {
  "kernelspec": {
   "display_name": "Python 3 (ipykernel)",
   "language": "python",
   "name": "python3"
  },
  "language_info": {
   "codemirror_mode": {
    "name": "ipython",
    "version": 3
   },
   "file_extension": ".py",
   "mimetype": "text/x-python",
   "name": "python",
   "nbconvert_exporter": "python",
   "pygments_lexer": "ipython3",
   "version": "3.11.5"
  },
  "toc": {
   "base_numbering": 1,
   "nav_menu": {},
   "number_sections": true,
   "sideBar": true,
   "skip_h1_title": false,
   "title_cell": "Table of Contents",
   "title_sidebar": "Contents",
   "toc_cell": false,
   "toc_position": {
    "height": "calc(100% - 180px)",
    "left": "10px",
    "top": "150px",
    "width": "321.115px"
   },
   "toc_section_display": true,
   "toc_window_display": true
  },
  "varInspector": {
   "cols": {
    "lenName": 16,
    "lenType": 16,
    "lenVar": 40
   },
   "kernels_config": {
    "python": {
     "delete_cmd_postfix": "",
     "delete_cmd_prefix": "del ",
     "library": "var_list.py",
     "varRefreshCmd": "print(var_dic_list())"
    },
    "r": {
     "delete_cmd_postfix": ") ",
     "delete_cmd_prefix": "rm(",
     "library": "var_list.r",
     "varRefreshCmd": "cat(var_dic_list()) "
    }
   },
   "types_to_exclude": [
    "module",
    "function",
    "builtin_function_or_method",
    "instance",
    "_Feature"
   ],
   "window_display": false
  }
 },
 "nbformat": 4,
 "nbformat_minor": 5
}
