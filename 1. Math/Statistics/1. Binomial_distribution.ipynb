{
 "cells": [
  {
   "cell_type": "code",
   "execution_count": 1,
   "id": "49e60d1d",
   "metadata": {},
   "outputs": [],
   "source": [
    "import pandas as pd\n",
    "import numpy as np\n",
    "\n",
    "from tkinter import filedialog as fd\n",
    "from tkinter import Tk, BOTH\n",
    "\n",
    "from datetime import datetime\n",
    "from datetime import timedelta\n",
    "\n",
    "from scipy import stats\n",
    "from scipy.stats import binom\n",
    "from sympy import *\n",
    "\n",
    "import seaborn as sns\n",
    "import matplotlib.pyplot as plt\n",
    "\n",
    "\n",
    "pd.options.display.float_format = '{:,.4f}'.format\n",
    "\n",
    "import warnings\n",
    "warnings.filterwarnings(\"ignore\")\n",
    "\n",
    "from typing import Tuple\n",
    "\n",
    "%matplotlib inline\n",
    "\n",
    "from IPython.core.interactiveshell import InteractiveShell \n",
    "InteractiveShell.ast_node_interactivity = \"all\" #print all out"
   ]
  },
  {
   "cell_type": "markdown",
   "id": "c622c811",
   "metadata": {},
   "source": [
    "## Задача 1.\n",
    "\n",
    "В городе $4$ коммерческих банка. У каждого риск банкротства в течение года составляет $20%$. Составьте ряд распределения числа банков, которые могут обанкротиться в течение следующего года."
   ]
  },
  {
   "cell_type": "code",
   "execution_count": 44,
   "id": "d46a9953",
   "metadata": {},
   "outputs": [
    {
     "data": {
      "text/html": [
       "<div>\n",
       "<style scoped>\n",
       "    .dataframe tbody tr th:only-of-type {\n",
       "        vertical-align: middle;\n",
       "    }\n",
       "\n",
       "    .dataframe tbody tr th {\n",
       "        vertical-align: top;\n",
       "    }\n",
       "\n",
       "    .dataframe thead th {\n",
       "        text-align: right;\n",
       "    }\n",
       "</style>\n",
       "<table border=\"1\" class=\"dataframe\">\n",
       "  <thead>\n",
       "    <tr style=\"text-align: right;\">\n",
       "      <th></th>\n",
       "      <th>0 Банков</th>\n",
       "      <th>1 Банк</th>\n",
       "      <th>2 Банка</th>\n",
       "      <th>3 Банка</th>\n",
       "      <th>4 Банка</th>\n",
       "    </tr>\n",
       "  </thead>\n",
       "  <tbody>\n",
       "    <tr>\n",
       "      <th>0</th>\n",
       "      <td>0.4096</td>\n",
       "      <td>0.4096</td>\n",
       "      <td>0.1536</td>\n",
       "      <td>0.0256</td>\n",
       "      <td>0.0016</td>\n",
       "    </tr>\n",
       "  </tbody>\n",
       "</table>\n",
       "</div>"
      ],
      "text/plain": [
       "   0 Банков  1 Банк  2 Банка  3 Банка  4 Банка\n",
       "0    0.4096  0.4096   0.1536   0.0256   0.0016"
      ]
     },
     "execution_count": 44,
     "metadata": {},
     "output_type": "execute_result"
    }
   ],
   "source": [
    "n = 4\n",
    "p = 0.2\n",
    "\n",
    "x_0 = binom.pmf(0, n, p)\n",
    "x_1 = binom.pmf(1, n, p)\n",
    "x_2 = binom.pmf(2, n, p)\n",
    "x_3 = binom.pmf(3, n, p)\n",
    "x_4 = binom.pmf(4, n, p)\n",
    "\n",
    "pd.DataFrame(data=[[x_0, x_1, x_2, x_3, x_4]], \n",
    "             columns=['0 Банков', '1 Банк', '2 Банка', '3 Банка', '4 Банка'])"
   ]
  },
  {
   "cell_type": "markdown",
   "id": "ea5e5ab9",
   "metadata": {},
   "source": [
    "## Задача 2\n",
    "\n",
    "Наблюдение за районом осуществляется тремя радиолокационными станциями (РЛС). В район наблюдений попал объект, который обнаруживается любой радиолокационной станцией с вероятностью $0.2$.\n",
    "\n",
    "Построить ряд распределения, найти функцию распределения, математическое ожидание и среднее квадратичное отклонение числа РЛС, обнаруживших объект.\n",
    "\n",
    "Найти вероятность того, что их будет не менее двух."
   ]
  },
  {
   "cell_type": "markdown",
   "id": "9938ab0e",
   "metadata": {},
   "source": [
    "#### Построить ряд распределения"
   ]
  },
  {
   "cell_type": "code",
   "execution_count": 46,
   "id": "3996cbc1",
   "metadata": {},
   "outputs": [
    {
     "data": {
      "text/html": [
       "<div>\n",
       "<style scoped>\n",
       "    .dataframe tbody tr th:only-of-type {\n",
       "        vertical-align: middle;\n",
       "    }\n",
       "\n",
       "    .dataframe tbody tr th {\n",
       "        vertical-align: top;\n",
       "    }\n",
       "\n",
       "    .dataframe thead th {\n",
       "        text-align: right;\n",
       "    }\n",
       "</style>\n",
       "<table border=\"1\" class=\"dataframe\">\n",
       "  <thead>\n",
       "    <tr style=\"text-align: right;\">\n",
       "      <th></th>\n",
       "      <th>0 РЛС</th>\n",
       "      <th>1 РЛС</th>\n",
       "      <th>2 РЛС</th>\n",
       "      <th>3 РЛС</th>\n",
       "    </tr>\n",
       "  </thead>\n",
       "  <tbody>\n",
       "    <tr>\n",
       "      <th>0</th>\n",
       "      <td>0.5120</td>\n",
       "      <td>0.3840</td>\n",
       "      <td>0.0960</td>\n",
       "      <td>0.0080</td>\n",
       "    </tr>\n",
       "  </tbody>\n",
       "</table>\n",
       "</div>"
      ],
      "text/plain": [
       "   0 РЛС  1 РЛС  2 РЛС  3 РЛС\n",
       "0 0.5120 0.3840 0.0960 0.0080"
      ]
     },
     "execution_count": 46,
     "metadata": {},
     "output_type": "execute_result"
    }
   ],
   "source": [
    "n = 3\n",
    "p = 0.2\n",
    "\n",
    "x_0 = binom.pmf(0, n, p)\n",
    "x_1 = binom.pmf(1, n, p)\n",
    "x_2 = binom.pmf(2, n, p)\n",
    "x_3 = binom.pmf(3, n, p)\n",
    "\n",
    "\n",
    "pd.DataFrame(data=[[x_0, x_1, x_2, x_3]], \n",
    "             columns=['0 РЛС', '1 РЛС', '2 РЛС', '3 РЛС'])"
   ]
  },
  {
   "cell_type": "markdown",
   "id": "14433098",
   "metadata": {},
   "source": [
    "#### Найти функцию распределения"
   ]
  },
  {
   "cell_type": "code",
   "execution_count": 47,
   "id": "970f0269",
   "metadata": {},
   "outputs": [
    {
     "data": {
      "text/html": [
       "<div>\n",
       "<style scoped>\n",
       "    .dataframe tbody tr th:only-of-type {\n",
       "        vertical-align: middle;\n",
       "    }\n",
       "\n",
       "    .dataframe tbody tr th {\n",
       "        vertical-align: top;\n",
       "    }\n",
       "\n",
       "    .dataframe thead th {\n",
       "        text-align: right;\n",
       "    }\n",
       "</style>\n",
       "<table border=\"1\" class=\"dataframe\">\n",
       "  <thead>\n",
       "    <tr style=\"text-align: right;\">\n",
       "      <th></th>\n",
       "      <th>x_i</th>\n",
       "      <th>p_i</th>\n",
       "    </tr>\n",
       "  </thead>\n",
       "  <tbody>\n",
       "    <tr>\n",
       "      <th>0</th>\n",
       "      <td>0</td>\n",
       "      <td>0.5120</td>\n",
       "    </tr>\n",
       "    <tr>\n",
       "      <th>1</th>\n",
       "      <td>1</td>\n",
       "      <td>0.3840</td>\n",
       "    </tr>\n",
       "    <tr>\n",
       "      <th>2</th>\n",
       "      <td>2</td>\n",
       "      <td>0.0960</td>\n",
       "    </tr>\n",
       "    <tr>\n",
       "      <th>3</th>\n",
       "      <td>3</td>\n",
       "      <td>0.0080</td>\n",
       "    </tr>\n",
       "  </tbody>\n",
       "</table>\n",
       "</div>"
      ],
      "text/plain": [
       "   x_i    p_i\n",
       "0    0 0.5120\n",
       "1    1 0.3840\n",
       "2    2 0.0960\n",
       "3    3 0.0080"
      ]
     },
     "execution_count": 47,
     "metadata": {},
     "output_type": "execute_result"
    }
   ],
   "source": [
    "df = pd.DataFrame({'x_i':np.arange(0, 4), 'p_i':[x_0, x_1, x_2, x_3]})\n",
    "\n",
    "df"
   ]
  },
  {
   "cell_type": "code",
   "execution_count": 48,
   "id": "819671e2",
   "metadata": {},
   "outputs": [
    {
     "data": {
      "text/plain": [
       "<AxesSubplot:xlabel='x_i', ylabel='Proportion'>"
      ]
     },
     "execution_count": 48,
     "metadata": {},
     "output_type": "execute_result"
    },
    {
     "data": {
      "image/png": "[encoded data removed]",
      "text/plain": [
       "<Figure size 432x288 with 1 Axes>"
      ]
     },
     "metadata": {
      "needs_background": "light"
     },
     "output_type": "display_data"
    }
   ],
   "source": [
    "sns.ecdfplot(data=df,  x='x_i', weights='p_i')"
   ]
  },
  {
   "cell_type": "markdown",
   "id": "5eb0e6f3",
   "metadata": {},
   "source": [
    "#### Найти математическое ожидание и среднее квадратичное отклонение числа РЛС"
   ]
  },
  {
   "cell_type": "code",
   "execution_count": 54,
   "id": "0c015268",
   "metadata": {},
   "outputs": [
    {
     "data": {
      "text/html": [
       "<div>\n",
       "<style scoped>\n",
       "    .dataframe tbody tr th:only-of-type {\n",
       "        vertical-align: middle;\n",
       "    }\n",
       "\n",
       "    .dataframe tbody tr th {\n",
       "        vertical-align: top;\n",
       "    }\n",
       "\n",
       "    .dataframe thead th {\n",
       "        text-align: right;\n",
       "    }\n",
       "</style>\n",
       "<table border=\"1\" class=\"dataframe\">\n",
       "  <thead>\n",
       "    <tr style=\"text-align: right;\">\n",
       "      <th></th>\n",
       "      <th>mean</th>\n",
       "      <th>var</th>\n",
       "      <th>std</th>\n",
       "    </tr>\n",
       "  </thead>\n",
       "  <tbody>\n",
       "    <tr>\n",
       "      <th>0</th>\n",
       "      <td>0.6000</td>\n",
       "      <td>0.4800</td>\n",
       "      <td>0.6928</td>\n",
       "    </tr>\n",
       "  </tbody>\n",
       "</table>\n",
       "</div>"
      ],
      "text/plain": [
       "    mean    var    std\n",
       "0 0.6000 0.4800 0.6928"
      ]
     },
     "execution_count": 54,
     "metadata": {},
     "output_type": "execute_result"
    }
   ],
   "source": [
    "mean = binom.mean(n, p, loc=0)\n",
    "var = binom.var(n, p, loc=0)\n",
    "std = binom.std(n, p, loc=0)\n",
    "\n",
    "pd.DataFrame(data=[[mean, var, std]], \n",
    "             columns=['mean', 'var', 'std'])"
   ]
  },
  {
   "cell_type": "markdown",
   "id": "f6a6e603",
   "metadata": {},
   "source": [
    "#### Найти вероятность того, что их будет не менее двух."
   ]
  },
  {
   "cell_type": "code",
   "execution_count": 57,
   "id": "f1d2959a",
   "metadata": {},
   "outputs": [
    {
     "data": {
      "text/plain": [
       "0.104"
      ]
     },
     "execution_count": 57,
     "metadata": {},
     "output_type": "execute_result"
    }
   ],
   "source": [
    "round(1 - binom.cdf(1.999, n, p, loc=0), 4)"
   ]
  },
  {
   "cell_type": "markdown",
   "id": "fcb611bd",
   "metadata": {},
   "source": [
    "## Задача 3. \n",
    "\n",
    "Опыт состоит из трех независимых подбрасываний одновременно трех монет, каждая из которых с одинаковой вероятностью падает гербом или цифрой вверх.\n",
    "\n",
    "Построить ряд распределения, найти функцию распределения, математическое ожидание и среднее квадратичное отклонение числа одновременного выпадения двух гербов.\n",
    "\n",
    "Найти вероятность того, что два герба одновременно выпадут хотя бы один раз."
   ]
  },
  {
   "cell_type": "markdown",
   "id": "8d73b3ef",
   "metadata": {},
   "source": [
    "#### Построить ряд распределения"
   ]
  },
  {
   "cell_type": "code",
   "execution_count": 91,
   "id": "87b7a79b",
   "metadata": {},
   "outputs": [
    {
     "data": {
      "text/plain": [
       "0.375"
      ]
     },
     "execution_count": 91,
     "metadata": {},
     "output_type": "execute_result"
    }
   ],
   "source": [
    "n = 3\n",
    "p = 0.5\n",
    "\n",
    "two_heads_prob = binom.pmf(2, n, p) # находим вероятность, что при подбрасывании 3 монет, появится ровно 2 герба \n",
    "\n",
    "two_heads_prob"
   ]
  },
  {
   "cell_type": "code",
   "execution_count": 92,
   "id": "d05900bf",
   "metadata": {},
   "outputs": [
    {
     "data": {
      "text/html": [
       "<div>\n",
       "<style scoped>\n",
       "    .dataframe tbody tr th:only-of-type {\n",
       "        vertical-align: middle;\n",
       "    }\n",
       "\n",
       "    .dataframe tbody tr th {\n",
       "        vertical-align: top;\n",
       "    }\n",
       "\n",
       "    .dataframe thead th {\n",
       "        text-align: right;\n",
       "    }\n",
       "</style>\n",
       "<table border=\"1\" class=\"dataframe\">\n",
       "  <thead>\n",
       "    <tr style=\"text-align: right;\">\n",
       "      <th></th>\n",
       "      <th>x_i</th>\n",
       "      <th>p_i</th>\n",
       "    </tr>\n",
       "  </thead>\n",
       "  <tbody>\n",
       "    <tr>\n",
       "      <th>0</th>\n",
       "      <td>0</td>\n",
       "      <td>0.2441</td>\n",
       "    </tr>\n",
       "    <tr>\n",
       "      <th>1</th>\n",
       "      <td>1</td>\n",
       "      <td>0.4395</td>\n",
       "    </tr>\n",
       "    <tr>\n",
       "      <th>2</th>\n",
       "      <td>2</td>\n",
       "      <td>0.2637</td>\n",
       "    </tr>\n",
       "    <tr>\n",
       "      <th>3</th>\n",
       "      <td>3</td>\n",
       "      <td>0.0527</td>\n",
       "    </tr>\n",
       "  </tbody>\n",
       "</table>\n",
       "</div>"
      ],
      "text/plain": [
       "   x_i    p_i\n",
       "0    0 0.2441\n",
       "1    1 0.4395\n",
       "2    2 0.2637\n",
       "3    3 0.0527"
      ]
     },
     "execution_count": 92,
     "metadata": {},
     "output_type": "execute_result"
    }
   ],
   "source": [
    "p_i = [round(binom.pmf(x, n, two_heads_prob), 4) for x in range(0, n+1)]\n",
    "\n",
    "df = pd.DataFrame({'x_i':np.arange(0, 4), 'p_i':p_i})\n",
    "\n",
    "df"
   ]
  },
  {
   "cell_type": "markdown",
   "id": "89f321bb",
   "metadata": {},
   "source": [
    "#### Найти функцию распределения"
   ]
  },
  {
   "cell_type": "code",
   "execution_count": 93,
   "id": "4ce31774",
   "metadata": {},
   "outputs": [
    {
     "data": {
      "text/html": [
       "<div>\n",
       "<style scoped>\n",
       "    .dataframe tbody tr th:only-of-type {\n",
       "        vertical-align: middle;\n",
       "    }\n",
       "\n",
       "    .dataframe tbody tr th {\n",
       "        vertical-align: top;\n",
       "    }\n",
       "\n",
       "    .dataframe thead th {\n",
       "        text-align: right;\n",
       "    }\n",
       "</style>\n",
       "<table border=\"1\" class=\"dataframe\">\n",
       "  <thead>\n",
       "    <tr style=\"text-align: right;\">\n",
       "      <th></th>\n",
       "      <th>x_i</th>\n",
       "      <th>p_i</th>\n",
       "      <th>cumulative</th>\n",
       "    </tr>\n",
       "  </thead>\n",
       "  <tbody>\n",
       "    <tr>\n",
       "      <th>0</th>\n",
       "      <td>0</td>\n",
       "      <td>0.2441</td>\n",
       "      <td>0.2441</td>\n",
       "    </tr>\n",
       "    <tr>\n",
       "      <th>1</th>\n",
       "      <td>1</td>\n",
       "      <td>0.4395</td>\n",
       "      <td>0.6836</td>\n",
       "    </tr>\n",
       "    <tr>\n",
       "      <th>2</th>\n",
       "      <td>2</td>\n",
       "      <td>0.2637</td>\n",
       "      <td>0.9473</td>\n",
       "    </tr>\n",
       "    <tr>\n",
       "      <th>3</th>\n",
       "      <td>3</td>\n",
       "      <td>0.0527</td>\n",
       "      <td>1.0000</td>\n",
       "    </tr>\n",
       "  </tbody>\n",
       "</table>\n",
       "</div>"
      ],
      "text/plain": [
       "   x_i    p_i  cumulative\n",
       "0    0 0.2441      0.2441\n",
       "1    1 0.4395      0.6836\n",
       "2    2 0.2637      0.9473\n",
       "3    3 0.0527      1.0000"
      ]
     },
     "execution_count": 93,
     "metadata": {},
     "output_type": "execute_result"
    }
   ],
   "source": [
    "df['cumulative'] = df['p_i'].cumsum()\n",
    "\n",
    "df"
   ]
  },
  {
   "cell_type": "code",
   "execution_count": 94,
   "id": "2cc29c56",
   "metadata": {},
   "outputs": [
    {
     "data": {
      "text/plain": [
       "<AxesSubplot:xlabel='x_i', ylabel='Proportion'>"
      ]
     },
     "execution_count": 94,
     "metadata": {},
     "output_type": "execute_result"
    },
    {
     "data": {
      "image/png": "[encoded data removed]",
      "text/plain": [
       "<Figure size 432x288 with 1 Axes>"
      ]
     },
     "metadata": {
      "needs_background": "light"
     },
     "output_type": "display_data"
    }
   ],
   "source": [
    "sns.ecdfplot(data=df,  x='x_i', weights='p_i')"
   ]
  },
  {
   "cell_type": "markdown",
   "id": "28dbbbad",
   "metadata": {},
   "source": [
    "#### Найти математическое ожидание и среднее квадратичное отклонение числа"
   ]
  },
  {
   "cell_type": "code",
   "execution_count": 96,
   "id": "027f5c18",
   "metadata": {},
   "outputs": [
    {
     "data": {
      "text/html": [
       "<div>\n",
       "<style scoped>\n",
       "    .dataframe tbody tr th:only-of-type {\n",
       "        vertical-align: middle;\n",
       "    }\n",
       "\n",
       "    .dataframe tbody tr th {\n",
       "        vertical-align: top;\n",
       "    }\n",
       "\n",
       "    .dataframe thead th {\n",
       "        text-align: right;\n",
       "    }\n",
       "</style>\n",
       "<table border=\"1\" class=\"dataframe\">\n",
       "  <thead>\n",
       "    <tr style=\"text-align: right;\">\n",
       "      <th></th>\n",
       "      <th>mean</th>\n",
       "      <th>var</th>\n",
       "      <th>std</th>\n",
       "    </tr>\n",
       "  </thead>\n",
       "  <tbody>\n",
       "    <tr>\n",
       "      <th>0</th>\n",
       "      <td>1.125</td>\n",
       "      <td>0.703125</td>\n",
       "      <td>0.8385</td>\n",
       "    </tr>\n",
       "  </tbody>\n",
       "</table>\n",
       "</div>"
      ],
      "text/plain": [
       "    mean       var    std\n",
       "0  1.125  0.703125 0.8385"
      ]
     },
     "execution_count": 96,
     "metadata": {},
     "output_type": "execute_result"
    }
   ],
   "source": [
    "mean, var = binom.stats(3, two_heads_prob, loc=0, moments='mv')\n",
    "\n",
    "std = np.sqrt(var)\n",
    "\n",
    "pd.DataFrame(data=[[mean, var, std]], \n",
    "             columns=['mean', 'var', 'std'])"
   ]
  },
  {
   "cell_type": "markdown",
   "id": "7e61a6b3",
   "metadata": {},
   "source": [
    "#### Найти вероятность того, что два герба одновременно выпадут хотя бы один раз."
   ]
  },
  {
   "cell_type": "code",
   "execution_count": 99,
   "id": "ed6f1400",
   "metadata": {},
   "outputs": [
    {
     "data": {
      "text/plain": [
       "0.7559"
      ]
     },
     "execution_count": 99,
     "metadata": {},
     "output_type": "execute_result"
    }
   ],
   "source": [
    "round(1 - binom.cdf(0.9, 3, two_heads_prob, loc=0), 4)"
   ]
  },
  {
   "cell_type": "markdown",
   "id": "01c6e4ef",
   "metadata": {},
   "source": [
    "# Задача 4.\n",
    "\n",
    "В Банк послупило 6 заявлений от физических лиц на получение кредита. Вероятность получить первый кредит для каждого равна 0.75. Найти вероятности следующих событий:\n",
    "1) будет выдано ровно 3 кредита;\n",
    "\n",
    "2) будет выдано не менее двух кредитов"
   ]
  },
  {
   "cell_type": "code",
   "execution_count": 10,
   "id": "98fc9558",
   "metadata": {},
   "outputs": [
    {
     "data": {
      "text/html": [
       "<div>\n",
       "<style scoped>\n",
       "    .dataframe tbody tr th:only-of-type {\n",
       "        vertical-align: middle;\n",
       "    }\n",
       "\n",
       "    .dataframe tbody tr th {\n",
       "        vertical-align: top;\n",
       "    }\n",
       "\n",
       "    .dataframe thead th {\n",
       "        text-align: right;\n",
       "    }\n",
       "</style>\n",
       "<table border=\"1\" class=\"dataframe\">\n",
       "  <thead>\n",
       "    <tr style=\"text-align: right;\">\n",
       "      <th></th>\n",
       "      <th>0 Заявлений</th>\n",
       "      <th>1 Заявление</th>\n",
       "      <th>2 Заявления</th>\n",
       "      <th>3 Заявления</th>\n",
       "      <th>4 Заявления</th>\n",
       "      <th>5 Заявлений</th>\n",
       "      <th>6 Заявлений</th>\n",
       "    </tr>\n",
       "  </thead>\n",
       "  <tbody>\n",
       "    <tr>\n",
       "      <th>0</th>\n",
       "      <td>0.0002</td>\n",
       "      <td>0.0044</td>\n",
       "      <td>0.0330</td>\n",
       "      <td>0.1318</td>\n",
       "      <td>0.2966</td>\n",
       "      <td>0.3560</td>\n",
       "      <td>0.1780</td>\n",
       "    </tr>\n",
       "  </tbody>\n",
       "</table>\n",
       "</div>"
      ],
      "text/plain": [
       "   0 Заявлений  1 Заявление  2 Заявления  3 Заявления  4 Заявления  \\\n",
       "0       0.0002       0.0044       0.0330       0.1318       0.2966   \n",
       "\n",
       "   5 Заявлений  6 Заявлений  \n",
       "0       0.3560       0.1780  "
      ]
     },
     "execution_count": 10,
     "metadata": {},
     "output_type": "execute_result"
    }
   ],
   "source": [
    "n = 6\n",
    "p = 0.75\n",
    "\n",
    "x_0 = binom.pmf(0, n, p)\n",
    "x_1 = binom.pmf(1, n, p)\n",
    "x_2 = binom.pmf(2, n, p)\n",
    "x_3 = binom.pmf(3, n, p)\n",
    "x_4 = binom.pmf(4, n, p)\n",
    "x_5 = binom.pmf(5, n, p)\n",
    "x_6 = binom.pmf(6, n, p)\n",
    "\n",
    "pd.DataFrame(data=[[x_0, x_1, x_2, x_3, x_4, x_5, x_6]], \n",
    "             columns=['0 Заявлений', '1 Заявление', '2 Заявления', '3 Заявления', '4 Заявления', '5 Заявлений', '6 Заявлений'])"
   ]
  },
  {
   "cell_type": "code",
   "execution_count": 3,
   "id": "64d07b6e",
   "metadata": {},
   "outputs": [
    {
     "data": {
      "text/html": [
       "<div>\n",
       "<style scoped>\n",
       "    .dataframe tbody tr th:only-of-type {\n",
       "        vertical-align: middle;\n",
       "    }\n",
       "\n",
       "    .dataframe tbody tr th {\n",
       "        vertical-align: top;\n",
       "    }\n",
       "\n",
       "    .dataframe thead th {\n",
       "        text-align: right;\n",
       "    }\n",
       "</style>\n",
       "<table border=\"1\" class=\"dataframe\">\n",
       "  <thead>\n",
       "    <tr style=\"text-align: right;\">\n",
       "      <th></th>\n",
       "      <th>x_i</th>\n",
       "      <th>p_i</th>\n",
       "    </tr>\n",
       "  </thead>\n",
       "  <tbody>\n",
       "    <tr>\n",
       "      <th>0</th>\n",
       "      <td>0</td>\n",
       "      <td>0.0002</td>\n",
       "    </tr>\n",
       "    <tr>\n",
       "      <th>1</th>\n",
       "      <td>1</td>\n",
       "      <td>0.0044</td>\n",
       "    </tr>\n",
       "    <tr>\n",
       "      <th>2</th>\n",
       "      <td>2</td>\n",
       "      <td>0.0330</td>\n",
       "    </tr>\n",
       "    <tr>\n",
       "      <th>3</th>\n",
       "      <td>3</td>\n",
       "      <td>0.1318</td>\n",
       "    </tr>\n",
       "    <tr>\n",
       "      <th>4</th>\n",
       "      <td>4</td>\n",
       "      <td>0.2966</td>\n",
       "    </tr>\n",
       "    <tr>\n",
       "      <th>5</th>\n",
       "      <td>5</td>\n",
       "      <td>0.3560</td>\n",
       "    </tr>\n",
       "    <tr>\n",
       "      <th>6</th>\n",
       "      <td>6</td>\n",
       "      <td>0.1780</td>\n",
       "    </tr>\n",
       "  </tbody>\n",
       "</table>\n",
       "</div>"
      ],
      "text/plain": [
       "   x_i    p_i\n",
       "0    0 0.0002\n",
       "1    1 0.0044\n",
       "2    2 0.0330\n",
       "3    3 0.1318\n",
       "4    4 0.2966\n",
       "5    5 0.3560\n",
       "6    6 0.1780"
      ]
     },
     "execution_count": 3,
     "metadata": {},
     "output_type": "execute_result"
    }
   ],
   "source": [
    "df = pd.DataFrame({'x_i':np.arange(0, 7), 'p_i':[x_0, x_1, x_2, x_3, x_4, x_5, x_6]})\n",
    "\n",
    "df"
   ]
  },
  {
   "cell_type": "code",
   "execution_count": 4,
   "id": "de99ce7e",
   "metadata": {},
   "outputs": [
    {
     "data": {
      "text/html": [
       "<div>\n",
       "<style scoped>\n",
       "    .dataframe tbody tr th:only-of-type {\n",
       "        vertical-align: middle;\n",
       "    }\n",
       "\n",
       "    .dataframe tbody tr th {\n",
       "        vertical-align: top;\n",
       "    }\n",
       "\n",
       "    .dataframe thead th {\n",
       "        text-align: right;\n",
       "    }\n",
       "</style>\n",
       "<table border=\"1\" class=\"dataframe\">\n",
       "  <thead>\n",
       "    <tr style=\"text-align: right;\">\n",
       "      <th></th>\n",
       "      <th>x_i</th>\n",
       "      <th>p_i</th>\n",
       "      <th>cumulative</th>\n",
       "    </tr>\n",
       "  </thead>\n",
       "  <tbody>\n",
       "    <tr>\n",
       "      <th>0</th>\n",
       "      <td>0</td>\n",
       "      <td>0.0002</td>\n",
       "      <td>0.0002</td>\n",
       "    </tr>\n",
       "    <tr>\n",
       "      <th>1</th>\n",
       "      <td>1</td>\n",
       "      <td>0.0044</td>\n",
       "      <td>0.0046</td>\n",
       "    </tr>\n",
       "    <tr>\n",
       "      <th>2</th>\n",
       "      <td>2</td>\n",
       "      <td>0.0330</td>\n",
       "      <td>0.0376</td>\n",
       "    </tr>\n",
       "    <tr>\n",
       "      <th>3</th>\n",
       "      <td>3</td>\n",
       "      <td>0.1318</td>\n",
       "      <td>0.1694</td>\n",
       "    </tr>\n",
       "    <tr>\n",
       "      <th>4</th>\n",
       "      <td>4</td>\n",
       "      <td>0.2966</td>\n",
       "      <td>0.4661</td>\n",
       "    </tr>\n",
       "    <tr>\n",
       "      <th>5</th>\n",
       "      <td>5</td>\n",
       "      <td>0.3560</td>\n",
       "      <td>0.8220</td>\n",
       "    </tr>\n",
       "    <tr>\n",
       "      <th>6</th>\n",
       "      <td>6</td>\n",
       "      <td>0.1780</td>\n",
       "      <td>1.0000</td>\n",
       "    </tr>\n",
       "  </tbody>\n",
       "</table>\n",
       "</div>"
      ],
      "text/plain": [
       "   x_i    p_i  cumulative\n",
       "0    0 0.0002      0.0002\n",
       "1    1 0.0044      0.0046\n",
       "2    2 0.0330      0.0376\n",
       "3    3 0.1318      0.1694\n",
       "4    4 0.2966      0.4661\n",
       "5    5 0.3560      0.8220\n",
       "6    6 0.1780      1.0000"
      ]
     },
     "execution_count": 4,
     "metadata": {},
     "output_type": "execute_result"
    }
   ],
   "source": [
    "df['cumulative'] = df['p_i'].cumsum()\n",
    "\n",
    "df"
   ]
  },
  {
   "cell_type": "code",
   "execution_count": 5,
   "id": "d875fd5c",
   "metadata": {},
   "outputs": [
    {
     "data": {
      "text/plain": [
       "<AxesSubplot:xlabel='x_i', ylabel='Proportion'>"
      ]
     },
     "execution_count": 5,
     "metadata": {},
     "output_type": "execute_result"
    },
    {
     "data": {
      "image/png": "[encoded data removed]",
      "text/plain": [
       "<Figure size 640x480 with 1 Axes>"
      ]
     },
     "metadata": {},
     "output_type": "display_data"
    }
   ],
   "source": [
    "sns.ecdfplot(data=df,  x='x_i', weights='p_i')"
   ]
  },
  {
   "cell_type": "markdown",
   "id": "33449e66",
   "metadata": {},
   "source": [
    "1) будет выдано ровно 3 кредита;\n"
   ]
  },
  {
   "cell_type": "code",
   "execution_count": 16,
   "id": "fead889c",
   "metadata": {},
   "outputs": [
    {
     "data": {
      "text/plain": [
       "0.13183593749999992"
      ]
     },
     "execution_count": 16,
     "metadata": {},
     "output_type": "execute_result"
    }
   ],
   "source": [
    "binom.pmf(3, n, p, loc=0)"
   ]
  },
  {
   "cell_type": "markdown",
   "id": "d319b16c",
   "metadata": {},
   "source": [
    "2) будет выдано не менее двух кредитов"
   ]
  },
  {
   "cell_type": "code",
   "execution_count": 18,
   "id": "e735cb45",
   "metadata": {},
   "outputs": [
    {
     "data": {
      "text/plain": [
       "0.96240234375"
      ]
     },
     "execution_count": 18,
     "metadata": {},
     "output_type": "execute_result"
    }
   ],
   "source": [
    "binom.sf(2, n, p, loc=0)"
   ]
  }
 ],
 "metadata": {
  "hide_input": false,
  "kernelspec": {
   "display_name": "Python 3 (ipykernel)",
   "language": "python",
   "name": "python3"
  },
  "language_info": {
   "codemirror_mode": {
    "name": "ipython",
    "version": 3
   },
   "file_extension": ".py",
   "mimetype": "text/x-python",
   "name": "python",
   "nbconvert_exporter": "python",
   "pygments_lexer": "ipython3",
   "version": "3.10.9"
  },
  "latex_envs": {
   "LaTeX_envs_menu_present": true,
   "autoclose": false,
   "autocomplete": true,
   "bibliofile": "biblio.bib",
   "cite_by": "apalike",
   "current_citInitial": 1,
   "eqLabelWithNumbers": true,
   "eqNumInitial": 1,
   "hotkeys": {
    "equation": "Ctrl-E",
    "itemize": "Ctrl-I"
   },
   "labels_anchors": false,
   "latex_user_defs": false,
   "report_style_numbering": false,
   "user_envs_cfg": false
  },
  "toc": {
   "base_numbering": 1,
   "nav_menu": {},
   "number_sections": true,
   "sideBar": true,
   "skip_h1_title": false,
   "title_cell": "Table of Contents",
   "title_sidebar": "Contents",
   "toc_cell": false,
   "toc_position": {},
   "toc_section_display": true,
   "toc_window_display": false
  },
  "varInspector": {
   "cols": {
    "lenName": 16,
    "lenType": 16,
    "lenVar": 40
   },
   "kernels_config": {
    "python": {
     "delete_cmd_postfix": "",
     "delete_cmd_prefix": "del ",
     "library": "var_list.py",
     "varRefreshCmd": "print(var_dic_list())"
    },
    "r": {
     "delete_cmd_postfix": ") ",
     "delete_cmd_prefix": "rm(",
     "library": "var_list.r",
     "varRefreshCmd": "cat(var_dic_list()) "
    }
   },
   "types_to_exclude": [
    "module",
    "function",
    "builtin_function_or_method",
    "instance",
    "_Feature"
   ],
   "window_display": false
  }
 },
 "nbformat": 4,
 "nbformat_minor": 5
}
