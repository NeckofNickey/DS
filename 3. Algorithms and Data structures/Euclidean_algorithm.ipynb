{
 "cells": [
  {
   "cell_type": "markdown",
   "id": "d5a85099",
   "metadata": {},
   "source": [
    "### Task: find greatest common divisor (GCD)\n"
   ]
  },
  {
   "cell_type": "code",
   "execution_count": 6,
   "id": "3247820c",
   "metadata": {},
   "outputs": [
    {
     "data": {
      "text/plain": [
       "1"
      ]
     },
     "execution_count": 6,
     "metadata": {},
     "output_type": "execute_result"
    },
    {
     "data": {
      "text/plain": [
       "9"
      ]
     },
     "execution_count": 6,
     "metadata": {},
     "output_type": "execute_result"
    },
    {
     "data": {
      "text/plain": [
       "7"
      ]
     },
     "execution_count": 6,
     "metadata": {},
     "output_type": "execute_result"
    }
   ],
   "source": [
    "from IPython.core.interactiveshell import InteractiveShell \n",
    "InteractiveShell.ast_node_interactivity = \"all\" #print all out\n",
    "\n",
    "\n",
    "def find_GCD(a, b):\n",
    "    while (a!=0) and (b!=0):\n",
    "        if a < b: \n",
    "            b %= a\n",
    "        else:\n",
    "            a %= b\n",
    "    return a + b\n",
    "\n",
    "\n",
    "find_GCD(5, 3)\n",
    "find_GCD(9, 81)\n",
    "find_GCD(15344, 2541)"
   ]
  }
 ],
 "metadata": {
  "kernelspec": {
   "display_name": "Python 3",
   "language": "python",
   "name": "python3"
  },
  "language_info": {
   "codemirror_mode": {
    "name": "ipython",
    "version": 3
   },
   "file_extension": ".py",
   "mimetype": "text/x-python",
   "name": "python",
   "nbconvert_exporter": "python",
   "pygments_lexer": "ipython3",
   "version": "3.9.4"
  }
 },
 "nbformat": 4,
 "nbformat_minor": 5
}
