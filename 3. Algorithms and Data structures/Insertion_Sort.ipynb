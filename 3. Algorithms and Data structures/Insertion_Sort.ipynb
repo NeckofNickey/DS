{
 "cells": [
  {
   "cell_type": "markdown",
   "id": "49c9d009",
   "metadata": {},
   "source": [
    "# Insertion Sort"
   ]
  },
  {
   "cell_type": "code",
   "execution_count": 1,
   "id": "2ec4c67f",
   "metadata": {},
   "outputs": [
    {
     "data": {
      "text/plain": [
       "[2, 3, 3, 6, 7, 9, 12, 13]"
      ]
     },
     "execution_count": 1,
     "metadata": {},
     "output_type": "execute_result"
    }
   ],
   "source": [
    "arr = [13, 6, 3, 7, 12, 9, 3, 2]\n",
    "\n",
    "for i in range(0, len(arr)): \n",
    "    j=i\n",
    "\n",
    "    while j>0 and arr[j-1] > arr[j]:\n",
    "        arr[j-1], arr[j] = arr[j], arr[j-1]\n",
    "\n",
    "        j -= 1\n",
    "\n",
    "arr"
   ]
  },
  {
   "cell_type": "code",
   "execution_count": null,
   "id": "3a06e5ef",
   "metadata": {},
   "outputs": [],
   "source": []
  }
 ],
 "metadata": {
  "kernelspec": {
   "display_name": "Python 3",
   "language": "python",
   "name": "python3"
  },
  "language_info": {
   "codemirror_mode": {
    "name": "ipython",
    "version": 3
   },
   "file_extension": ".py",
   "mimetype": "text/x-python",
   "name": "python",
   "nbconvert_exporter": "python",
   "pygments_lexer": "ipython3",
   "version": "3.9.4"
  }
 },
 "nbformat": 4,
 "nbformat_minor": 5
}
