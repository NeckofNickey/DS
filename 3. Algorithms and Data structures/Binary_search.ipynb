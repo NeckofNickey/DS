{
 "cells": [
  {
   "cell_type": "markdown",
   "id": "72c45e60",
   "metadata": {},
   "source": [
    " # Binary search"
   ]
  },
  {
   "cell_type": "markdown",
   "id": "098ab2c5",
   "metadata": {},
   "source": [
    "Given an array of integers nums which is sorted in ascending order, and an integer target. \n",
    "\n",
    "This function searches target in nums. If target exists, then return its index. Otherwise, return -1."
   ]
  },
  {
   "cell_type": "code",
   "execution_count": 3,
   "id": "ef514d38",
   "metadata": {},
   "outputs": [
    {
     "data": {
      "text/plain": [
       "-1"
      ]
     },
     "execution_count": 3,
     "metadata": {},
     "output_type": "execute_result"
    }
   ],
   "source": [
    "from IPython.core.interactiveshell import InteractiveShell \n",
    "InteractiveShell.ast_node_interactivity = \"all\" #print all out\n",
    "\n",
    "def search(nums, target):\n",
    "\n",
    "    start = 0 \n",
    "    end = len(nums)-1\n",
    "    index = -1\n",
    "\n",
    "    while (index==-1) and start<=end:\n",
    "        mid = start + (end - start)//2\n",
    "\n",
    "        if nums[mid] == target:\n",
    "            index = mid\n",
    "        if target < nums[mid]:\n",
    "            end = mid - 1\n",
    "        else:\n",
    "            start = mid + 1\n",
    "    return index\n",
    "\n",
    "nums = range(1, 10)\n",
    "\n",
    "search(nums, 6)\n",
    "search(nums, 0)"
   ]
  },
  {
   "cell_type": "markdown",
   "id": "0a49ed04",
   "metadata": {},
   "source": [
    "Given a sorted array of distinct integers and a target value, return the index if the target is found. If not, return the index where it would be if it were inserted in order"
   ]
  },
  {
   "cell_type": "code",
   "execution_count": 6,
   "id": "91fca514",
   "metadata": {},
   "outputs": [
    {
     "data": {
      "text/plain": [
       "2"
      ]
     },
     "execution_count": 6,
     "metadata": {},
     "output_type": "execute_result"
    },
    {
     "data": {
      "text/plain": [
       "3"
      ]
     },
     "execution_count": 6,
     "metadata": {},
     "output_type": "execute_result"
    },
    {
     "data": {
      "text/plain": [
       "3"
      ]
     },
     "execution_count": 6,
     "metadata": {},
     "output_type": "execute_result"
    }
   ],
   "source": [
    "def searchorInsert(nums, target):\n",
    "\n",
    "    start = 0\n",
    "    end = len(nums)-1\n",
    "\n",
    "    index = -1\n",
    "\n",
    "    while (index == -1) and start <= end:\n",
    "        mid = start + (end - start) // 2\n",
    "\n",
    "        if nums[mid] == target:\n",
    "            index = mid\n",
    "        if nums[mid] < target:\n",
    "            start = mid + 1\n",
    "        else:\n",
    "            end = mid - 1\n",
    "        if start > end:\n",
    "            index = start\n",
    "    return index\n",
    "\n",
    "nums = range(1, 10, 2)\n",
    "\n",
    "searchorInsert(nums, 5)\n",
    "searchorInsert(nums, 6)\n",
    "searchorInsert(nums, 7)"
   ]
  },
  {
   "cell_type": "code",
   "execution_count": null,
   "id": "e2fdbfef",
   "metadata": {},
   "outputs": [],
   "source": []
  }
 ],
 "metadata": {
  "kernelspec": {
   "display_name": "Python 3",
   "language": "python",
   "name": "python3"
  },
  "language_info": {
   "codemirror_mode": {
    "name": "ipython",
    "version": 3
   },
   "file_extension": ".py",
   "mimetype": "text/x-python",
   "name": "python",
   "nbconvert_exporter": "python",
   "pygments_lexer": "ipython3",
   "version": "3.9.4"
  }
 },
 "nbformat": 4,
 "nbformat_minor": 5
}
