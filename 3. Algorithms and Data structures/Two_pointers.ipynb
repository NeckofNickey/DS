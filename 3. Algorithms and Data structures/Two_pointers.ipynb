{
 "cells": [
  {
   "cell_type": "markdown",
   "metadata": {},
   "source": [
    "### 1. Given an integer array nums sorted in non-decreasing order, return an array of the squares of each number sorted in non-decreasing order."
   ]
  },
  {
   "cell_type": "code",
   "execution_count": 3,
   "metadata": {},
   "outputs": [
    {
     "data": {
      "text/plain": [
       "[0, 1, 9, 16, 100]"
      ]
     },
     "execution_count": 3,
     "metadata": {},
     "output_type": "execute_result"
    }
   ],
   "source": [
    "nums = [-4,-1,0,3,10]\n",
    "\n",
    "def sorted_squares(nums):\n",
    "    \n",
    "    ans_list = [0] * len(nums)\n",
    "    \n",
    "    left_point, right_point, end_point = 0, len(nums)-1, len(ans_list)-1\n",
    "    \n",
    "    while left_point <= right_point:\n",
    "        if nums[left_point]**2 > nums[right_point]**2:\n",
    "            ans_list[end_point] = nums[left_point]**2\n",
    "            end_point -= 1\n",
    "            left_point += 1\n",
    "        else:\n",
    "            ans_list[end_point] = nums[right_point]**2\n",
    "            end_point -= 1\n",
    "            right_point -= 1\n",
    "    \n",
    "    return ans_list\n",
    "\n",
    "sorted_squares(nums)"
   ]
  },
  {
   "cell_type": "markdown",
   "metadata": {},
   "source": [
    "### 2. Given an array, rotate the array to the right by k steps, where k is non-negative."
   ]
  },
  {
   "cell_type": "code",
   "execution_count": 13,
   "metadata": {},
   "outputs": [
    {
     "name": "stdout",
     "output_type": "stream",
     "text": [
      "[8, 7, 6, 5, 4, 3, 2, 1]\n",
      "[8, 7, 6, 1, 2, 3, 4, 5]\n"
     ]
    },
    {
     "data": {
      "text/plain": [
       "[6, 7, 8, 1, 2, 3, 4, 5]"
      ]
     },
     "execution_count": 13,
     "metadata": {},
     "output_type": "execute_result"
    }
   ],
   "source": [
    "nums = [1,2,3,4,5,6,7,8]\n",
    "\n",
    "\n",
    "def rotate(nums, k):\n",
    "\n",
    "    left, right = 0, len(nums) - 1\n",
    "\n",
    "    k = k % len(nums)\n",
    "\n",
    "    while left < right:\n",
    "        nums[left], nums[right] = nums[right], nums[left]\n",
    "        left, right = left + 1, right - 1\n",
    "\n",
    "    left, right = k, len(nums) - 1   \n",
    "    while left < right:\n",
    "        nums[left], nums[right] = nums[right], nums[left]\n",
    "        left, right = left + 1, right - 1\n",
    "\n",
    "    left, right = 0, k - 1   \n",
    "    while left < right:\n",
    "        nums[left], nums[right] = nums[right], nums[left]\n",
    "        left, right = left + 1, right - 1   \n",
    "\n",
    "    return nums\n",
    "\n",
    "rotate(nums, 3)"
   ]
  },
  {
   "cell_type": "code",
   "execution_count": null,
   "metadata": {},
   "outputs": [],
   "source": [
    " "
   ]
  }
 ],
 "metadata": {
  "kernelspec": {
   "display_name": "Python 3",
   "language": "python",
   "name": "python3"
  },
  "language_info": {
   "codemirror_mode": {
    "name": "ipython",
    "version": 3
   },
   "file_extension": ".py",
   "mimetype": "text/x-python",
   "name": "python",
   "nbconvert_exporter": "python",
   "pygments_lexer": "ipython3",
   "version": "3.9.4"
  }
 },
 "nbformat": 4,
 "nbformat_minor": 4
}
