{
 "cells": [
  {
   "cell_type": "markdown",
   "id": "7e4ee100",
   "metadata": {},
   "source": [
    "# Create LinkedList."
   ]
  },
  {
   "cell_type": "code",
   "execution_count": 2,
   "id": "546284e9",
   "metadata": {},
   "outputs": [
    {
     "name": "stdout",
     "output_type": "stream",
     "text": [
      "2 5\n",
      "4 6\n",
      "3 4\n"
     ]
    }
   ],
   "source": [
    "l1 = [2,4,3] \n",
    "l2 = [5,6,4]\n",
    "\n",
    "class LinkedNode():\n",
    "    \n",
    "    def __init__(self, val):\n",
    "        self.val = val\n",
    "        self.next = None\n",
    "    \n",
    "    def append(self, val):\n",
    "        end = LinkedNode(val)\n",
    "        n = self\n",
    "        while n.next:\n",
    "            n = n.next\n",
    "        n.next = end\n",
    "        \n",
    "ln_1 = LinkedNode(0)\n",
    "ln_2 = LinkedNode(0)\n",
    "\n",
    "for num in l1:\n",
    "    ln_1.append(num)\n",
    "    \n",
    "for num in l2:\n",
    "    ln_2.append(num)\n",
    "\n",
    "l1 = ln_1.next\n",
    "l2 = ln_2.next\n",
    "\n",
    "cur1 = l1\n",
    "cur2 = l2\n",
    "\n",
    "while cur1 and cur2:\n",
    "    print(cur1.val, cur2.val)\n",
    "    cur1 = cur1.next\n",
    "    cur2 = cur2.next"
   ]
  },
  {
   "cell_type": "code",
   "execution_count": null,
   "id": "a7947a3a",
   "metadata": {},
   "outputs": [],
   "source": []
  }
 ],
 "metadata": {
  "kernelspec": {
   "display_name": "Python 3",
   "language": "python",
   "name": "python3"
  },
  "language_info": {
   "codemirror_mode": {
    "name": "ipython",
    "version": 3
   },
   "file_extension": ".py",
   "mimetype": "text/x-python",
   "name": "python",
   "nbconvert_exporter": "python",
   "pygments_lexer": "ipython3",
   "version": "3.9.4"
  }
 },
 "nbformat": 4,
 "nbformat_minor": 5
}
